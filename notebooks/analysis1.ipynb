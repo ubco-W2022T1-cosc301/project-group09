{
 "cells": [
  {
   "cell_type": "markdown",
   "metadata": {},
   "source": [
    "# Rebecca Martell"
   ]
  },
  {
   "cell_type": "markdown",
   "metadata": {},
   "source": [
    "## Research question/interests\n",
    "\n",
    "I am interested in exploring the relationship between the race of the victims and the states that police fatalities occur in (location). I believe that by exploring this relationship, it may provide insight into whether the views and prejudices potentially held by police officers in each state, may contribute to whether a specific race is disproportionally impacted by police fatalities."
   ]
  },
  {
   "cell_type": "markdown",
   "metadata": {},
   "source": [
    "## My Exploratory Data Analysis"
   ]
  },
  {
   "cell_type": "markdown",
   "metadata": {},
   "source": [
    "**EDA Step 1: Describing The Dataset**"
   ]
  },
  {
   "cell_type": "markdown",
   "metadata": {},
   "source": [
    "The data set we have chosen was provided on data.world by Chris Awram who collected from the following sources: fatalencounters.org, gunviolencearchive.org, and github.com/washingtonpost/data-police-shootings. The dataset consists of twelve columns or variables, including UID (identification number), name, age, gender, race, date, city, state, manner of death, whether they were armed, mental illness, and if they were fleeing. There are 12491 rows or occurrences in the dataset, which were collected across the years 2000 to 2016. The purpose of this dataset is to give insights into variables related to individuals killed by the police in the United States. The dataset was likely uploaded for public interest and to allow people to do analyses to improve understanding of police related deaths. Improved understanding of police related deaths can help spur the enforcement of new standards of transparency and accountability for the behaviour of law enforcement. It is not entirely clear how the data was collected by the original sources, but I speculate it came from historical records digitized. There was some data cleaning done by Chris Awram."
   ]
  },
  {
   "cell_type": "markdown",
   "metadata": {},
   "source": [
    "**EDA Step 2: Loading the Data**"
   ]
  },
  {
   "cell_type": "code",
   "execution_count": null,
   "metadata": {},
   "outputs": [],
   "source": [
    "import pandas as pd\n",
    "import numpy as np\n",
    "import seaborn as sns\n",
    "import os\n",
    "import matplotlib.pyplot as plt\n",
    "from pandas_profiling import ProfileReport\n"
   ]
  },
  {
   "cell_type": "code",
   "execution_count": null,
   "metadata": {},
   "outputs": [
    {
     "data": {
      "text/plain": [
       "'1.4.3'"
      ]
     },
     "execution_count": null,
     "metadata": {},
     "output_type": "execute_result"
    }
   ],
   "source": [
    "pd.__version__"
   ]
  },
  {
   "cell_type": "code",
   "execution_count": null,
   "metadata": {},
   "outputs": [
    {
     "data": {
      "text/html": [
       "<div>\n",
       "<style scoped>\n",
       "    .dataframe tbody tr th:only-of-type {\n",
       "        vertical-align: middle;\n",
       "    }\n",
       "\n",
       "    .dataframe tbody tr th {\n",
       "        vertical-align: top;\n",
       "    }\n",
       "\n",
       "    .dataframe thead th {\n",
       "        text-align: right;\n",
       "    }\n",
       "</style>\n",
       "<table border=\"1\" class=\"dataframe\">\n",
       "  <thead>\n",
       "    <tr style=\"text-align: right;\">\n",
       "      <th></th>\n",
       "      <th>UID</th>\n",
       "      <th>Name</th>\n",
       "      <th>Age</th>\n",
       "      <th>Gender</th>\n",
       "      <th>Race</th>\n",
       "      <th>Date</th>\n",
       "      <th>City</th>\n",
       "      <th>State</th>\n",
       "      <th>Manner_of_death</th>\n",
       "      <th>Armed</th>\n",
       "      <th>Mental_illness</th>\n",
       "      <th>Flee</th>\n",
       "    </tr>\n",
       "  </thead>\n",
       "  <tbody>\n",
       "    <tr>\n",
       "      <th>0</th>\n",
       "      <td>133</td>\n",
       "      <td>Karen O. Chin</td>\n",
       "      <td>44.0</td>\n",
       "      <td>Female</td>\n",
       "      <td>Asian</td>\n",
       "      <td>5/4/2000</td>\n",
       "      <td>Alameda</td>\n",
       "      <td>CA</td>\n",
       "      <td>Shot</td>\n",
       "      <td>NaN</td>\n",
       "      <td>False</td>\n",
       "      <td>False</td>\n",
       "    </tr>\n",
       "    <tr>\n",
       "      <th>1</th>\n",
       "      <td>169</td>\n",
       "      <td>Chyraphone Komvongsa</td>\n",
       "      <td>26.0</td>\n",
       "      <td>Male</td>\n",
       "      <td>Asian</td>\n",
       "      <td>6/2/2000</td>\n",
       "      <td>Fresno</td>\n",
       "      <td>CA</td>\n",
       "      <td>Shot</td>\n",
       "      <td>NaN</td>\n",
       "      <td>False</td>\n",
       "      <td>False</td>\n",
       "    </tr>\n",
       "    <tr>\n",
       "      <th>2</th>\n",
       "      <td>257</td>\n",
       "      <td>Ming Chinh Ly</td>\n",
       "      <td>36.0</td>\n",
       "      <td>Male</td>\n",
       "      <td>Asian</td>\n",
       "      <td>8/13/2000</td>\n",
       "      <td>Rosemead</td>\n",
       "      <td>CA</td>\n",
       "      <td>Shot</td>\n",
       "      <td>Gun</td>\n",
       "      <td>False</td>\n",
       "      <td>False</td>\n",
       "    </tr>\n",
       "    <tr>\n",
       "      <th>3</th>\n",
       "      <td>483</td>\n",
       "      <td>Kinh Quoc Dao</td>\n",
       "      <td>29.0</td>\n",
       "      <td>Male</td>\n",
       "      <td>Asian</td>\n",
       "      <td>2/9/2001</td>\n",
       "      <td>Valley Glen</td>\n",
       "      <td>CA</td>\n",
       "      <td>Shot</td>\n",
       "      <td>Gun</td>\n",
       "      <td>False</td>\n",
       "      <td>False</td>\n",
       "    </tr>\n",
       "    <tr>\n",
       "      <th>4</th>\n",
       "      <td>655</td>\n",
       "      <td>Vanpaseuth Phaisouphanh</td>\n",
       "      <td>25.0</td>\n",
       "      <td>Male</td>\n",
       "      <td>Asian</td>\n",
       "      <td>6/10/2001</td>\n",
       "      <td>Riverside</td>\n",
       "      <td>CA</td>\n",
       "      <td>Shot</td>\n",
       "      <td>Knife</td>\n",
       "      <td>False</td>\n",
       "      <td>False</td>\n",
       "    </tr>\n",
       "    <tr>\n",
       "      <th>...</th>\n",
       "      <td>...</td>\n",
       "      <td>...</td>\n",
       "      <td>...</td>\n",
       "      <td>...</td>\n",
       "      <td>...</td>\n",
       "      <td>...</td>\n",
       "      <td>...</td>\n",
       "      <td>...</td>\n",
       "      <td>...</td>\n",
       "      <td>...</td>\n",
       "      <td>...</td>\n",
       "      <td>...</td>\n",
       "    </tr>\n",
       "    <tr>\n",
       "      <th>12486</th>\n",
       "      <td>12388</td>\n",
       "      <td>Name withheld by police</td>\n",
       "      <td>NaN</td>\n",
       "      <td>Male</td>\n",
       "      <td>NaN</td>\n",
       "      <td>12/9/2008</td>\n",
       "      <td>Sacramento</td>\n",
       "      <td>CA</td>\n",
       "      <td>Other</td>\n",
       "      <td>NaN</td>\n",
       "      <td>False</td>\n",
       "      <td>False</td>\n",
       "    </tr>\n",
       "    <tr>\n",
       "      <th>12487</th>\n",
       "      <td>12429</td>\n",
       "      <td>Gene Lovell Ford</td>\n",
       "      <td>48.0</td>\n",
       "      <td>Male</td>\n",
       "      <td>NaN</td>\n",
       "      <td>8/6/2008</td>\n",
       "      <td>Sacramento</td>\n",
       "      <td>CA</td>\n",
       "      <td>Other</td>\n",
       "      <td>NaN</td>\n",
       "      <td>True</td>\n",
       "      <td>False</td>\n",
       "    </tr>\n",
       "    <tr>\n",
       "      <th>12488</th>\n",
       "      <td>12430</td>\n",
       "      <td>Jose Vega</td>\n",
       "      <td>38.0</td>\n",
       "      <td>Male</td>\n",
       "      <td>NaN</td>\n",
       "      <td>8/6/2008</td>\n",
       "      <td>Visalia</td>\n",
       "      <td>CA</td>\n",
       "      <td>Other</td>\n",
       "      <td>NaN</td>\n",
       "      <td>True</td>\n",
       "      <td>False</td>\n",
       "    </tr>\n",
       "    <tr>\n",
       "      <th>12489</th>\n",
       "      <td>12636</td>\n",
       "      <td>Humberto Torres</td>\n",
       "      <td>41.0</td>\n",
       "      <td>Male</td>\n",
       "      <td>NaN</td>\n",
       "      <td>3/21/2009</td>\n",
       "      <td>Delano</td>\n",
       "      <td>CA</td>\n",
       "      <td>Other</td>\n",
       "      <td>Gun</td>\n",
       "      <td>False</td>\n",
       "      <td>False</td>\n",
       "    </tr>\n",
       "    <tr>\n",
       "      <th>12490</th>\n",
       "      <td>12861</td>\n",
       "      <td>Name withheld by police</td>\n",
       "      <td>39.0</td>\n",
       "      <td>Male</td>\n",
       "      <td>NaN</td>\n",
       "      <td>1/15/2010</td>\n",
       "      <td>Los Angeles</td>\n",
       "      <td>CA</td>\n",
       "      <td>Other</td>\n",
       "      <td>NaN</td>\n",
       "      <td>False</td>\n",
       "      <td>False</td>\n",
       "    </tr>\n",
       "  </tbody>\n",
       "</table>\n",
       "<p>12491 rows × 12 columns</p>\n",
       "</div>"
      ],
      "text/plain": [
       "         UID                     Name   Age  Gender   Race       Date  \\\n",
       "0        133            Karen O. Chin  44.0  Female  Asian   5/4/2000   \n",
       "1        169     Chyraphone Komvongsa  26.0    Male  Asian   6/2/2000   \n",
       "2        257            Ming Chinh Ly  36.0    Male  Asian  8/13/2000   \n",
       "3        483            Kinh Quoc Dao  29.0    Male  Asian   2/9/2001   \n",
       "4        655  Vanpaseuth Phaisouphanh  25.0    Male  Asian  6/10/2001   \n",
       "...      ...                      ...   ...     ...    ...        ...   \n",
       "12486  12388  Name withheld by police   NaN    Male    NaN  12/9/2008   \n",
       "12487  12429         Gene Lovell Ford  48.0    Male    NaN   8/6/2008   \n",
       "12488  12430                Jose Vega  38.0    Male    NaN   8/6/2008   \n",
       "12489  12636          Humberto Torres  41.0    Male    NaN  3/21/2009   \n",
       "12490  12861  Name withheld by police  39.0    Male    NaN  1/15/2010   \n",
       "\n",
       "              City State Manner_of_death  Armed  Mental_illness   Flee  \n",
       "0          Alameda    CA            Shot    NaN           False  False  \n",
       "1           Fresno    CA            Shot    NaN           False  False  \n",
       "2         Rosemead    CA            Shot    Gun           False  False  \n",
       "3      Valley Glen    CA            Shot    Gun           False  False  \n",
       "4        Riverside    CA            Shot  Knife           False  False  \n",
       "...            ...   ...             ...    ...             ...    ...  \n",
       "12486   Sacramento    CA           Other    NaN           False  False  \n",
       "12487   Sacramento    CA           Other    NaN            True  False  \n",
       "12488      Visalia    CA           Other    NaN            True  False  \n",
       "12489       Delano    CA           Other    Gun           False  False  \n",
       "12490  Los Angeles    CA           Other    NaN           False  False  \n",
       "\n",
       "[12491 rows x 12 columns]"
      ]
     },
     "execution_count": null,
     "metadata": {},
     "output_type": "execute_result"
    }
   ],
   "source": [
    "df = pd.read_csv('../data/raw/data.csv',encoding=\"ISO-8859-1\")\n",
    "df"
   ]
  },
  {
   "cell_type": "markdown",
   "metadata": {},
   "source": [
    "**EDA Step 3:Exploring the Data**"
   ]
  },
  {
   "cell_type": "code",
   "execution_count": null,
   "metadata": {},
   "outputs": [
    {
     "name": "stdout",
     "output_type": "stream",
     "text": [
      "<class 'pandas.core.frame.DataFrame'>\n",
      "RangeIndex: 12491 entries, 0 to 12490\n",
      "Data columns (total 12 columns):\n",
      " #   Column           Non-Null Count  Dtype  \n",
      "---  ------           --------------  -----  \n",
      " 0   UID              12491 non-null  int64  \n",
      " 1   Name             12491 non-null  object \n",
      " 2   Age              12258 non-null  float64\n",
      " 3   Gender           12483 non-null  object \n",
      " 4   Race             8526 non-null   object \n",
      " 5   Date             12491 non-null  object \n",
      " 6   City             12487 non-null  object \n",
      " 7   State            12491 non-null  object \n",
      " 8   Manner_of_death  12491 non-null  object \n",
      " 9   Armed            6814 non-null   object \n",
      " 10  Mental_illness   12491 non-null  bool   \n",
      " 11  Flee             12491 non-null  bool   \n",
      "dtypes: bool(2), float64(1), int64(1), object(8)\n",
      "memory usage: 1000.4+ KB\n"
     ]
    },
    {
     "data": {
      "text/plain": [
       "(12491, 12)"
      ]
     },
     "execution_count": null,
     "metadata": {},
     "output_type": "execute_result"
    }
   ],
   "source": [
    "df.info()\n",
    "df.shape\n",
    "\n",
    "# As seen in the RangeIndex and df.shape output, we have 12,491 entries and a total of 12 columns.\n",
    "# The columns I am interested in include: 1)Race (object), 2)Date (object), 3)City (object), 4)State (object)"
   ]
  },
  {
   "cell_type": "code",
   "execution_count": null,
   "metadata": {},
   "outputs": [
    {
     "data": {
      "text/html": [
       "<div>\n",
       "<style scoped>\n",
       "    .dataframe tbody tr th:only-of-type {\n",
       "        vertical-align: middle;\n",
       "    }\n",
       "\n",
       "    .dataframe tbody tr th {\n",
       "        vertical-align: top;\n",
       "    }\n",
       "\n",
       "    .dataframe thead th {\n",
       "        text-align: right;\n",
       "    }\n",
       "</style>\n",
       "<table border=\"1\" class=\"dataframe\">\n",
       "  <thead>\n",
       "    <tr style=\"text-align: right;\">\n",
       "      <th></th>\n",
       "      <th>UID</th>\n",
       "      <th>Name</th>\n",
       "      <th>Age</th>\n",
       "      <th>Gender</th>\n",
       "      <th>Race</th>\n",
       "      <th>Date</th>\n",
       "      <th>City</th>\n",
       "      <th>State</th>\n",
       "      <th>Manner_of_death</th>\n",
       "      <th>Armed</th>\n",
       "      <th>Mental_illness</th>\n",
       "      <th>Flee</th>\n",
       "    </tr>\n",
       "  </thead>\n",
       "  <tbody>\n",
       "    <tr>\n",
       "      <th>0</th>\n",
       "      <td>133</td>\n",
       "      <td>Karen O. Chin</td>\n",
       "      <td>44.0</td>\n",
       "      <td>Female</td>\n",
       "      <td>Asian</td>\n",
       "      <td>5/4/2000</td>\n",
       "      <td>Alameda</td>\n",
       "      <td>CA</td>\n",
       "      <td>Shot</td>\n",
       "      <td>NaN</td>\n",
       "      <td>False</td>\n",
       "      <td>False</td>\n",
       "    </tr>\n",
       "    <tr>\n",
       "      <th>1</th>\n",
       "      <td>169</td>\n",
       "      <td>Chyraphone Komvongsa</td>\n",
       "      <td>26.0</td>\n",
       "      <td>Male</td>\n",
       "      <td>Asian</td>\n",
       "      <td>6/2/2000</td>\n",
       "      <td>Fresno</td>\n",
       "      <td>CA</td>\n",
       "      <td>Shot</td>\n",
       "      <td>NaN</td>\n",
       "      <td>False</td>\n",
       "      <td>False</td>\n",
       "    </tr>\n",
       "    <tr>\n",
       "      <th>2</th>\n",
       "      <td>257</td>\n",
       "      <td>Ming Chinh Ly</td>\n",
       "      <td>36.0</td>\n",
       "      <td>Male</td>\n",
       "      <td>Asian</td>\n",
       "      <td>8/13/2000</td>\n",
       "      <td>Rosemead</td>\n",
       "      <td>CA</td>\n",
       "      <td>Shot</td>\n",
       "      <td>Gun</td>\n",
       "      <td>False</td>\n",
       "      <td>False</td>\n",
       "    </tr>\n",
       "    <tr>\n",
       "      <th>3</th>\n",
       "      <td>483</td>\n",
       "      <td>Kinh Quoc Dao</td>\n",
       "      <td>29.0</td>\n",
       "      <td>Male</td>\n",
       "      <td>Asian</td>\n",
       "      <td>2/9/2001</td>\n",
       "      <td>Valley Glen</td>\n",
       "      <td>CA</td>\n",
       "      <td>Shot</td>\n",
       "      <td>Gun</td>\n",
       "      <td>False</td>\n",
       "      <td>False</td>\n",
       "    </tr>\n",
       "    <tr>\n",
       "      <th>4</th>\n",
       "      <td>655</td>\n",
       "      <td>Vanpaseuth Phaisouphanh</td>\n",
       "      <td>25.0</td>\n",
       "      <td>Male</td>\n",
       "      <td>Asian</td>\n",
       "      <td>6/10/2001</td>\n",
       "      <td>Riverside</td>\n",
       "      <td>CA</td>\n",
       "      <td>Shot</td>\n",
       "      <td>Knife</td>\n",
       "      <td>False</td>\n",
       "      <td>False</td>\n",
       "    </tr>\n",
       "  </tbody>\n",
       "</table>\n",
       "</div>"
      ],
      "text/plain": [
       "   UID                     Name   Age  Gender   Race       Date         City  \\\n",
       "0  133            Karen O. Chin  44.0  Female  Asian   5/4/2000      Alameda   \n",
       "1  169     Chyraphone Komvongsa  26.0    Male  Asian   6/2/2000       Fresno   \n",
       "2  257            Ming Chinh Ly  36.0    Male  Asian  8/13/2000     Rosemead   \n",
       "3  483            Kinh Quoc Dao  29.0    Male  Asian   2/9/2001  Valley Glen   \n",
       "4  655  Vanpaseuth Phaisouphanh  25.0    Male  Asian  6/10/2001    Riverside   \n",
       "\n",
       "  State Manner_of_death  Armed  Mental_illness   Flee  \n",
       "0    CA            Shot    NaN           False  False  \n",
       "1    CA            Shot    NaN           False  False  \n",
       "2    CA            Shot    Gun           False  False  \n",
       "3    CA            Shot    Gun           False  False  \n",
       "4    CA            Shot  Knife           False  False  "
      ]
     },
     "execution_count": null,
     "metadata": {},
     "output_type": "execute_result"
    }
   ],
   "source": [
    "#Preview of dataset\n",
    "df.head()"
   ]
  },
  {
   "cell_type": "code",
   "execution_count": null,
   "metadata": {},
   "outputs": [
    {
     "name": "stdout",
     "output_type": "stream",
     "text": [
      "True\n"
     ]
    },
    {
     "data": {
      "text/plain": [
       "UID                   0\n",
       "Name                  0\n",
       "Age                 233\n",
       "Gender                8\n",
       "Race               3965\n",
       "Date                  0\n",
       "City                  4\n",
       "State                 0\n",
       "Manner_of_death       0\n",
       "Armed              5677\n",
       "Mental_illness        0\n",
       "Flee                  0\n",
       "dtype: int64"
      ]
     },
     "execution_count": null,
     "metadata": {},
     "output_type": "execute_result"
    }
   ],
   "source": [
    "# Null Values\n",
    "anyNullVal = df.isnull().values.any()\n",
    "print(anyNullVal) #This shows us that there are null values present in this dataset\n",
    "\n",
    "df.isnull().sum() #This shows how many null values are within each column.\n",
    "# As seen, there are 3965 null values within the Race column, 0 null values in the Date column, 4 null values in the City column and 0 null values in the State column."
   ]
  },
  {
   "cell_type": "code",
   "execution_count": null,
   "metadata": {},
   "outputs": [
    {
     "data": {
      "text/plain": [
       "Index(['UID', 'Name', 'Age', 'Gender', 'Race', 'Date', 'City', 'State',\n",
       "       'Manner_of_death', 'Armed', 'Mental_illness', 'Flee'],\n",
       "      dtype='object')"
      ]
     },
     "execution_count": null,
     "metadata": {},
     "output_type": "execute_result"
    }
   ],
   "source": [
    "# Column Names\n",
    "df.columns"
   ]
  },
  {
   "cell_type": "code",
   "execution_count": null,
   "metadata": {},
   "outputs": [
    {
     "data": {
      "text/plain": [
       "UID                12488\n",
       "Name               11354\n",
       "Age                   92\n",
       "Gender                 2\n",
       "Race                   6\n",
       "Date                4848\n",
       "City                3327\n",
       "State                 51\n",
       "Manner_of_death        4\n",
       "Armed                 59\n",
       "Mental_illness         2\n",
       "Flee                   2\n",
       "dtype: int64"
      ]
     },
     "execution_count": null,
     "metadata": {},
     "output_type": "execute_result"
    }
   ],
   "source": [
    "# Unique Values within the Dataset\n",
    "df.nunique()\n",
    "\n",
    "# There are 6 unique values in the Race column\n",
    "# There are 4848 unique values in the Date column\n",
    "# There are 3327 unique values in the City column\n",
    "# There are 51 unique values in the State column"
   ]
  },
  {
   "cell_type": "code",
   "execution_count": null,
   "metadata": {},
   "outputs": [
    {
     "data": {
      "text/plain": [
       "count      8526\n",
       "unique        6\n",
       "top       White\n",
       "freq       3855\n",
       "Name: Race, dtype: object"
      ]
     },
     "execution_count": null,
     "metadata": {},
     "output_type": "execute_result"
    }
   ],
   "source": [
    "# Description of the Column: \"Race\"\n",
    "df[\"Race\"].describe()\n",
    "\n",
    "# There are 6 unique values, so there are 6 different races mentioned in the dataset\n",
    "# The race that is the most common amoung police fatality victims is white\n",
    "# 3855 victims were white\n",
    "\n",
    "# Interesting to find that the top race amoung victims is white "
   ]
  },
  {
   "cell_type": "code",
   "execution_count": null,
   "metadata": {},
   "outputs": [
    {
     "data": {
      "text/plain": [
       "NaN         3965\n",
       "White       3855\n",
       "Black       2536\n",
       "Hispanic    1784\n",
       "Asian        173\n",
       "Native       130\n",
       "Other         48\n",
       "Name: Race, dtype: int64"
      ]
     },
     "execution_count": null,
     "metadata": {},
     "output_type": "execute_result"
    }
   ],
   "source": [
    "# Total Frequency of Each Race Present in Dataset\n",
    "df['Race'].value_counts(dropna=False)"
   ]
  },
  {
   "cell_type": "code",
   "execution_count": null,
   "metadata": {},
   "outputs": [
    {
     "data": {
      "text/plain": [
       "Race   State\n",
       "Asian  CA       97\n",
       "       MN       10\n",
       "       TX        8\n",
       "       NV        7\n",
       "       FL        5\n",
       "                ..\n",
       "White  DE       10\n",
       "       ND        6\n",
       "       HI        4\n",
       "       RI        4\n",
       "       DC        1\n",
       "Name: State, Length: 206, dtype: int64"
      ]
     },
     "execution_count": null,
     "metadata": {},
     "output_type": "execute_result"
    }
   ],
   "source": [
    "byRace = df.groupby(\"Race\").State.value_counts(dropna=False)\n",
    "byRace"
   ]
  },
  {
   "cell_type": "code",
   "execution_count": null,
   "metadata": {},
   "outputs": [
    {
     "data": {
      "text/plain": [
       "MultiIndex([('Asian', 'CA'),\n",
       "            ('Asian', 'MN'),\n",
       "            ('Asian', 'TX'),\n",
       "            ('Asian', 'NV'),\n",
       "            ('Asian', 'FL'),\n",
       "            ('Asian', 'CO'),\n",
       "            ('Asian', 'GA'),\n",
       "            ('Asian', 'NC'),\n",
       "            ('Asian', 'OR'),\n",
       "            ('Asian', 'WA'),\n",
       "            ...\n",
       "            ('White', 'SD'),\n",
       "            ('White', 'WY'),\n",
       "            ('White', 'AK'),\n",
       "            ('White', 'NH'),\n",
       "            ('White', 'VT'),\n",
       "            ('White', 'DE'),\n",
       "            ('White', 'ND'),\n",
       "            ('White', 'HI'),\n",
       "            ('White', 'RI'),\n",
       "            ('White', 'DC')],\n",
       "           names=['Race', 'State'], length=206)"
      ]
     },
     "execution_count": null,
     "metadata": {},
     "output_type": "execute_result"
    }
   ],
   "source": [
    "byRace.index"
   ]
  },
  {
   "cell_type": "code",
   "execution_count": null,
   "metadata": {},
   "outputs": [
    {
     "data": {
      "text/html": [
       "<div>\n",
       "<style scoped>\n",
       "    .dataframe tbody tr th:only-of-type {\n",
       "        vertical-align: middle;\n",
       "    }\n",
       "\n",
       "    .dataframe tbody tr th {\n",
       "        vertical-align: top;\n",
       "    }\n",
       "\n",
       "    .dataframe thead th {\n",
       "        text-align: right;\n",
       "    }\n",
       "</style>\n",
       "<table border=\"1\" class=\"dataframe\">\n",
       "  <thead>\n",
       "    <tr style=\"text-align: right;\">\n",
       "      <th>State</th>\n",
       "      <th>AK</th>\n",
       "      <th>AL</th>\n",
       "      <th>AR</th>\n",
       "      <th>AZ</th>\n",
       "      <th>CA</th>\n",
       "      <th>CO</th>\n",
       "      <th>CT</th>\n",
       "      <th>DC</th>\n",
       "      <th>DE</th>\n",
       "      <th>FL</th>\n",
       "      <th>...</th>\n",
       "      <th>SD</th>\n",
       "      <th>TN</th>\n",
       "      <th>TX</th>\n",
       "      <th>UT</th>\n",
       "      <th>VA</th>\n",
       "      <th>VT</th>\n",
       "      <th>WA</th>\n",
       "      <th>WI</th>\n",
       "      <th>WV</th>\n",
       "      <th>WY</th>\n",
       "    </tr>\n",
       "    <tr>\n",
       "      <th>Race</th>\n",
       "      <th></th>\n",
       "      <th></th>\n",
       "      <th></th>\n",
       "      <th></th>\n",
       "      <th></th>\n",
       "      <th></th>\n",
       "      <th></th>\n",
       "      <th></th>\n",
       "      <th></th>\n",
       "      <th></th>\n",
       "      <th></th>\n",
       "      <th></th>\n",
       "      <th></th>\n",
       "      <th></th>\n",
       "      <th></th>\n",
       "      <th></th>\n",
       "      <th></th>\n",
       "      <th></th>\n",
       "      <th></th>\n",
       "      <th></th>\n",
       "      <th></th>\n",
       "    </tr>\n",
       "  </thead>\n",
       "  <tbody>\n",
       "    <tr>\n",
       "      <th>Asian</th>\n",
       "      <td>NaN</td>\n",
       "      <td>1.0</td>\n",
       "      <td>NaN</td>\n",
       "      <td>1.0</td>\n",
       "      <td>97.0</td>\n",
       "      <td>4.0</td>\n",
       "      <td>1.0</td>\n",
       "      <td>NaN</td>\n",
       "      <td>NaN</td>\n",
       "      <td>5.0</td>\n",
       "      <td>...</td>\n",
       "      <td>NaN</td>\n",
       "      <td>2.0</td>\n",
       "      <td>8.0</td>\n",
       "      <td>1.0</td>\n",
       "      <td>2.0</td>\n",
       "      <td>NaN</td>\n",
       "      <td>4.0</td>\n",
       "      <td>1.0</td>\n",
       "      <td>NaN</td>\n",
       "      <td>NaN</td>\n",
       "    </tr>\n",
       "    <tr>\n",
       "      <th>Black</th>\n",
       "      <td>3.0</td>\n",
       "      <td>80.0</td>\n",
       "      <td>16.0</td>\n",
       "      <td>22.0</td>\n",
       "      <td>420.0</td>\n",
       "      <td>27.0</td>\n",
       "      <td>18.0</td>\n",
       "      <td>30.0</td>\n",
       "      <td>6.0</td>\n",
       "      <td>224.0</td>\n",
       "      <td>...</td>\n",
       "      <td>NaN</td>\n",
       "      <td>45.0</td>\n",
       "      <td>237.0</td>\n",
       "      <td>2.0</td>\n",
       "      <td>53.0</td>\n",
       "      <td>1.0</td>\n",
       "      <td>30.0</td>\n",
       "      <td>20.0</td>\n",
       "      <td>6.0</td>\n",
       "      <td>NaN</td>\n",
       "    </tr>\n",
       "    <tr>\n",
       "      <th>Hispanic</th>\n",
       "      <td>1.0</td>\n",
       "      <td>7.0</td>\n",
       "      <td>NaN</td>\n",
       "      <td>117.0</td>\n",
       "      <td>882.0</td>\n",
       "      <td>55.0</td>\n",
       "      <td>12.0</td>\n",
       "      <td>1.0</td>\n",
       "      <td>NaN</td>\n",
       "      <td>74.0</td>\n",
       "      <td>...</td>\n",
       "      <td>NaN</td>\n",
       "      <td>5.0</td>\n",
       "      <td>301.0</td>\n",
       "      <td>8.0</td>\n",
       "      <td>5.0</td>\n",
       "      <td>NaN</td>\n",
       "      <td>19.0</td>\n",
       "      <td>9.0</td>\n",
       "      <td>NaN</td>\n",
       "      <td>2.0</td>\n",
       "    </tr>\n",
       "    <tr>\n",
       "      <th>Native</th>\n",
       "      <td>12.0</td>\n",
       "      <td>NaN</td>\n",
       "      <td>NaN</td>\n",
       "      <td>23.0</td>\n",
       "      <td>20.0</td>\n",
       "      <td>3.0</td>\n",
       "      <td>NaN</td>\n",
       "      <td>NaN</td>\n",
       "      <td>NaN</td>\n",
       "      <td>1.0</td>\n",
       "      <td>...</td>\n",
       "      <td>11.0</td>\n",
       "      <td>NaN</td>\n",
       "      <td>2.0</td>\n",
       "      <td>2.0</td>\n",
       "      <td>NaN</td>\n",
       "      <td>1.0</td>\n",
       "      <td>14.0</td>\n",
       "      <td>NaN</td>\n",
       "      <td>NaN</td>\n",
       "      <td>1.0</td>\n",
       "    </tr>\n",
       "    <tr>\n",
       "      <th>Other</th>\n",
       "      <td>1.0</td>\n",
       "      <td>NaN</td>\n",
       "      <td>NaN</td>\n",
       "      <td>1.0</td>\n",
       "      <td>24.0</td>\n",
       "      <td>NaN</td>\n",
       "      <td>NaN</td>\n",
       "      <td>NaN</td>\n",
       "      <td>NaN</td>\n",
       "      <td>2.0</td>\n",
       "      <td>...</td>\n",
       "      <td>NaN</td>\n",
       "      <td>1.0</td>\n",
       "      <td>3.0</td>\n",
       "      <td>1.0</td>\n",
       "      <td>1.0</td>\n",
       "      <td>NaN</td>\n",
       "      <td>4.0</td>\n",
       "      <td>NaN</td>\n",
       "      <td>NaN</td>\n",
       "      <td>NaN</td>\n",
       "    </tr>\n",
       "    <tr>\n",
       "      <th>White</th>\n",
       "      <td>16.0</td>\n",
       "      <td>98.0</td>\n",
       "      <td>36.0</td>\n",
       "      <td>170.0</td>\n",
       "      <td>580.0</td>\n",
       "      <td>90.0</td>\n",
       "      <td>36.0</td>\n",
       "      <td>1.0</td>\n",
       "      <td>10.0</td>\n",
       "      <td>243.0</td>\n",
       "      <td>...</td>\n",
       "      <td>18.0</td>\n",
       "      <td>77.0</td>\n",
       "      <td>376.0</td>\n",
       "      <td>87.0</td>\n",
       "      <td>55.0</td>\n",
       "      <td>11.0</td>\n",
       "      <td>177.0</td>\n",
       "      <td>55.0</td>\n",
       "      <td>30.0</td>\n",
       "      <td>18.0</td>\n",
       "    </tr>\n",
       "  </tbody>\n",
       "</table>\n",
       "<p>6 rows × 51 columns</p>\n",
       "</div>"
      ],
      "text/plain": [
       "State       AK    AL    AR     AZ     CA    CO    CT    DC    DE     FL  ...  \\\n",
       "Race                                                                     ...   \n",
       "Asian      NaN   1.0   NaN    1.0   97.0   4.0   1.0   NaN   NaN    5.0  ...   \n",
       "Black      3.0  80.0  16.0   22.0  420.0  27.0  18.0  30.0   6.0  224.0  ...   \n",
       "Hispanic   1.0   7.0   NaN  117.0  882.0  55.0  12.0   1.0   NaN   74.0  ...   \n",
       "Native    12.0   NaN   NaN   23.0   20.0   3.0   NaN   NaN   NaN    1.0  ...   \n",
       "Other      1.0   NaN   NaN    1.0   24.0   NaN   NaN   NaN   NaN    2.0  ...   \n",
       "White     16.0  98.0  36.0  170.0  580.0  90.0  36.0   1.0  10.0  243.0  ...   \n",
       "\n",
       "State       SD    TN     TX    UT    VA    VT     WA    WI    WV    WY  \n",
       "Race                                                                    \n",
       "Asian      NaN   2.0    8.0   1.0   2.0   NaN    4.0   1.0   NaN   NaN  \n",
       "Black      NaN  45.0  237.0   2.0  53.0   1.0   30.0  20.0   6.0   NaN  \n",
       "Hispanic   NaN   5.0  301.0   8.0   5.0   NaN   19.0   9.0   NaN   2.0  \n",
       "Native    11.0   NaN    2.0   2.0   NaN   1.0   14.0   NaN   NaN   1.0  \n",
       "Other      NaN   1.0    3.0   1.0   1.0   NaN    4.0   NaN   NaN   NaN  \n",
       "White     18.0  77.0  376.0  87.0  55.0  11.0  177.0  55.0  30.0  18.0  \n",
       "\n",
       "[6 rows x 51 columns]"
      ]
     },
     "execution_count": null,
     "metadata": {},
     "output_type": "execute_result"
    }
   ],
   "source": [
    "byRace.unstack()"
   ]
  },
  {
   "cell_type": "code",
   "execution_count": null,
   "metadata": {},
   "outputs": [
    {
     "data": {
      "text/plain": [
       "count         12491\n",
       "unique         4848\n",
       "top       1/27/2016\n",
       "freq             18\n",
       "Name: Date, dtype: object"
      ]
     },
     "execution_count": null,
     "metadata": {},
     "output_type": "execute_result"
    }
   ],
   "source": [
    "# Description of the Column: \"Date\"\n",
    "df[\"Date\"].describe()"
   ]
  },
  {
   "cell_type": "code",
   "execution_count": null,
   "metadata": {},
   "outputs": [
    {
     "data": {
      "text/plain": [
       "1/27/2016     18\n",
       "5/17/2015     16\n",
       "10/24/2015    16\n",
       "12/14/2015    16\n",
       "12/21/2015    15\n",
       "              ..\n",
       "6/10/2011      1\n",
       "1/21/2002      1\n",
       "1/26/2002      1\n",
       "12/19/2004     1\n",
       "4/24/2016      1\n",
       "Name: Date, Length: 4848, dtype: int64"
      ]
     },
     "execution_count": null,
     "metadata": {},
     "output_type": "execute_result"
    }
   ],
   "source": [
    "# Total Frequency of Each Date Present in Dataset\n",
    "df['Date'].value_counts(dropna=False)\n",
    "\n",
    "# NOTE: Interesting that there were more than 1 police fatalities "
   ]
  },
  {
   "cell_type": "code",
   "execution_count": null,
   "metadata": {},
   "outputs": [
    {
     "name": "stdout",
     "output_type": "stream",
     "text": [
      "1/1/2001\n",
      "9/9/2016\n"
     ]
    }
   ],
   "source": [
    "# Earliest and Latest Date of Data within the Dataset\n",
    "#CHECK THIS\n",
    "earliestDate = df[\"Date\"].min()\n",
    "latestDate = df[\"Date\"].max()\n",
    "\n",
    "print(earliestDate)\n",
    "print(latestDate)\n",
    "\n",
    "# This dataset has data gathered between January 1st 2001 and 9th September 2016 (inclusive)"
   ]
  },
  {
   "cell_type": "code",
   "execution_count": null,
   "metadata": {},
   "outputs": [
    {
     "data": {
      "text/plain": [
       "1/27/2016     18\n",
       "5/17/2015     16\n",
       "10/24/2015    16\n",
       "12/14/2015    16\n",
       "12/21/2015    15\n",
       "              ..\n",
       "6/10/2011      1\n",
       "1/21/2002      1\n",
       "1/26/2002      1\n",
       "12/19/2004     1\n",
       "4/24/2016      1\n",
       "Name: Date, Length: 4848, dtype: int64"
      ]
     },
     "execution_count": null,
     "metadata": {},
     "output_type": "execute_result"
    }
   ],
   "source": [
    "dateCount = df['Date'].value_counts(dropna=False)\n",
    "dateCount"
   ]
  },
  {
   "cell_type": "code",
   "execution_count": null,
   "metadata": {},
   "outputs": [
    {
     "data": {
      "text/plain": [
       "48"
      ]
     },
     "execution_count": null,
     "metadata": {},
     "output_type": "execute_result"
    }
   ],
   "source": [
    "# Total number of dates with more than 10 cases\n",
    "sum(dateCount > 10)"
   ]
  },
  {
   "cell_type": "code",
   "execution_count": null,
   "metadata": {},
   "outputs": [
    {
     "data": {
      "text/plain": [
       "2015    2121\n",
       "2016    1298\n",
       "2014    1081\n",
       "2013    1081\n",
       "2011     779\n",
       "2012     764\n",
       "2010     625\n",
       "2009     597\n",
       "2006     555\n",
       "2008     547\n",
       "2005     527\n",
       "2007     522\n",
       "2004     483\n",
       "2003     436\n",
       "2002     405\n",
       "2001     354\n",
       "2000     316\n",
       "Name: year, dtype: int64"
      ]
     },
     "execution_count": null,
     "metadata": {},
     "output_type": "execute_result"
    }
   ],
   "source": [
    "df2 = df\n",
    "df2['year'] = pd.DatetimeIndex(df2['Date']).year\n",
    "\n",
    "df2['year'].value_counts(dropna=False)\n",
    "# 2015 (2121 cases), 2016 (1298 cases) and 2014 (1081 cases) have the highest number of police fatalities.\n",
    "# 2000 (316 cases), 2001 (354 cases) and 2002 (405 cases) have the least number of police fatalities."
   ]
  },
  {
   "cell_type": "code",
   "execution_count": null,
   "metadata": {},
   "outputs": [
    {
     "data": {
      "text/plain": [
       "3     1167\n",
       "7     1109\n",
       "1     1098\n",
       "4     1097\n",
       "8     1077\n",
       "5     1061\n",
       "6     1045\n",
       "2     1036\n",
       "10     999\n",
       "9      984\n",
       "11     917\n",
       "12     901\n",
       "Name: month, dtype: int64"
      ]
     },
     "execution_count": null,
     "metadata": {},
     "output_type": "execute_result"
    }
   ],
   "source": [
    "df2['month'] = pd.DatetimeIndex(df2['Date']).month\n",
    "df2['month'].value_counts(dropna=False)\n",
    "\n",
    "# March (1167 cases), July (1109 cases) and January (1098 cases) have the highest number of police fatalities.\n",
    "# December (901 cases), November (917 cases) and September (984 cases) have the least number of police fatalities."
   ]
  },
  {
   "cell_type": "code",
   "execution_count": null,
   "metadata": {},
   "outputs": [
    {
     "data": {
      "text/plain": [
       "count           12487\n",
       "unique           3327\n",
       "top       Los Angeles\n",
       "freq              297\n",
       "Name: City, dtype: object"
      ]
     },
     "execution_count": null,
     "metadata": {},
     "output_type": "execute_result"
    }
   ],
   "source": [
    "# Description of the Column: \"City\"\n",
    "df[\"City\"].describe()\n",
    "\n",
    "# Los Angeles is the city with the highest number of vicitims with a frequency of 297 victims"
   ]
  },
  {
   "cell_type": "code",
   "execution_count": null,
   "metadata": {},
   "outputs": [
    {
     "data": {
      "text/plain": [
       "Los Angeles           297\n",
       "Houston               247\n",
       "Phoenix               177\n",
       "Chicago               175\n",
       "Las Vegas             153\n",
       "                     ... \n",
       "Overfield Township      1\n",
       "Battle Creek            1\n",
       "Buchanan Dam            1\n",
       "Binghamton              1\n",
       "Industry                1\n",
       "Name: City, Length: 3328, dtype: int64"
      ]
     },
     "execution_count": null,
     "metadata": {},
     "output_type": "execute_result"
    }
   ],
   "source": [
    "cityCount = df['City'].value_counts(dropna=False)\n",
    "cityCount"
   ]
  },
  {
   "cell_type": "code",
   "execution_count": null,
   "metadata": {},
   "outputs": [
    {
     "data": {
      "text/plain": [
       "7"
      ]
     },
     "execution_count": null,
     "metadata": {},
     "output_type": "execute_result"
    }
   ],
   "source": [
    "(cityCount > 100).sum()\n",
    "\n",
    "# There are 7 cities with the number of police fatalities being over 100"
   ]
  },
  {
   "cell_type": "code",
   "execution_count": null,
   "metadata": {},
   "outputs": [
    {
     "data": {
      "text/plain": [
       "1774"
      ]
     },
     "execution_count": null,
     "metadata": {},
     "output_type": "execute_result"
    }
   ],
   "source": [
    "(cityCount == 1).sum()\n",
    "\n",
    "# There are 1774 cities with 1 police fatality"
   ]
  },
  {
   "cell_type": "code",
   "execution_count": null,
   "metadata": {},
   "outputs": [
    {
     "data": {
      "text/plain": [
       "1.0"
      ]
     },
     "execution_count": null,
     "metadata": {},
     "output_type": "execute_result"
    }
   ],
   "source": [
    "cityCount.median()"
   ]
  },
  {
   "cell_type": "code",
   "execution_count": null,
   "metadata": {},
   "outputs": [
    {
     "data": {
      "text/plain": [
       "3.7533052884615383"
      ]
     },
     "execution_count": null,
     "metadata": {},
     "output_type": "execute_result"
    }
   ],
   "source": [
    "cityCount.mean()"
   ]
  },
  {
   "cell_type": "code",
   "execution_count": null,
   "metadata": {},
   "outputs": [
    {
     "data": {
      "text/plain": [
       "count     12491\n",
       "unique       51\n",
       "top          CA\n",
       "freq       2913\n",
       "Name: State, dtype: object"
      ]
     },
     "execution_count": null,
     "metadata": {},
     "output_type": "execute_result"
    }
   ],
   "source": [
    "# Description of the Column: \"State\"\n",
    "df[\"State\"].describe()\n",
    "\n",
    "# California is the state with the highest number of victims with a frequency of 2913 victims"
   ]
  },
  {
   "cell_type": "code",
   "execution_count": null,
   "metadata": {},
   "outputs": [
    {
     "data": {
      "text/plain": [
       "CA    2913\n",
       "TX    1190\n",
       "FL    1028\n",
       "AZ     585\n",
       "NY     390\n",
       "LA     350\n",
       "AL     326\n",
       "CO     310\n",
       "NC     308\n",
       "WA     304\n",
       "IL     301\n",
       "GA     285\n",
       "NV     276\n",
       "OH     241\n",
       "OR     212\n",
       "MD     195\n",
       "PA     189\n",
       "MO     188\n",
       "MS     176\n",
       "MN     175\n",
       "OK     169\n",
       "NM     162\n",
       "TN     162\n",
       "UT     153\n",
       "VA     148\n",
       "MI     128\n",
       "SC     127\n",
       "NJ     124\n",
       "MA     120\n",
       "WI     109\n",
       "IN     106\n",
       "KY     105\n",
       "KS     103\n",
       "ID      88\n",
       "CT      78\n",
       "AK      73\n",
       "AR      70\n",
       "DC      61\n",
       "WV      60\n",
       "MT      57\n",
       "ME      51\n",
       "NE      50\n",
       "IA      41\n",
       "WY      35\n",
       "DE      32\n",
       "SD      32\n",
       "NH      29\n",
       "HI      22\n",
       "VT      21\n",
       "RI      20\n",
       "ND      13\n",
       "Name: State, dtype: int64"
      ]
     },
     "execution_count": null,
     "metadata": {},
     "output_type": "execute_result"
    }
   ],
   "source": [
    "stateCount = df['State'].value_counts(dropna=False)\n",
    "stateCount\n",
    "\n",
    "# 3 states with the most police fatalities are: CA (california), TX (texas) and FL (florida)\n",
    "# 3 states with the least police fatalities are: ND (North Dakota), RI (Rhode Island), VT (Vermont)."
   ]
  },
  {
   "cell_type": "code",
   "execution_count": null,
   "metadata": {},
   "outputs": [
    {
     "data": {
      "text/plain": [
       "244.92156862745097"
      ]
     },
     "execution_count": null,
     "metadata": {},
     "output_type": "execute_result"
    }
   ],
   "source": [
    "# Mean number of police fatalities per state\n",
    "stateCount.mean()"
   ]
  },
  {
   "cell_type": "code",
   "execution_count": null,
   "metadata": {},
   "outputs": [
    {
     "data": {
      "text/plain": [
       "128.0"
      ]
     },
     "execution_count": null,
     "metadata": {},
     "output_type": "execute_result"
    }
   ],
   "source": [
    "# Median of the count of cases per state\n",
    "stateCount.median()"
   ]
  },
  {
   "cell_type": "code",
   "execution_count": null,
   "metadata": {},
   "outputs": [
    {
     "data": {
      "text/plain": [
       "CA    23.320791\n",
       "TX     9.526859\n",
       "FL     8.229926\n",
       "AZ     4.683372\n",
       "NY     3.122248\n",
       "LA     2.802017\n",
       "AL     2.609879\n",
       "CO     2.481787\n",
       "NC     2.465775\n",
       "WA     2.433752\n",
       "IL     2.409735\n",
       "GA     2.281643\n",
       "NV     2.209591\n",
       "OH     1.929389\n",
       "OR     1.697222\n",
       "MD     1.561124\n",
       "PA     1.513089\n",
       "MO     1.505084\n",
       "MS     1.409014\n",
       "MN     1.401009\n",
       "OK     1.352974\n",
       "NM     1.296934\n",
       "TN     1.296934\n",
       "UT     1.224882\n",
       "VA     1.184853\n",
       "MI     1.024738\n",
       "SC     1.016732\n",
       "NJ     0.992715\n",
       "MA     0.960692\n",
       "WI     0.872628\n",
       "IN     0.848611\n",
       "KY     0.840605\n",
       "KS     0.824594\n",
       "ID     0.704507\n",
       "CT     0.624450\n",
       "AK     0.584421\n",
       "AR     0.560403\n",
       "DC     0.488352\n",
       "WV     0.480346\n",
       "MT     0.456329\n",
       "ME     0.408294\n",
       "NE     0.400288\n",
       "IA     0.328236\n",
       "WY     0.280202\n",
       "DE     0.256184\n",
       "SD     0.256184\n",
       "NH     0.232167\n",
       "HI     0.176127\n",
       "VT     0.168121\n",
       "RI     0.160115\n",
       "ND     0.104075\n",
       "Name: State, dtype: float64"
      ]
     },
     "execution_count": null,
     "metadata": {},
     "output_type": "execute_result"
    }
   ],
   "source": [
    "statePercentage = df['State'].value_counts(normalize=True)\n",
    "statePercentage*100\n",
    "\n",
    "# As a percentage, (top) California accounts for 23.32% of police fatalities in this dataset"
   ]
  },
  {
   "cell_type": "markdown",
   "metadata": {},
   "source": [
    "**Step 4: Intial Thoughts**"
   ]
  },
  {
   "cell_type": "markdown",
   "metadata": {},
   "source": [
    "**Overall Observations and Notes of Interest**:\n",
    "    There were a total of 12,491 police fatalities in this dataset. The earliest date present in the dataset was January 1st, 2001 and the latest date present in the dataset was September 9th, 2016. Therefore, the data within this dataset are cases between those two dates. With this in mind, not only is it important for my research question to take note of the data involving cities,states and races, but also the dates because that could influence the kind of beliefs held by specific states.\n",
    "    \n",
    "**Variable 1: Race**:\n",
    "    There were 8526 non-null values within the Race column, along with 3965 null values. There were 6 unqiue values, showing that there were 6 unique race categories present in the dataset. I noticed that there was also an 'other' category for the race column and found that interesting since I wondered what 'other' meant in terms of race. Additionally, the race with the highest number of police fatality cases was white with a frequency of 3855 cases. I found this to be surprising due to belief that the race of the highest number of police fatalitiy cases would be that of a minority race in the United States. The race with second highest number of police fatality cases was black (2536 cases) and the race with the third highest was hispanic (1784 cases). I also found it interesting that there were 3965 null values considering that I would believe that taking note of race would be something important.\n",
    "\n",
    "**Variable 2: Date**:\n",
    "    There were 12,491 non-null values within the Date column and no null values. There a total of 4848 unique dates with January 26th, 2016 holding the highest number of police fatality cases (18 cases). As stated, the earliest date found was January 1st, 2001 and the latest date found was September 9th, 2016. I found it surprising that there were 48 dates with more than 10 police fatalities within 1 day and wonder whether these incidences occured in the same areas as well. Additionally, the year with the highest number of police fatalities was 2015 followed by 2016 and 2014. This was an interesting turnout and made me wonder as to why the cases in 2015 were particularily high and whether this is related to beliefs in an area changing in relation to time or whether it could be related to race in terms of beliefs towards a race changing in a specific area.\n",
    "\n",
    "**Variables 3/4 (location):**\n",
    "\\\n",
    "**3a) City:**\n",
    "    There were 12,487 non-null values within the City column, along with 4 null values. There were 3327 unique cities with police fatalities as well. The city with the highest number of police fatalities was Los Angeles with 297 cases followed by Houston (247 cases) and Phoenix (177 cases). Moreover, there were a total of 7 cities with over 100 police fatality cases, and 1774 cities with 1 police fatality case within the timespan that the data was gathered in. The mean was around 3-4 cases per city stated in the dataset and the median was 1 case. There could be many factors related to the number of cases and the cities. But I am hoping to uncover whether there being over 100 police fatalities in certain cities while there are only 1 in other cities is related to race.\n",
    "\n",
    "**3b) State:**\n",
    "    There were 12,491 non-null values within the State column and no null values. There were 51 unique states which makes me wonder why there are 51 instead of 50 since the United States only has 50 states. Other than that, California had the highest number of police fatalities with 2913 cases, followed by Texas (1190 cases) and Florida (1028). That said, North Dakota (13 cases), Rhode Island (20 cases) and Vermont (21 cases) has the least number of police fatalities. My interests in the relationship between the number of cases and states in similar as for cities. I found it interesting that California had the highest number of cases, however texas being amoung the higher case frequencies did not surprise me. The mean number of cases per state was around 244-245 cases per state and the median was 128 cases.\n"
   ]
  },
  {
   "cell_type": "markdown",
   "metadata": {},
   "source": [
    "**Step 5: Data Wrangling**"
   ]
  },
  {
   "cell_type": "code",
   "execution_count": null,
   "metadata": {},
   "outputs": [
    {
     "name": "stdout",
     "output_type": "stream",
     "text": [
      "No duplicated entries found\n"
     ]
    }
   ],
   "source": [
    "# Checking for duplicated entries\n",
    "if len(df[df.duplicated()]) > 0:\n",
    "    print(\"No. of duplicated entries: \", len(df[df.duplicated()]))\n",
    "    print(df[df.duplicated(keep=False)].sort_values(by=list(df.columns)).head())\n",
    "\n",
    "else:\n",
    "    print(\"No duplicated entries found\")"
   ]
  },
  {
   "cell_type": "markdown",
   "metadata": {},
   "source": [
    "\\\n",
    "***City:***"
   ]
  },
  {
   "cell_type": "code",
   "execution_count": null,
   "metadata": {},
   "outputs": [
    {
     "data": {
      "text/html": [
       "<div>\n",
       "<style scoped>\n",
       "    .dataframe tbody tr th:only-of-type {\n",
       "        vertical-align: middle;\n",
       "    }\n",
       "\n",
       "    .dataframe tbody tr th {\n",
       "        vertical-align: top;\n",
       "    }\n",
       "\n",
       "    .dataframe thead th {\n",
       "        text-align: right;\n",
       "    }\n",
       "</style>\n",
       "<table border=\"1\" class=\"dataframe\">\n",
       "  <thead>\n",
       "    <tr style=\"text-align: right;\">\n",
       "      <th></th>\n",
       "      <th>UID</th>\n",
       "      <th>Name</th>\n",
       "      <th>Age</th>\n",
       "      <th>Gender</th>\n",
       "      <th>Race</th>\n",
       "      <th>Date</th>\n",
       "      <th>City</th>\n",
       "      <th>State</th>\n",
       "      <th>Manner_of_death</th>\n",
       "      <th>Armed</th>\n",
       "      <th>Mental_illness</th>\n",
       "      <th>Flee</th>\n",
       "      <th>year</th>\n",
       "      <th>month</th>\n",
       "    </tr>\n",
       "  </thead>\n",
       "  <tbody>\n",
       "    <tr>\n",
       "      <th>0</th>\n",
       "      <td>133</td>\n",
       "      <td>Karen O. Chin</td>\n",
       "      <td>44.0</td>\n",
       "      <td>Female</td>\n",
       "      <td>Asian</td>\n",
       "      <td>5/4/2000</td>\n",
       "      <td>Alameda</td>\n",
       "      <td>CA</td>\n",
       "      <td>Shot</td>\n",
       "      <td>NaN</td>\n",
       "      <td>False</td>\n",
       "      <td>False</td>\n",
       "      <td>2000</td>\n",
       "      <td>5</td>\n",
       "    </tr>\n",
       "    <tr>\n",
       "      <th>1</th>\n",
       "      <td>169</td>\n",
       "      <td>Chyraphone Komvongsa</td>\n",
       "      <td>26.0</td>\n",
       "      <td>Male</td>\n",
       "      <td>Asian</td>\n",
       "      <td>6/2/2000</td>\n",
       "      <td>Fresno</td>\n",
       "      <td>CA</td>\n",
       "      <td>Shot</td>\n",
       "      <td>NaN</td>\n",
       "      <td>False</td>\n",
       "      <td>False</td>\n",
       "      <td>2000</td>\n",
       "      <td>6</td>\n",
       "    </tr>\n",
       "    <tr>\n",
       "      <th>2</th>\n",
       "      <td>257</td>\n",
       "      <td>Ming Chinh Ly</td>\n",
       "      <td>36.0</td>\n",
       "      <td>Male</td>\n",
       "      <td>Asian</td>\n",
       "      <td>8/13/2000</td>\n",
       "      <td>Rosemead</td>\n",
       "      <td>CA</td>\n",
       "      <td>Shot</td>\n",
       "      <td>Gun</td>\n",
       "      <td>False</td>\n",
       "      <td>False</td>\n",
       "      <td>2000</td>\n",
       "      <td>8</td>\n",
       "    </tr>\n",
       "    <tr>\n",
       "      <th>3</th>\n",
       "      <td>483</td>\n",
       "      <td>Kinh Quoc Dao</td>\n",
       "      <td>29.0</td>\n",
       "      <td>Male</td>\n",
       "      <td>Asian</td>\n",
       "      <td>2/9/2001</td>\n",
       "      <td>Valley Glen</td>\n",
       "      <td>CA</td>\n",
       "      <td>Shot</td>\n",
       "      <td>Gun</td>\n",
       "      <td>False</td>\n",
       "      <td>False</td>\n",
       "      <td>2001</td>\n",
       "      <td>2</td>\n",
       "    </tr>\n",
       "    <tr>\n",
       "      <th>4</th>\n",
       "      <td>655</td>\n",
       "      <td>Vanpaseuth Phaisouphanh</td>\n",
       "      <td>25.0</td>\n",
       "      <td>Male</td>\n",
       "      <td>Asian</td>\n",
       "      <td>6/10/2001</td>\n",
       "      <td>Riverside</td>\n",
       "      <td>CA</td>\n",
       "      <td>Shot</td>\n",
       "      <td>Knife</td>\n",
       "      <td>False</td>\n",
       "      <td>False</td>\n",
       "      <td>2001</td>\n",
       "      <td>6</td>\n",
       "    </tr>\n",
       "    <tr>\n",
       "      <th>...</th>\n",
       "      <td>...</td>\n",
       "      <td>...</td>\n",
       "      <td>...</td>\n",
       "      <td>...</td>\n",
       "      <td>...</td>\n",
       "      <td>...</td>\n",
       "      <td>...</td>\n",
       "      <td>...</td>\n",
       "      <td>...</td>\n",
       "      <td>...</td>\n",
       "      <td>...</td>\n",
       "      <td>...</td>\n",
       "      <td>...</td>\n",
       "      <td>...</td>\n",
       "    </tr>\n",
       "    <tr>\n",
       "      <th>12486</th>\n",
       "      <td>12388</td>\n",
       "      <td>Name withheld by police</td>\n",
       "      <td>NaN</td>\n",
       "      <td>Male</td>\n",
       "      <td>NaN</td>\n",
       "      <td>12/9/2008</td>\n",
       "      <td>Sacramento</td>\n",
       "      <td>CA</td>\n",
       "      <td>Other</td>\n",
       "      <td>NaN</td>\n",
       "      <td>False</td>\n",
       "      <td>False</td>\n",
       "      <td>2008</td>\n",
       "      <td>12</td>\n",
       "    </tr>\n",
       "    <tr>\n",
       "      <th>12487</th>\n",
       "      <td>12429</td>\n",
       "      <td>Gene Lovell Ford</td>\n",
       "      <td>48.0</td>\n",
       "      <td>Male</td>\n",
       "      <td>NaN</td>\n",
       "      <td>8/6/2008</td>\n",
       "      <td>Sacramento</td>\n",
       "      <td>CA</td>\n",
       "      <td>Other</td>\n",
       "      <td>NaN</td>\n",
       "      <td>True</td>\n",
       "      <td>False</td>\n",
       "      <td>2008</td>\n",
       "      <td>8</td>\n",
       "    </tr>\n",
       "    <tr>\n",
       "      <th>12488</th>\n",
       "      <td>12430</td>\n",
       "      <td>Jose Vega</td>\n",
       "      <td>38.0</td>\n",
       "      <td>Male</td>\n",
       "      <td>NaN</td>\n",
       "      <td>8/6/2008</td>\n",
       "      <td>Visalia</td>\n",
       "      <td>CA</td>\n",
       "      <td>Other</td>\n",
       "      <td>NaN</td>\n",
       "      <td>True</td>\n",
       "      <td>False</td>\n",
       "      <td>2008</td>\n",
       "      <td>8</td>\n",
       "    </tr>\n",
       "    <tr>\n",
       "      <th>12489</th>\n",
       "      <td>12636</td>\n",
       "      <td>Humberto Torres</td>\n",
       "      <td>41.0</td>\n",
       "      <td>Male</td>\n",
       "      <td>NaN</td>\n",
       "      <td>3/21/2009</td>\n",
       "      <td>Delano</td>\n",
       "      <td>CA</td>\n",
       "      <td>Other</td>\n",
       "      <td>Gun</td>\n",
       "      <td>False</td>\n",
       "      <td>False</td>\n",
       "      <td>2009</td>\n",
       "      <td>3</td>\n",
       "    </tr>\n",
       "    <tr>\n",
       "      <th>12490</th>\n",
       "      <td>12861</td>\n",
       "      <td>Name withheld by police</td>\n",
       "      <td>39.0</td>\n",
       "      <td>Male</td>\n",
       "      <td>NaN</td>\n",
       "      <td>1/15/2010</td>\n",
       "      <td>Los Angeles</td>\n",
       "      <td>CA</td>\n",
       "      <td>Other</td>\n",
       "      <td>NaN</td>\n",
       "      <td>False</td>\n",
       "      <td>False</td>\n",
       "      <td>2010</td>\n",
       "      <td>1</td>\n",
       "    </tr>\n",
       "  </tbody>\n",
       "</table>\n",
       "<p>12487 rows × 14 columns</p>\n",
       "</div>"
      ],
      "text/plain": [
       "         UID                     Name   Age  Gender   Race       Date  \\\n",
       "0        133            Karen O. Chin  44.0  Female  Asian   5/4/2000   \n",
       "1        169     Chyraphone Komvongsa  26.0    Male  Asian   6/2/2000   \n",
       "2        257            Ming Chinh Ly  36.0    Male  Asian  8/13/2000   \n",
       "3        483            Kinh Quoc Dao  29.0    Male  Asian   2/9/2001   \n",
       "4        655  Vanpaseuth Phaisouphanh  25.0    Male  Asian  6/10/2001   \n",
       "...      ...                      ...   ...     ...    ...        ...   \n",
       "12486  12388  Name withheld by police   NaN    Male    NaN  12/9/2008   \n",
       "12487  12429         Gene Lovell Ford  48.0    Male    NaN   8/6/2008   \n",
       "12488  12430                Jose Vega  38.0    Male    NaN   8/6/2008   \n",
       "12489  12636          Humberto Torres  41.0    Male    NaN  3/21/2009   \n",
       "12490  12861  Name withheld by police  39.0    Male    NaN  1/15/2010   \n",
       "\n",
       "              City State Manner_of_death  Armed  Mental_illness   Flee  year  \\\n",
       "0          Alameda    CA            Shot    NaN           False  False  2000   \n",
       "1           Fresno    CA            Shot    NaN           False  False  2000   \n",
       "2         Rosemead    CA            Shot    Gun           False  False  2000   \n",
       "3      Valley Glen    CA            Shot    Gun           False  False  2001   \n",
       "4        Riverside    CA            Shot  Knife           False  False  2001   \n",
       "...            ...   ...             ...    ...             ...    ...   ...   \n",
       "12486   Sacramento    CA           Other    NaN           False  False  2008   \n",
       "12487   Sacramento    CA           Other    NaN            True  False  2008   \n",
       "12488      Visalia    CA           Other    NaN            True  False  2008   \n",
       "12489       Delano    CA           Other    Gun           False  False  2009   \n",
       "12490  Los Angeles    CA           Other    NaN           False  False  2010   \n",
       "\n",
       "       month  \n",
       "0          5  \n",
       "1          6  \n",
       "2          8  \n",
       "3          2  \n",
       "4          6  \n",
       "...      ...  \n",
       "12486     12  \n",
       "12487      8  \n",
       "12488      8  \n",
       "12489      3  \n",
       "12490      1  \n",
       "\n",
       "[12487 rows x 14 columns]"
      ]
     },
     "execution_count": null,
     "metadata": {},
     "output_type": "execute_result"
    }
   ],
   "source": [
    "df = df.dropna(subset = ['City'])\n",
    "df"
   ]
  },
  {
   "cell_type": "code",
   "execution_count": null,
   "metadata": {},
   "outputs": [
    {
     "data": {
      "text/plain": [
       "0"
      ]
     },
     "execution_count": null,
     "metadata": {},
     "output_type": "execute_result"
    }
   ],
   "source": [
    "# Double checking to see if there are anymore NaN values\n",
    "df['City'].isnull().sum()"
   ]
  },
  {
   "cell_type": "code",
   "execution_count": null,
   "metadata": {},
   "outputs": [
    {
     "data": {
      "text/plain": [
       "12487"
      ]
     },
     "execution_count": null,
     "metadata": {},
     "output_type": "execute_result"
    }
   ],
   "source": [
    "sum(df['City']!=None)\n",
    "\n",
    "# Total is equal to output of 8525 so there is no missing data"
   ]
  },
  {
   "cell_type": "markdown",
   "metadata": {},
   "source": [
    "\\\n",
    "***Race:***"
   ]
  },
  {
   "cell_type": "code",
   "execution_count": null,
   "metadata": {},
   "outputs": [
    {
     "data": {
      "text/plain": [
       "3962"
      ]
     },
     "execution_count": null,
     "metadata": {},
     "output_type": "execute_result"
    }
   ],
   "source": [
    "# Checking to see if there are still NaN values in the Race column\n",
    "df['Race'].isnull().sum()"
   ]
  },
  {
   "cell_type": "code",
   "execution_count": null,
   "metadata": {},
   "outputs": [
    {
     "data": {
      "text/html": [
       "<div>\n",
       "<style scoped>\n",
       "    .dataframe tbody tr th:only-of-type {\n",
       "        vertical-align: middle;\n",
       "    }\n",
       "\n",
       "    .dataframe tbody tr th {\n",
       "        vertical-align: top;\n",
       "    }\n",
       "\n",
       "    .dataframe thead th {\n",
       "        text-align: right;\n",
       "    }\n",
       "</style>\n",
       "<table border=\"1\" class=\"dataframe\">\n",
       "  <thead>\n",
       "    <tr style=\"text-align: right;\">\n",
       "      <th></th>\n",
       "      <th>UID</th>\n",
       "      <th>Name</th>\n",
       "      <th>Age</th>\n",
       "      <th>Gender</th>\n",
       "      <th>Race</th>\n",
       "      <th>Date</th>\n",
       "      <th>City</th>\n",
       "      <th>State</th>\n",
       "      <th>Manner_of_death</th>\n",
       "      <th>Armed</th>\n",
       "      <th>Mental_illness</th>\n",
       "      <th>Flee</th>\n",
       "      <th>year</th>\n",
       "      <th>month</th>\n",
       "    </tr>\n",
       "  </thead>\n",
       "  <tbody>\n",
       "    <tr>\n",
       "      <th>0</th>\n",
       "      <td>133</td>\n",
       "      <td>Karen O. Chin</td>\n",
       "      <td>44.0</td>\n",
       "      <td>Female</td>\n",
       "      <td>Asian</td>\n",
       "      <td>5/4/2000</td>\n",
       "      <td>Alameda</td>\n",
       "      <td>CA</td>\n",
       "      <td>Shot</td>\n",
       "      <td>NaN</td>\n",
       "      <td>False</td>\n",
       "      <td>False</td>\n",
       "      <td>2000</td>\n",
       "      <td>5</td>\n",
       "    </tr>\n",
       "    <tr>\n",
       "      <th>1</th>\n",
       "      <td>169</td>\n",
       "      <td>Chyraphone Komvongsa</td>\n",
       "      <td>26.0</td>\n",
       "      <td>Male</td>\n",
       "      <td>Asian</td>\n",
       "      <td>6/2/2000</td>\n",
       "      <td>Fresno</td>\n",
       "      <td>CA</td>\n",
       "      <td>Shot</td>\n",
       "      <td>NaN</td>\n",
       "      <td>False</td>\n",
       "      <td>False</td>\n",
       "      <td>2000</td>\n",
       "      <td>6</td>\n",
       "    </tr>\n",
       "    <tr>\n",
       "      <th>2</th>\n",
       "      <td>257</td>\n",
       "      <td>Ming Chinh Ly</td>\n",
       "      <td>36.0</td>\n",
       "      <td>Male</td>\n",
       "      <td>Asian</td>\n",
       "      <td>8/13/2000</td>\n",
       "      <td>Rosemead</td>\n",
       "      <td>CA</td>\n",
       "      <td>Shot</td>\n",
       "      <td>Gun</td>\n",
       "      <td>False</td>\n",
       "      <td>False</td>\n",
       "      <td>2000</td>\n",
       "      <td>8</td>\n",
       "    </tr>\n",
       "    <tr>\n",
       "      <th>3</th>\n",
       "      <td>483</td>\n",
       "      <td>Kinh Quoc Dao</td>\n",
       "      <td>29.0</td>\n",
       "      <td>Male</td>\n",
       "      <td>Asian</td>\n",
       "      <td>2/9/2001</td>\n",
       "      <td>Valley Glen</td>\n",
       "      <td>CA</td>\n",
       "      <td>Shot</td>\n",
       "      <td>Gun</td>\n",
       "      <td>False</td>\n",
       "      <td>False</td>\n",
       "      <td>2001</td>\n",
       "      <td>2</td>\n",
       "    </tr>\n",
       "    <tr>\n",
       "      <th>4</th>\n",
       "      <td>655</td>\n",
       "      <td>Vanpaseuth Phaisouphanh</td>\n",
       "      <td>25.0</td>\n",
       "      <td>Male</td>\n",
       "      <td>Asian</td>\n",
       "      <td>6/10/2001</td>\n",
       "      <td>Riverside</td>\n",
       "      <td>CA</td>\n",
       "      <td>Shot</td>\n",
       "      <td>Knife</td>\n",
       "      <td>False</td>\n",
       "      <td>False</td>\n",
       "      <td>2001</td>\n",
       "      <td>6</td>\n",
       "    </tr>\n",
       "    <tr>\n",
       "      <th>...</th>\n",
       "      <td>...</td>\n",
       "      <td>...</td>\n",
       "      <td>...</td>\n",
       "      <td>...</td>\n",
       "      <td>...</td>\n",
       "      <td>...</td>\n",
       "      <td>...</td>\n",
       "      <td>...</td>\n",
       "      <td>...</td>\n",
       "      <td>...</td>\n",
       "      <td>...</td>\n",
       "      <td>...</td>\n",
       "      <td>...</td>\n",
       "      <td>...</td>\n",
       "    </tr>\n",
       "    <tr>\n",
       "      <th>8521</th>\n",
       "      <td>12871</td>\n",
       "      <td>Joseph Frank Kennedy</td>\n",
       "      <td>48.0</td>\n",
       "      <td>Male</td>\n",
       "      <td>White</td>\n",
       "      <td>9/18/2010</td>\n",
       "      <td>La Mirada</td>\n",
       "      <td>CA</td>\n",
       "      <td>Tasered</td>\n",
       "      <td>NaN</td>\n",
       "      <td>False</td>\n",
       "      <td>False</td>\n",
       "      <td>2010</td>\n",
       "      <td>9</td>\n",
       "    </tr>\n",
       "    <tr>\n",
       "      <th>8522</th>\n",
       "      <td>12978</td>\n",
       "      <td>Daniel Sylvester</td>\n",
       "      <td>35.0</td>\n",
       "      <td>Male</td>\n",
       "      <td>White</td>\n",
       "      <td>6/22/2010</td>\n",
       "      <td>Crescent City</td>\n",
       "      <td>CA</td>\n",
       "      <td>Tasered</td>\n",
       "      <td>NaN</td>\n",
       "      <td>True</td>\n",
       "      <td>False</td>\n",
       "      <td>2010</td>\n",
       "      <td>6</td>\n",
       "    </tr>\n",
       "    <tr>\n",
       "      <th>8523</th>\n",
       "      <td>12996</td>\n",
       "      <td>Mario Marin</td>\n",
       "      <td>53.0</td>\n",
       "      <td>Male</td>\n",
       "      <td>White</td>\n",
       "      <td>12/28/2011</td>\n",
       "      <td>Santa Ana</td>\n",
       "      <td>CA</td>\n",
       "      <td>Tasered</td>\n",
       "      <td>NaN</td>\n",
       "      <td>True</td>\n",
       "      <td>False</td>\n",
       "      <td>2011</td>\n",
       "      <td>12</td>\n",
       "    </tr>\n",
       "    <tr>\n",
       "      <th>8524</th>\n",
       "      <td>13083</td>\n",
       "      <td>James Robert Hudson</td>\n",
       "      <td>34.0</td>\n",
       "      <td>Male</td>\n",
       "      <td>White</td>\n",
       "      <td>4/9/2011</td>\n",
       "      <td>Whittier</td>\n",
       "      <td>CA</td>\n",
       "      <td>Tasered</td>\n",
       "      <td>NaN</td>\n",
       "      <td>True</td>\n",
       "      <td>False</td>\n",
       "      <td>2011</td>\n",
       "      <td>4</td>\n",
       "    </tr>\n",
       "    <tr>\n",
       "      <th>8525</th>\n",
       "      <td>12553</td>\n",
       "      <td>Christopher Jackson</td>\n",
       "      <td>34.0</td>\n",
       "      <td>Male</td>\n",
       "      <td>White</td>\n",
       "      <td>10/24/2009</td>\n",
       "      <td>Fresno</td>\n",
       "      <td>CA</td>\n",
       "      <td>Other</td>\n",
       "      <td>NaN</td>\n",
       "      <td>False</td>\n",
       "      <td>False</td>\n",
       "      <td>2009</td>\n",
       "      <td>10</td>\n",
       "    </tr>\n",
       "  </tbody>\n",
       "</table>\n",
       "<p>8525 rows × 14 columns</p>\n",
       "</div>"
      ],
      "text/plain": [
       "        UID                     Name   Age  Gender   Race        Date  \\\n",
       "0       133            Karen O. Chin  44.0  Female  Asian    5/4/2000   \n",
       "1       169     Chyraphone Komvongsa  26.0    Male  Asian    6/2/2000   \n",
       "2       257            Ming Chinh Ly  36.0    Male  Asian   8/13/2000   \n",
       "3       483            Kinh Quoc Dao  29.0    Male  Asian    2/9/2001   \n",
       "4       655  Vanpaseuth Phaisouphanh  25.0    Male  Asian   6/10/2001   \n",
       "...     ...                      ...   ...     ...    ...         ...   \n",
       "8521  12871     Joseph Frank Kennedy  48.0    Male  White   9/18/2010   \n",
       "8522  12978         Daniel Sylvester  35.0    Male  White   6/22/2010   \n",
       "8523  12996              Mario Marin  53.0    Male  White  12/28/2011   \n",
       "8524  13083      James Robert Hudson  34.0    Male  White    4/9/2011   \n",
       "8525  12553      Christopher Jackson  34.0    Male  White  10/24/2009   \n",
       "\n",
       "               City State Manner_of_death  Armed  Mental_illness   Flee  year  \\\n",
       "0           Alameda    CA            Shot    NaN           False  False  2000   \n",
       "1            Fresno    CA            Shot    NaN           False  False  2000   \n",
       "2          Rosemead    CA            Shot    Gun           False  False  2000   \n",
       "3       Valley Glen    CA            Shot    Gun           False  False  2001   \n",
       "4         Riverside    CA            Shot  Knife           False  False  2001   \n",
       "...             ...   ...             ...    ...             ...    ...   ...   \n",
       "8521      La Mirada    CA         Tasered    NaN           False  False  2010   \n",
       "8522  Crescent City    CA         Tasered    NaN            True  False  2010   \n",
       "8523      Santa Ana    CA         Tasered    NaN            True  False  2011   \n",
       "8524       Whittier    CA         Tasered    NaN            True  False  2011   \n",
       "8525         Fresno    CA           Other    NaN           False  False  2009   \n",
       "\n",
       "      month  \n",
       "0         5  \n",
       "1         6  \n",
       "2         8  \n",
       "3         2  \n",
       "4         6  \n",
       "...     ...  \n",
       "8521      9  \n",
       "8522      6  \n",
       "8523     12  \n",
       "8524      4  \n",
       "8525     10  \n",
       "\n",
       "[8525 rows x 14 columns]"
      ]
     },
     "execution_count": null,
     "metadata": {},
     "output_type": "execute_result"
    }
   ],
   "source": [
    "# Dropping NaNs from the Race Column\n",
    "df = df.dropna(subset = ['Race'])\n",
    "df"
   ]
  },
  {
   "cell_type": "code",
   "execution_count": null,
   "metadata": {},
   "outputs": [
    {
     "data": {
      "text/plain": [
       "8525"
      ]
     },
     "execution_count": null,
     "metadata": {},
     "output_type": "execute_result"
    }
   ],
   "source": [
    "# Checking to make sure no data is missing\n",
    "sum(df['Race']!=None)\n",
    "\n",
    "# 8526 sum output is the same as the 8526 rows found in the output of the dataset after removing the NaNs. Therefore no missing data."
   ]
  },
  {
   "cell_type": "code",
   "execution_count": null,
   "metadata": {},
   "outputs": [
    {
     "name": "stdout",
     "output_type": "stream",
     "text": [
      "White       3855\n",
      "Black       2536\n",
      "Hispanic    1783\n",
      "Asian        173\n",
      "Native       130\n",
      "Other         48\n",
      "Name: Race, dtype: int64\n"
     ]
    },
    {
     "data": {
      "text/plain": [
       "White       45.219941\n",
       "Black       29.747801\n",
       "Hispanic    20.914956\n",
       "Asian        2.029326\n",
       "Native       1.524927\n",
       "Other        0.563050\n",
       "Name: Race, dtype: float64"
      ]
     },
     "execution_count": null,
     "metadata": {},
     "output_type": "execute_result"
    }
   ],
   "source": [
    "# Re-calculating the values after taking out NaN values from the Race column\n",
    "print(df['Race'].value_counts())\n",
    "\n",
    "df['Race'].value_counts(normalize=True)*100 #multiplying by 100 to get percentage values\n",
    "# 45.22% of the police fatalities were white\n",
    "# 29.75% of the police fatalities were black\n",
    "# 20.91% of the police fatalities were hispanic\n",
    "# 2.03% of the police fatalities were asian\n",
    "# 1.52% of the police fatalities were native\n",
    "# 0.56% of the police fatalities were other"
   ]
  },
  {
   "cell_type": "markdown",
   "metadata": {},
   "source": [
    "\\\n",
    "***Date:***"
   ]
  },
  {
   "cell_type": "code",
   "execution_count": null,
   "metadata": {},
   "outputs": [
    {
     "data": {
      "text/plain": [
       "0"
      ]
     },
     "execution_count": null,
     "metadata": {},
     "output_type": "execute_result"
    }
   ],
   "source": [
    "# Checking for NaN values in Date\n",
    "df['Date'].isnull().sum()\n",
    "\n",
    "# No missing data is expected considering that the date would not be missed when reporting the case"
   ]
  },
  {
   "cell_type": "code",
   "execution_count": null,
   "metadata": {},
   "outputs": [
    {
     "data": {
      "text/plain": [
       "8525"
      ]
     },
     "execution_count": null,
     "metadata": {},
     "output_type": "execute_result"
    }
   ],
   "source": [
    "# Double checking if there is any missing data\n",
    "df['Date'].count()\n",
    "\n",
    "# Output of 8526 consistent with total of 8526 values since there are 0 NaN values so there is no missing data"
   ]
  },
  {
   "cell_type": "code",
   "execution_count": null,
   "metadata": {},
   "outputs": [
    {
     "data": {
      "text/plain": [
       "1/27/2016     16\n",
       "12/14/2015    15\n",
       "12/21/2015    15\n",
       "7/7/2015      14\n",
       "5/17/2015     14\n",
       "              ..\n",
       "3/31/2003      1\n",
       "3/11/2003      1\n",
       "2/23/2003      1\n",
       "2/8/2003       1\n",
       "4/9/2011       1\n",
       "Name: Date, Length: 3781, dtype: int64"
      ]
     },
     "execution_count": null,
     "metadata": {},
     "output_type": "execute_result"
    }
   ],
   "source": [
    "df['Date'].value_counts()"
   ]
  },
  {
   "cell_type": "markdown",
   "metadata": {},
   "source": [
    "\\\n",
    "***State:***"
   ]
  },
  {
   "cell_type": "code",
   "execution_count": null,
   "metadata": {},
   "outputs": [
    {
     "data": {
      "text/plain": [
       "0"
      ]
     },
     "execution_count": null,
     "metadata": {},
     "output_type": "execute_result"
    }
   ],
   "source": [
    "# Checking for NaN values\n",
    "df['State'].isnull().sum()"
   ]
  },
  {
   "cell_type": "code",
   "execution_count": null,
   "metadata": {},
   "outputs": [
    {
     "data": {
      "text/plain": [
       "8525"
      ]
     },
     "execution_count": null,
     "metadata": {},
     "output_type": "execute_result"
    }
   ],
   "source": [
    "df['State'].count()\n",
    "\n",
    "# no missing values since the total 8525 is equal to the total num of values in State"
   ]
  },
  {
   "cell_type": "code",
   "execution_count": null,
   "metadata": {},
   "outputs": [
    {
     "data": {
      "text/plain": [
       "CA    2023\n",
       "TX     927\n",
       "FL     549\n",
       "AZ     334\n",
       "WA     248\n",
       "NV     242\n",
       "NY     235\n",
       "LA     233\n",
       "NC     190\n",
       "OH     190\n",
       "IL     188\n",
       "GA     187\n",
       "AL     186\n",
       "CO     179\n",
       "MN     161\n",
       "MO     157\n",
       "OR     142\n",
       "OK     138\n",
       "TN     130\n",
       "PA     122\n",
       "VA     116\n",
       "NM     106\n",
       "MD     105\n",
       "MI     105\n",
       "SC     103\n",
       "UT     101\n",
       "MS      95\n",
       "IN      88\n",
       "NJ      85\n",
       "WI      85\n",
       "MA      82\n",
       "KY      78\n",
       "KS      75\n",
       "CT      67\n",
       "ID      63\n",
       "AR      52\n",
       "NE      44\n",
       "WV      36\n",
       "AK      33\n",
       "DC      32\n",
       "IA      31\n",
       "MT      31\n",
       "SD      29\n",
       "ME      26\n",
       "WY      21\n",
       "DE      16\n",
       "NH      16\n",
       "VT      13\n",
       "HI      12\n",
       "RI      10\n",
       "ND       8\n",
       "Name: State, dtype: int64"
      ]
     },
     "execution_count": null,
     "metadata": {},
     "output_type": "execute_result"
    }
   ],
   "source": [
    "# Re-calculating the values based on the new dataset without the NaN values in the specified columns\n",
    "df['State'].value_counts()"
   ]
  },
  {
   "cell_type": "code",
   "execution_count": null,
   "metadata": {},
   "outputs": [
    {
     "data": {
      "text/plain": [
       "CA    23.730205\n",
       "TX    10.873900\n",
       "FL     6.439883\n",
       "AZ     3.917889\n",
       "WA     2.909091\n",
       "NV     2.838710\n",
       "NY     2.756598\n",
       "LA     2.733138\n",
       "NC     2.228739\n",
       "OH     2.228739\n",
       "IL     2.205279\n",
       "GA     2.193548\n",
       "AL     2.181818\n",
       "CO     2.099707\n",
       "MN     1.888563\n",
       "MO     1.841642\n",
       "OR     1.665689\n",
       "OK     1.618768\n",
       "TN     1.524927\n",
       "PA     1.431085\n",
       "VA     1.360704\n",
       "NM     1.243402\n",
       "MD     1.231672\n",
       "MI     1.231672\n",
       "SC     1.208211\n",
       "UT     1.184751\n",
       "MS     1.114370\n",
       "IN     1.032258\n",
       "NJ     0.997067\n",
       "WI     0.997067\n",
       "MA     0.961877\n",
       "KY     0.914956\n",
       "KS     0.879765\n",
       "CT     0.785924\n",
       "ID     0.739003\n",
       "AR     0.609971\n",
       "NE     0.516129\n",
       "WV     0.422287\n",
       "AK     0.387097\n",
       "DC     0.375367\n",
       "IA     0.363636\n",
       "MT     0.363636\n",
       "SD     0.340176\n",
       "ME     0.304985\n",
       "WY     0.246334\n",
       "DE     0.187683\n",
       "NH     0.187683\n",
       "VT     0.152493\n",
       "HI     0.140762\n",
       "RI     0.117302\n",
       "ND     0.093842\n",
       "Name: State, dtype: float64"
      ]
     },
     "execution_count": null,
     "metadata": {},
     "output_type": "execute_result"
    }
   ],
   "source": [
    "# Re-calculating the values based on the new dataset without the NaN values in the specified columns\n",
    "df['State'].value_counts(normalize=True)*100"
   ]
  },
  {
   "cell_type": "code",
   "execution_count": null,
   "metadata": {},
   "outputs": [
    {
     "data": {
      "text/plain": [
       "<AxesSubplot:>"
      ]
     },
     "execution_count": null,
     "metadata": {},
     "output_type": "execute_result"
    }
   ],
   "source": [
    "sns.heatmap(df.isnull(),yticklabels=False,cbar=False,cmap='viridis')"
   ]
  },
  {
   "cell_type": "markdown",
   "metadata": {},
   "source": [
    "## EDA Step 6: Research Questions"
   ]
  },
  {
   "cell_type": "markdown",
   "metadata": {},
   "source": [
    "Research Question 1: How common are police fatalities amoung different races?\n",
    "\\\n",
    "Research Question 2: What is the frequency of police fatalities for different states in the US?\n",
    "\\\n",
    "Research Question 3: In California, what is the frequency of police fatalities based on race?\n",
    "\\\n",
    "Research Question 4: Does the number of cases of police fatalities for specific races differ based on different states on which it occurs in?"
   ]
  },
  {
   "cell_type": "markdown",
   "metadata": {},
   "source": [
    "## EDA Step 7: Data Analyses and Visualization"
   ]
  },
  {
   "cell_type": "code",
   "execution_count": null,
   "metadata": {},
   "outputs": [
    {
     "data": {
      "text/html": [
       "<div>\n",
       "<style scoped>\n",
       "    .dataframe tbody tr th:only-of-type {\n",
       "        vertical-align: middle;\n",
       "    }\n",
       "\n",
       "    .dataframe tbody tr th {\n",
       "        vertical-align: top;\n",
       "    }\n",
       "\n",
       "    .dataframe thead th {\n",
       "        text-align: right;\n",
       "    }\n",
       "</style>\n",
       "<table border=\"1\" class=\"dataframe\">\n",
       "  <thead>\n",
       "    <tr style=\"text-align: right;\">\n",
       "      <th></th>\n",
       "      <th>UID</th>\n",
       "      <th>Name</th>\n",
       "      <th>Age</th>\n",
       "      <th>Gender</th>\n",
       "      <th>Race</th>\n",
       "      <th>Date</th>\n",
       "      <th>City</th>\n",
       "      <th>State</th>\n",
       "      <th>Manner_of_death</th>\n",
       "      <th>Armed</th>\n",
       "      <th>Mental_illness</th>\n",
       "      <th>Flee</th>\n",
       "      <th>year</th>\n",
       "      <th>month</th>\n",
       "    </tr>\n",
       "  </thead>\n",
       "  <tbody>\n",
       "    <tr>\n",
       "      <th>0</th>\n",
       "      <td>133</td>\n",
       "      <td>Karen O. Chin</td>\n",
       "      <td>44.0</td>\n",
       "      <td>Female</td>\n",
       "      <td>Asian</td>\n",
       "      <td>5/4/2000</td>\n",
       "      <td>Alameda</td>\n",
       "      <td>CA</td>\n",
       "      <td>Shot</td>\n",
       "      <td>NaN</td>\n",
       "      <td>False</td>\n",
       "      <td>False</td>\n",
       "      <td>2000</td>\n",
       "      <td>5</td>\n",
       "    </tr>\n",
       "    <tr>\n",
       "      <th>1</th>\n",
       "      <td>169</td>\n",
       "      <td>Chyraphone Komvongsa</td>\n",
       "      <td>26.0</td>\n",
       "      <td>Male</td>\n",
       "      <td>Asian</td>\n",
       "      <td>6/2/2000</td>\n",
       "      <td>Fresno</td>\n",
       "      <td>CA</td>\n",
       "      <td>Shot</td>\n",
       "      <td>NaN</td>\n",
       "      <td>False</td>\n",
       "      <td>False</td>\n",
       "      <td>2000</td>\n",
       "      <td>6</td>\n",
       "    </tr>\n",
       "    <tr>\n",
       "      <th>2</th>\n",
       "      <td>257</td>\n",
       "      <td>Ming Chinh Ly</td>\n",
       "      <td>36.0</td>\n",
       "      <td>Male</td>\n",
       "      <td>Asian</td>\n",
       "      <td>8/13/2000</td>\n",
       "      <td>Rosemead</td>\n",
       "      <td>CA</td>\n",
       "      <td>Shot</td>\n",
       "      <td>Gun</td>\n",
       "      <td>False</td>\n",
       "      <td>False</td>\n",
       "      <td>2000</td>\n",
       "      <td>8</td>\n",
       "    </tr>\n",
       "    <tr>\n",
       "      <th>3</th>\n",
       "      <td>483</td>\n",
       "      <td>Kinh Quoc Dao</td>\n",
       "      <td>29.0</td>\n",
       "      <td>Male</td>\n",
       "      <td>Asian</td>\n",
       "      <td>2/9/2001</td>\n",
       "      <td>Valley Glen</td>\n",
       "      <td>CA</td>\n",
       "      <td>Shot</td>\n",
       "      <td>Gun</td>\n",
       "      <td>False</td>\n",
       "      <td>False</td>\n",
       "      <td>2001</td>\n",
       "      <td>2</td>\n",
       "    </tr>\n",
       "    <tr>\n",
       "      <th>4</th>\n",
       "      <td>655</td>\n",
       "      <td>Vanpaseuth Phaisouphanh</td>\n",
       "      <td>25.0</td>\n",
       "      <td>Male</td>\n",
       "      <td>Asian</td>\n",
       "      <td>6/10/2001</td>\n",
       "      <td>Riverside</td>\n",
       "      <td>CA</td>\n",
       "      <td>Shot</td>\n",
       "      <td>Knife</td>\n",
       "      <td>False</td>\n",
       "      <td>False</td>\n",
       "      <td>2001</td>\n",
       "      <td>6</td>\n",
       "    </tr>\n",
       "    <tr>\n",
       "      <th>...</th>\n",
       "      <td>...</td>\n",
       "      <td>...</td>\n",
       "      <td>...</td>\n",
       "      <td>...</td>\n",
       "      <td>...</td>\n",
       "      <td>...</td>\n",
       "      <td>...</td>\n",
       "      <td>...</td>\n",
       "      <td>...</td>\n",
       "      <td>...</td>\n",
       "      <td>...</td>\n",
       "      <td>...</td>\n",
       "      <td>...</td>\n",
       "      <td>...</td>\n",
       "    </tr>\n",
       "    <tr>\n",
       "      <th>8521</th>\n",
       "      <td>12871</td>\n",
       "      <td>Joseph Frank Kennedy</td>\n",
       "      <td>48.0</td>\n",
       "      <td>Male</td>\n",
       "      <td>White</td>\n",
       "      <td>9/18/2010</td>\n",
       "      <td>La Mirada</td>\n",
       "      <td>CA</td>\n",
       "      <td>Tasered</td>\n",
       "      <td>NaN</td>\n",
       "      <td>False</td>\n",
       "      <td>False</td>\n",
       "      <td>2010</td>\n",
       "      <td>9</td>\n",
       "    </tr>\n",
       "    <tr>\n",
       "      <th>8522</th>\n",
       "      <td>12978</td>\n",
       "      <td>Daniel Sylvester</td>\n",
       "      <td>35.0</td>\n",
       "      <td>Male</td>\n",
       "      <td>White</td>\n",
       "      <td>6/22/2010</td>\n",
       "      <td>Crescent City</td>\n",
       "      <td>CA</td>\n",
       "      <td>Tasered</td>\n",
       "      <td>NaN</td>\n",
       "      <td>True</td>\n",
       "      <td>False</td>\n",
       "      <td>2010</td>\n",
       "      <td>6</td>\n",
       "    </tr>\n",
       "    <tr>\n",
       "      <th>8523</th>\n",
       "      <td>12996</td>\n",
       "      <td>Mario Marin</td>\n",
       "      <td>53.0</td>\n",
       "      <td>Male</td>\n",
       "      <td>White</td>\n",
       "      <td>12/28/2011</td>\n",
       "      <td>Santa Ana</td>\n",
       "      <td>CA</td>\n",
       "      <td>Tasered</td>\n",
       "      <td>NaN</td>\n",
       "      <td>True</td>\n",
       "      <td>False</td>\n",
       "      <td>2011</td>\n",
       "      <td>12</td>\n",
       "    </tr>\n",
       "    <tr>\n",
       "      <th>8524</th>\n",
       "      <td>13083</td>\n",
       "      <td>James Robert Hudson</td>\n",
       "      <td>34.0</td>\n",
       "      <td>Male</td>\n",
       "      <td>White</td>\n",
       "      <td>4/9/2011</td>\n",
       "      <td>Whittier</td>\n",
       "      <td>CA</td>\n",
       "      <td>Tasered</td>\n",
       "      <td>NaN</td>\n",
       "      <td>True</td>\n",
       "      <td>False</td>\n",
       "      <td>2011</td>\n",
       "      <td>4</td>\n",
       "    </tr>\n",
       "    <tr>\n",
       "      <th>8525</th>\n",
       "      <td>12553</td>\n",
       "      <td>Christopher Jackson</td>\n",
       "      <td>34.0</td>\n",
       "      <td>Male</td>\n",
       "      <td>White</td>\n",
       "      <td>10/24/2009</td>\n",
       "      <td>Fresno</td>\n",
       "      <td>CA</td>\n",
       "      <td>Other</td>\n",
       "      <td>NaN</td>\n",
       "      <td>False</td>\n",
       "      <td>False</td>\n",
       "      <td>2009</td>\n",
       "      <td>10</td>\n",
       "    </tr>\n",
       "  </tbody>\n",
       "</table>\n",
       "<p>8525 rows × 14 columns</p>\n",
       "</div>"
      ],
      "text/plain": [
       "        UID                     Name   Age  Gender   Race        Date  \\\n",
       "0       133            Karen O. Chin  44.0  Female  Asian    5/4/2000   \n",
       "1       169     Chyraphone Komvongsa  26.0    Male  Asian    6/2/2000   \n",
       "2       257            Ming Chinh Ly  36.0    Male  Asian   8/13/2000   \n",
       "3       483            Kinh Quoc Dao  29.0    Male  Asian    2/9/2001   \n",
       "4       655  Vanpaseuth Phaisouphanh  25.0    Male  Asian   6/10/2001   \n",
       "...     ...                      ...   ...     ...    ...         ...   \n",
       "8521  12871     Joseph Frank Kennedy  48.0    Male  White   9/18/2010   \n",
       "8522  12978         Daniel Sylvester  35.0    Male  White   6/22/2010   \n",
       "8523  12996              Mario Marin  53.0    Male  White  12/28/2011   \n",
       "8524  13083      James Robert Hudson  34.0    Male  White    4/9/2011   \n",
       "8525  12553      Christopher Jackson  34.0    Male  White  10/24/2009   \n",
       "\n",
       "               City State Manner_of_death  Armed  Mental_illness   Flee  year  \\\n",
       "0           Alameda    CA            Shot    NaN           False  False  2000   \n",
       "1            Fresno    CA            Shot    NaN           False  False  2000   \n",
       "2          Rosemead    CA            Shot    Gun           False  False  2000   \n",
       "3       Valley Glen    CA            Shot    Gun           False  False  2001   \n",
       "4         Riverside    CA            Shot  Knife           False  False  2001   \n",
       "...             ...   ...             ...    ...             ...    ...   ...   \n",
       "8521      La Mirada    CA         Tasered    NaN           False  False  2010   \n",
       "8522  Crescent City    CA         Tasered    NaN            True  False  2010   \n",
       "8523      Santa Ana    CA         Tasered    NaN            True  False  2011   \n",
       "8524       Whittier    CA         Tasered    NaN            True  False  2011   \n",
       "8525         Fresno    CA           Other    NaN           False  False  2009   \n",
       "\n",
       "      month  \n",
       "0         5  \n",
       "1         6  \n",
       "2         8  \n",
       "3         2  \n",
       "4         6  \n",
       "...     ...  \n",
       "8521      9  \n",
       "8522      6  \n",
       "8523     12  \n",
       "8524      4  \n",
       "8525     10  \n",
       "\n",
       "[8525 rows x 14 columns]"
      ]
     },
     "execution_count": null,
     "metadata": {},
     "output_type": "execute_result"
    }
   ],
   "source": [
    "df"
   ]
  },
  {
   "cell_type": "markdown",
   "metadata": {},
   "source": [
    "***Figure 1***"
   ]
  },
  {
   "cell_type": "code",
   "execution_count": null,
   "metadata": {},
   "outputs": [
    {
     "data": {
      "text/plain": [
       "<AxesSubplot:xlabel='Race', ylabel='count'>"
      ]
     },
     "execution_count": null,
     "metadata": {},
     "output_type": "execute_result"
    },
    {
     "data": {
      "image/png": "[encoded data removed]",
      "text/plain": [
       "<Figure size 800x500 with 1 Axes>"
      ]
     },
     "metadata": {},
     "output_type": "display_data"
    }
   ],
   "source": [
    "# Countplot for Cases by Race\n",
    "%matplotlib inline\n",
    "sns.set(rc={'figure.figsize':(8,5)})\n",
    "sns.countplot(x=df['Race'],data=df,palette='pastel')"
   ]
  },
  {
   "cell_type": "markdown",
   "metadata": {},
   "source": [
    "***Figure 2***"
   ]
  },
  {
   "cell_type": "code",
   "execution_count": null,
   "metadata": {},
   "outputs": [
    {
     "data": {
      "text/plain": [
       "<AxesSubplot:xlabel='count', ylabel='State'>"
      ]
     },
     "execution_count": null,
     "metadata": {},
     "output_type": "execute_result"
    },
    {
     "data": {
      "image/png": "[encoded data removed]",
      "text/plain": [
       "<Figure size 1000x1500 with 1 Axes>"
      ]
     },
     "metadata": {},
     "output_type": "display_data"
    }
   ],
   "source": [
    "# Countplot for Cases by State\n",
    "%matplotlib inline\n",
    "sns.set(rc={'figure.figsize':(10,15)})\n",
    "sns.countplot(y=df['State'],data=df,palette='pastel')"
   ]
  },
  {
   "cell_type": "code",
   "execution_count": null,
   "metadata": {},
   "outputs": [],
   "source": []
  },
  {
   "cell_type": "code",
   "execution_count": null,
   "metadata": {},
   "outputs": [
    {
     "data": {
      "text/plain": [
       "<AxesSubplot:xlabel='State', ylabel='count'>"
      ]
     },
     "execution_count": null,
     "metadata": {},
     "output_type": "execute_result"
    },
    {
     "data": {
      "image/png": "[encoded data removed]",
      "text/plain": [
       "<Figure size 1600x500 with 1 Axes>"
      ]
     },
     "metadata": {},
     "output_type": "display_data"
    }
   ],
   "source": [
    "%matplotlib inline\n",
    "\n",
    "sns.set(rc={'figure.figsize':(16,5)})\n",
    "\n",
    "sns.countplot(x=df[\"State\"],data=df,hue=df[\"Race\"])"
   ]
  },
  {
   "cell_type": "code",
   "execution_count": null,
   "metadata": {},
   "outputs": [],
   "source": [
    "#%matplotlib inline\n",
    "#sns.set(rc={'figure.figsize':(16,5)})\n",
    "#df['White'] = df[\"Race\"].isin(['White'])\n",
    "#sns.countplot(data=df,x='State',hue='White')"
   ]
  },
  {
   "cell_type": "code",
   "execution_count": null,
   "metadata": {},
   "outputs": [],
   "source": []
  }
 ],
 "metadata": {
  "kernelspec": {
   "display_name": "Python 3 (ipykernel)",
   "language": "python",
   "name": "python3"
  }
 },
 "nbformat": 4,
 "nbformat_minor": 4
}
