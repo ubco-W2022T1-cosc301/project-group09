{
 "cells": [
  {
   "cell_type": "markdown",
   "metadata": {},
   "source": [
    "# Zackary Nielsen"
   ]
  },
  {
   "cell_type": "markdown",
   "metadata": {},
   "source": [
    "**EDA**\n",
    "**Step 1: describe dataset**"
   ]
  },
  {
   "cell_type": "markdown",
   "metadata": {},
   "source": [
    "The dataset chosen came from data.world, provided by user Chris Awram. Awram collected and combined data from three primary sources: fatalencounters.org, gunviolencearchive.org, and github.com/washingtonpost/data-police-shootings. The dataset is titled \"US Police Involved Fatalities\" and it has information on individuals who were killed during alteractions with US police. Data has 12 columns or variables: UID (identification number), name, age, gender, race, date, city, state, manner of death, whether they were armed, mental illness, and if they were fleeing. The 12491 rows/occurrences in the dataset were collected across years 2000-2016. This dataset's purpose is to uncover insights about individuals which have been killed by US police. The inclusion of variables such as race, mental_illness, and gender may provide interesting insights into \"risk-factors\" which may increase the chance of an individual experinceing a fatal police interaction. This dataset's primary purpose is public knowledge about police fatalities, which may result in increased levels of transparency and accountability for law enforcement. How the data was collected is not entirely clear. I speculate Awram collected the data from primary historical records (digitized) and then combined them into the final dataset. "
   ]
  },
  {
   "cell_type": "code",
   "execution_count": null,
   "metadata": {},
   "outputs": [],
   "source": [
    "#packages \n",
    "\n",
    "import pandas as pd\n",
    "import numpy as np\n",
    "import seaborn as sns\n",
    "import os\n",
    "import matplotlib.pyplot as plt"
   ]
  },
  {
   "cell_type": "markdown",
   "metadata": {},
   "source": [
    "**EDA Step 2: Load data**"
   ]
  },
  {
   "cell_type": "code",
   "execution_count": null,
   "metadata": {},
   "outputs": [
    {
     "data": {
      "text/plain": [
       "'1.4.4'"
      ]
     },
     "execution_count": null,
     "metadata": {},
     "output_type": "execute_result"
    }
   ],
   "source": [
    "pd.__version__\n"
   ]
  },
  {
   "cell_type": "code",
   "execution_count": null,
   "metadata": {},
   "outputs": [],
   "source": [
    "df = pd.read_csv('../data/raw/data.csv',encoding=\"ISO-8859-1\")\n"
   ]
  },
  {
   "cell_type": "markdown",
   "metadata": {},
   "source": [
    "**EDA Step 3: Explore data**"
   ]
  },
  {
   "cell_type": "code",
   "execution_count": null,
   "metadata": {},
   "outputs": [
    {
     "name": "stdout",
     "output_type": "stream",
     "text": [
      "<class 'pandas.core.frame.DataFrame'>\n",
      "RangeIndex: 12491 entries, 0 to 12490\n",
      "Data columns (total 12 columns):\n",
      " #   Column           Non-Null Count  Dtype  \n",
      "---  ------           --------------  -----  \n",
      " 0   UID              12491 non-null  int64  \n",
      " 1   Name             12491 non-null  object \n",
      " 2   Age              12258 non-null  float64\n",
      " 3   Gender           12483 non-null  object \n",
      " 4   Race             8526 non-null   object \n",
      " 5   Date             12491 non-null  object \n",
      " 6   City             12487 non-null  object \n",
      " 7   State            12491 non-null  object \n",
      " 8   Manner_of_death  12491 non-null  object \n",
      " 9   Armed            6814 non-null   object \n",
      " 10  Mental_illness   12491 non-null  bool   \n",
      " 11  Flee             12491 non-null  bool   \n",
      "dtypes: bool(2), float64(1), int64(1), object(8)\n",
      "memory usage: 1000.4+ KB\n"
     ]
    },
    {
     "data": {
      "text/plain": [
       "pandas.core.frame.DataFrame"
      ]
     },
     "execution_count": null,
     "metadata": {},
     "output_type": "execute_result"
    }
   ],
   "source": [
    "#Data types \n",
    "\n",
    "df.info() \n",
    "type(df) #dataset: pandas.core.frame.DataFrame\n",
    "\n",
    "#my variables of interest: Age (float64), Mental_illness (boolean), Flee (boolean)"
   ]
  },
  {
   "cell_type": "code",
   "execution_count": null,
   "metadata": {},
   "outputs": [
    {
     "data": {
      "text/plain": [
       "((12491, 12),\n",
       " Index(['UID', 'Name', 'Age', 'Gender', 'Race', 'Date', 'City', 'State',\n",
       "        'Manner_of_death', 'Armed', 'Mental_illness', 'Flee'],\n",
       "       dtype='object'))"
      ]
     },
     "execution_count": null,
     "metadata": {},
     "output_type": "execute_result"
    }
   ],
   "source": [
    "#Shape (rows and colunms) of Dataset and Column Names\n",
    "\n",
    "df.shape, df.columns "
   ]
  },
  {
   "cell_type": "code",
   "execution_count": null,
   "metadata": {},
   "outputs": [
    {
     "data": {
      "text/html": [
       "<div>\n",
       "<style scoped>\n",
       "    .dataframe tbody tr th:only-of-type {\n",
       "        vertical-align: middle;\n",
       "    }\n",
       "\n",
       "    .dataframe tbody tr th {\n",
       "        vertical-align: top;\n",
       "    }\n",
       "\n",
       "    .dataframe thead th {\n",
       "        text-align: right;\n",
       "    }\n",
       "</style>\n",
       "<table border=\"1\" class=\"dataframe\">\n",
       "  <thead>\n",
       "    <tr style=\"text-align: right;\">\n",
       "      <th></th>\n",
       "      <th>UID</th>\n",
       "      <th>Name</th>\n",
       "      <th>Age</th>\n",
       "      <th>Gender</th>\n",
       "      <th>Race</th>\n",
       "      <th>Date</th>\n",
       "      <th>City</th>\n",
       "      <th>State</th>\n",
       "      <th>Manner_of_death</th>\n",
       "      <th>Armed</th>\n",
       "      <th>Mental_illness</th>\n",
       "      <th>Flee</th>\n",
       "    </tr>\n",
       "  </thead>\n",
       "  <tbody>\n",
       "    <tr>\n",
       "      <th>0</th>\n",
       "      <td>133</td>\n",
       "      <td>Karen O. Chin</td>\n",
       "      <td>44.0</td>\n",
       "      <td>Female</td>\n",
       "      <td>Asian</td>\n",
       "      <td>5/4/2000</td>\n",
       "      <td>Alameda</td>\n",
       "      <td>CA</td>\n",
       "      <td>Shot</td>\n",
       "      <td>NaN</td>\n",
       "      <td>False</td>\n",
       "      <td>False</td>\n",
       "    </tr>\n",
       "    <tr>\n",
       "      <th>1</th>\n",
       "      <td>169</td>\n",
       "      <td>Chyraphone Komvongsa</td>\n",
       "      <td>26.0</td>\n",
       "      <td>Male</td>\n",
       "      <td>Asian</td>\n",
       "      <td>6/2/2000</td>\n",
       "      <td>Fresno</td>\n",
       "      <td>CA</td>\n",
       "      <td>Shot</td>\n",
       "      <td>NaN</td>\n",
       "      <td>False</td>\n",
       "      <td>False</td>\n",
       "    </tr>\n",
       "    <tr>\n",
       "      <th>2</th>\n",
       "      <td>257</td>\n",
       "      <td>Ming Chinh Ly</td>\n",
       "      <td>36.0</td>\n",
       "      <td>Male</td>\n",
       "      <td>Asian</td>\n",
       "      <td>8/13/2000</td>\n",
       "      <td>Rosemead</td>\n",
       "      <td>CA</td>\n",
       "      <td>Shot</td>\n",
       "      <td>Gun</td>\n",
       "      <td>False</td>\n",
       "      <td>False</td>\n",
       "    </tr>\n",
       "    <tr>\n",
       "      <th>3</th>\n",
       "      <td>483</td>\n",
       "      <td>Kinh Quoc Dao</td>\n",
       "      <td>29.0</td>\n",
       "      <td>Male</td>\n",
       "      <td>Asian</td>\n",
       "      <td>2/9/2001</td>\n",
       "      <td>Valley Glen</td>\n",
       "      <td>CA</td>\n",
       "      <td>Shot</td>\n",
       "      <td>Gun</td>\n",
       "      <td>False</td>\n",
       "      <td>False</td>\n",
       "    </tr>\n",
       "    <tr>\n",
       "      <th>4</th>\n",
       "      <td>655</td>\n",
       "      <td>Vanpaseuth Phaisouphanh</td>\n",
       "      <td>25.0</td>\n",
       "      <td>Male</td>\n",
       "      <td>Asian</td>\n",
       "      <td>6/10/2001</td>\n",
       "      <td>Riverside</td>\n",
       "      <td>CA</td>\n",
       "      <td>Shot</td>\n",
       "      <td>Knife</td>\n",
       "      <td>False</td>\n",
       "      <td>False</td>\n",
       "    </tr>\n",
       "  </tbody>\n",
       "</table>\n",
       "</div>"
      ],
      "text/plain": [
       "   UID                     Name   Age  Gender   Race       Date         City  \\\n",
       "0  133            Karen O. Chin  44.0  Female  Asian   5/4/2000      Alameda   \n",
       "1  169     Chyraphone Komvongsa  26.0    Male  Asian   6/2/2000       Fresno   \n",
       "2  257            Ming Chinh Ly  36.0    Male  Asian  8/13/2000     Rosemead   \n",
       "3  483            Kinh Quoc Dao  29.0    Male  Asian   2/9/2001  Valley Glen   \n",
       "4  655  Vanpaseuth Phaisouphanh  25.0    Male  Asian  6/10/2001    Riverside   \n",
       "\n",
       "  State Manner_of_death  Armed  Mental_illness   Flee  \n",
       "0    CA            Shot    NaN           False  False  \n",
       "1    CA            Shot    NaN           False  False  \n",
       "2    CA            Shot    Gun           False  False  \n",
       "3    CA            Shot    Gun           False  False  \n",
       "4    CA            Shot  Knife           False  False  "
      ]
     },
     "execution_count": null,
     "metadata": {},
     "output_type": "execute_result"
    }
   ],
   "source": [
    "# Dataset Preview\n",
    "\n",
    "df.head()"
   ]
  },
  {
   "cell_type": "code",
   "execution_count": null,
   "metadata": {},
   "outputs": [
    {
     "data": {
      "text/plain": [
       "UID                12488\n",
       "Name               11354\n",
       "Age                   92\n",
       "Gender                 2\n",
       "Race                   6\n",
       "Date                4848\n",
       "City                3327\n",
       "State                 51\n",
       "Manner_of_death        4\n",
       "Armed                 59\n",
       "Mental_illness         2\n",
       "Flee                   2\n",
       "dtype: int64"
      ]
     },
     "execution_count": null,
     "metadata": {},
     "output_type": "execute_result"
    }
   ],
   "source": [
    "# Number of unique responses per variable\n",
    "\n",
    "df.nunique() \n",
    "\n",
    "# 92 unique age values\n",
    "# Both Mental_illness & Flee have 2 unique values (boolean)"
   ]
  },
  {
   "cell_type": "code",
   "execution_count": null,
   "metadata": {},
   "outputs": [
    {
     "data": {
      "text/plain": [
       "count    12258.000000\n",
       "mean        35.269538\n",
       "std         12.979532\n",
       "min          1.000000\n",
       "25%         25.000000\n",
       "50%         33.000000\n",
       "75%         44.000000\n",
       "max        107.000000\n",
       "Name: Age, dtype: float64"
      ]
     },
     "execution_count": null,
     "metadata": {},
     "output_type": "execute_result"
    }
   ],
   "source": [
    "# Descriptive summary of Age\n",
    "\n",
    "df[\"Age\"].describe()\n",
    "\n",
    "#the min(1.0) and max(107.0) of Age is concerning; check if the extremes are outliers in the Wrangling step "
   ]
  },
  {
   "cell_type": "code",
   "execution_count": null,
   "metadata": {},
   "outputs": [
    {
     "data": {
      "text/plain": [
       "33.0"
      ]
     },
     "execution_count": null,
     "metadata": {},
     "output_type": "execute_result"
    }
   ],
   "source": [
    "#Median of Age\n",
    "df[\"Age\"].median()"
   ]
  },
  {
   "cell_type": "code",
   "execution_count": null,
   "metadata": {},
   "outputs": [
    {
     "name": "stdout",
     "output_type": "stream",
     "text": [
      "5\n"
     ]
    }
   ],
   "source": [
    "print(sum(df['Age']==1)) \n",
    "\n",
    "# 5 individuals at age 1 exist"
   ]
  },
  {
   "cell_type": "code",
   "execution_count": null,
   "metadata": {},
   "outputs": [
    {
     "name": "stdout",
     "output_type": "stream",
     "text": [
      "1 0\n"
     ]
    }
   ],
   "source": [
    "print(sum(df['Age']==107), sum(df['Age']==106)) \n",
    "\n",
    "# 1 individuals at age 107 exists (likely there are outliers on the high side of age)"
   ]
  },
  {
   "cell_type": "code",
   "execution_count": null,
   "metadata": {},
   "outputs": [
    {
     "name": "stdout",
     "output_type": "stream",
     "text": [
      "6603\n"
     ]
    }
   ],
   "source": [
    " #count of age data points under the approximate mean (35)\n",
    "    \n",
    "print(sum(df['Age']<35)) "
   ]
  },
  {
   "cell_type": "code",
   "execution_count": null,
   "metadata": {},
   "outputs": [
    {
     "name": "stdout",
     "output_type": "stream",
     "text": [
      "20\n"
     ]
    }
   ],
   "source": [
    "#Count of Individuals with age less than 10 \n",
    "\n",
    "print(sum(df['Age']<10))"
   ]
  },
  {
   "cell_type": "code",
   "execution_count": null,
   "metadata": {},
   "outputs": [
    {
     "name": "stdout",
     "output_type": "stream",
     "text": [
      "4\n"
     ]
    }
   ],
   "source": [
    "#Count of Individuals with age greater than 90\n",
    "\n",
    "print(sum(df['Age']>90))\n",
    "\n",
    "# less common than age<10"
   ]
  },
  {
   "cell_type": "code",
   "execution_count": null,
   "metadata": {},
   "outputs": [
    {
     "data": {
      "text/plain": [
       "(True    2629\n",
       " Name: Mental_illness, dtype: int64,\n",
       " False    9862\n",
       " Name: Mental_illness, dtype: int64)"
      ]
     },
     "execution_count": null,
     "metadata": {},
     "output_type": "execute_result"
    }
   ],
   "source": [
    "# Occurences of Mental_illness in dataset\n",
    "\n",
    "df[df[\"Mental_illness\"]==True][\"Mental_illness\"].value_counts(), df[df[\"Mental_illness\"]==False][\"Mental_illness\"].value_counts()\n",
    "\n",
    "# could also use: df['Mental_illness'].describe(), but my code returns both the True, False counts \n",
    "\n",
    "# initially, n=9862 individuals were not labeled as having mental illness. \n",
    "# intially, n=2629 Indivdiuals labeled as having mental illness. "
   ]
  },
  {
   "cell_type": "code",
   "execution_count": null,
   "metadata": {},
   "outputs": [
    {
     "data": {
      "text/plain": [
       "False    0.789528\n",
       "True     0.210472\n",
       "Name: Mental_illness, dtype: float64"
      ]
     },
     "execution_count": null,
     "metadata": {},
     "output_type": "execute_result"
    }
   ],
   "source": [
    "# Proportions for Mental_illness \n",
    "\n",
    "df['Mental_illness'].value_counts(normalize=True) \n",
    "\n",
    "# Initially, ~78.95% are False for mental_illness \n",
    "# Initially, ~21.05% are True for mental_illness  "
   ]
  },
  {
   "cell_type": "code",
   "execution_count": null,
   "metadata": {},
   "outputs": [
    {
     "data": {
      "text/plain": [
       "(True    560\n",
       " Name: Flee, dtype: int64,\n",
       " False    11931\n",
       " Name: Flee, dtype: int64)"
      ]
     },
     "execution_count": null,
     "metadata": {},
     "output_type": "execute_result"
    }
   ],
   "source": [
    "# Occurences of Flee in dataset\n",
    "\n",
    "df[df[\"Flee\"]==True][\"Flee\"].value_counts(), df[df[\"Flee\"]==False][\"Flee\"].value_counts()\n",
    "\n",
    "# initially, a very small portion of individuals fled police, n=560\n",
    "# initially, most individuals did not flee police, n=11931"
   ]
  },
  {
   "cell_type": "code",
   "execution_count": null,
   "metadata": {},
   "outputs": [
    {
     "data": {
      "text/plain": [
       "False    0.955168\n",
       "True     0.044832\n",
       "Name: Flee, dtype: float64"
      ]
     },
     "execution_count": null,
     "metadata": {},
     "output_type": "execute_result"
    }
   ],
   "source": [
    "# Proportions for Flee\n",
    "\n",
    "df['Flee'].value_counts(normalize=True) \n",
    "\n",
    "# Initially, ~95.50% are false for Flee \n",
    "# Initially, ~4.50% are True for Flee"
   ]
  },
  {
   "cell_type": "markdown",
   "metadata": {},
   "source": [
    "**EDA Step 4: Initial Thoughts**"
   ]
  },
  {
   "cell_type": "markdown",
   "metadata": {},
   "source": [
    "**I will split my thoughts by variable:**\n",
    "\n",
    "***Age:*** \n",
    "Range of 1-107. M = 35.27, SD = 12.98. \n",
    "The range is slightly concerning, with values such as age= 1, 107. When checking the occurence of the min/max values, numerous occurences of min values existed (age 1 = 5 occurences) but the max values appeared to look like possible outliers  (age 107 = 1 occurence, age 106 = 0 occurence). 92 different age values were reported. The IQR of variable age is tight (.75 = 44, .25 = 25) so we expect there to be outliers by that convention. Only 4 indiviuals had an age greater than 90, while 20 individuals had age less than 10. \n",
    "\n",
    "***Mental_illness:***\n",
    "9862 individuals did not have mental_illness, 2629 individuals did have mental illness. \n",
    "Proportions: mental_illness=True ~21.05%; mental_illness=False ~78.95%.\n",
    "The higher proportion of mental illness in this population is not suprising, as we are looking at police fatalities. It is likely that the proportion of individuals killed by police has a high representation of mental illness because mental illness may ***i)*** influence the individuals' behaviour to be more problematic for police and ***ii)*** influence perceptions and interactions with law enforcement. I expected the proportion of individuals with mental illness to be higher.\n",
    "\n",
    "***Flee:***\n",
    "560 individuals fled police (very little) compared to 11931 individuals who do not flee.\n",
    "Proportions: Flee=True ~4.50%; Flee=False ~95.50%.\n",
    "It makes sense that the majority of individuals did not flee from police. These proportions are similar to what i initiallly predicted. "
   ]
  },
  {
   "cell_type": "markdown",
   "metadata": {},
   "source": [
    "**EDA Step 5: Wrangle data**"
   ]
  },
  {
   "cell_type": "markdown",
   "metadata": {},
   "source": [
    "***Age***"
   ]
  },
  {
   "cell_type": "code",
   "execution_count": null,
   "metadata": {},
   "outputs": [],
   "source": [
    "# Function that Calculates Outliers\n",
    "\n",
    "def find_outliers_IQR(df):\n",
    "\n",
    "   q1=df.quantile(0.25)\n",
    "\n",
    "   q3=df.quantile(0.75)\n",
    "\n",
    "   IQR=q3-q1\n",
    "\n",
    "   outliers = df[((df<(q1-1.5*IQR)) | (df>(q3+1.5*IQR)))]\n",
    "\n",
    "   return outliers"
   ]
  },
  {
   "cell_type": "code",
   "execution_count": null,
   "metadata": {},
   "outputs": [
    {
     "name": "stdout",
     "output_type": "stream",
     "text": [
      "number of outliers: 122\n",
      "max outlier value: 107.0\n",
      "min outlier value: 73.0\n"
     ]
    },
    {
     "data": {
      "text/plain": [
       "170      76.0\n",
       "241      88.0\n",
       "420      78.0\n",
       "467      74.0\n",
       "581      92.0\n",
       "         ... \n",
       "12126    86.0\n",
       "12128    76.0\n",
       "12134    77.0\n",
       "12200    86.0\n",
       "12428    77.0\n",
       "Name: Age, Length: 122, dtype: float64"
      ]
     },
     "execution_count": null,
     "metadata": {},
     "output_type": "execute_result"
    }
   ],
   "source": [
    "# Find Outliers in Age\n",
    "\n",
    "outliers = find_outliers_IQR(df['Age'])\n",
    "\n",
    "print('number of outliers: '+ str(len(outliers))) # amount of outliers\n",
    "\n",
    "print('max outlier value: '+ str(outliers.max())) # largest outlier\n",
    "\n",
    "print('min outlier value: '+ str(outliers.min())) # smallest outlier \n",
    "\n",
    "outliers #Age outliers: \n",
    "            #No outliers on the lower side of age  \n",
    "            #122 outliers existed in the range 73:107 "
   ]
  },
  {
   "cell_type": "code",
   "execution_count": null,
   "metadata": {},
   "outputs": [],
   "source": [
    "#Function to Drop Outliers and Create a new df which Replaces Outliers with NULL Value \n",
    "\n",
    "def drop_outliers_IQR(df):\n",
    "\n",
    "   q1=df.quantile(0.25)\n",
    "\n",
    "   q3=df.quantile(0.75)\n",
    "\n",
    "   IQR=q3-q1\n",
    "\n",
    "   not_outliers = df[~((df<(q1-1.5*IQR)) | (df>(q3+1.5*IQR)))]\n",
    "\n",
    "   outliers_dropped = outliers.dropna().reset_index()\n",
    "\n",
    "   return not_outliers"
   ]
  },
  {
   "cell_type": "code",
   "execution_count": null,
   "metadata": {},
   "outputs": [
    {
     "data": {
      "text/plain": [
       "0        44.0\n",
       "1        26.0\n",
       "2        36.0\n",
       "3        29.0\n",
       "4        25.0\n",
       "         ... \n",
       "12486     NaN\n",
       "12487    48.0\n",
       "12488    38.0\n",
       "12489    41.0\n",
       "12490    39.0\n",
       "Name: Age, Length: 12369, dtype: float64"
      ]
     },
     "execution_count": null,
     "metadata": {},
     "output_type": "execute_result"
    }
   ],
   "source": [
    "# Age category with outliers = NaN \n",
    "    \n",
    "filtered_age = drop_outliers_IQR(df['Age'])\n",
    "\n",
    "filtered_age"
   ]
  },
  {
   "cell_type": "code",
   "execution_count": null,
   "metadata": {},
   "outputs": [
    {
     "data": {
      "text/html": [
       "<div>\n",
       "<style scoped>\n",
       "    .dataframe tbody tr th:only-of-type {\n",
       "        vertical-align: middle;\n",
       "    }\n",
       "\n",
       "    .dataframe tbody tr th {\n",
       "        vertical-align: top;\n",
       "    }\n",
       "\n",
       "    .dataframe thead th {\n",
       "        text-align: right;\n",
       "    }\n",
       "</style>\n",
       "<table border=\"1\" class=\"dataframe\">\n",
       "  <thead>\n",
       "    <tr style=\"text-align: right;\">\n",
       "      <th></th>\n",
       "      <th>UID</th>\n",
       "      <th>Name</th>\n",
       "      <th>Age</th>\n",
       "      <th>Gender</th>\n",
       "      <th>Race</th>\n",
       "      <th>Date</th>\n",
       "      <th>City</th>\n",
       "      <th>State</th>\n",
       "      <th>Manner_of_death</th>\n",
       "      <th>Armed</th>\n",
       "      <th>Mental_illness</th>\n",
       "      <th>Flee</th>\n",
       "      <th>filtered_age</th>\n",
       "    </tr>\n",
       "  </thead>\n",
       "  <tbody>\n",
       "    <tr>\n",
       "      <th>0</th>\n",
       "      <td>133</td>\n",
       "      <td>Karen O. Chin</td>\n",
       "      <td>44.0</td>\n",
       "      <td>Female</td>\n",
       "      <td>Asian</td>\n",
       "      <td>5/4/2000</td>\n",
       "      <td>Alameda</td>\n",
       "      <td>CA</td>\n",
       "      <td>Shot</td>\n",
       "      <td>NaN</td>\n",
       "      <td>False</td>\n",
       "      <td>False</td>\n",
       "      <td>44.0</td>\n",
       "    </tr>\n",
       "    <tr>\n",
       "      <th>1</th>\n",
       "      <td>169</td>\n",
       "      <td>Chyraphone Komvongsa</td>\n",
       "      <td>26.0</td>\n",
       "      <td>Male</td>\n",
       "      <td>Asian</td>\n",
       "      <td>6/2/2000</td>\n",
       "      <td>Fresno</td>\n",
       "      <td>CA</td>\n",
       "      <td>Shot</td>\n",
       "      <td>NaN</td>\n",
       "      <td>False</td>\n",
       "      <td>False</td>\n",
       "      <td>26.0</td>\n",
       "    </tr>\n",
       "    <tr>\n",
       "      <th>2</th>\n",
       "      <td>257</td>\n",
       "      <td>Ming Chinh Ly</td>\n",
       "      <td>36.0</td>\n",
       "      <td>Male</td>\n",
       "      <td>Asian</td>\n",
       "      <td>8/13/2000</td>\n",
       "      <td>Rosemead</td>\n",
       "      <td>CA</td>\n",
       "      <td>Shot</td>\n",
       "      <td>Gun</td>\n",
       "      <td>False</td>\n",
       "      <td>False</td>\n",
       "      <td>36.0</td>\n",
       "    </tr>\n",
       "    <tr>\n",
       "      <th>3</th>\n",
       "      <td>483</td>\n",
       "      <td>Kinh Quoc Dao</td>\n",
       "      <td>29.0</td>\n",
       "      <td>Male</td>\n",
       "      <td>Asian</td>\n",
       "      <td>2/9/2001</td>\n",
       "      <td>Valley Glen</td>\n",
       "      <td>CA</td>\n",
       "      <td>Shot</td>\n",
       "      <td>Gun</td>\n",
       "      <td>False</td>\n",
       "      <td>False</td>\n",
       "      <td>29.0</td>\n",
       "    </tr>\n",
       "    <tr>\n",
       "      <th>4</th>\n",
       "      <td>655</td>\n",
       "      <td>Vanpaseuth Phaisouphanh</td>\n",
       "      <td>25.0</td>\n",
       "      <td>Male</td>\n",
       "      <td>Asian</td>\n",
       "      <td>6/10/2001</td>\n",
       "      <td>Riverside</td>\n",
       "      <td>CA</td>\n",
       "      <td>Shot</td>\n",
       "      <td>Knife</td>\n",
       "      <td>False</td>\n",
       "      <td>False</td>\n",
       "      <td>25.0</td>\n",
       "    </tr>\n",
       "  </tbody>\n",
       "</table>\n",
       "</div>"
      ],
      "text/plain": [
       "   UID                     Name   Age  Gender   Race       Date         City  \\\n",
       "0  133            Karen O. Chin  44.0  Female  Asian   5/4/2000      Alameda   \n",
       "1  169     Chyraphone Komvongsa  26.0    Male  Asian   6/2/2000       Fresno   \n",
       "2  257            Ming Chinh Ly  36.0    Male  Asian  8/13/2000     Rosemead   \n",
       "3  483            Kinh Quoc Dao  29.0    Male  Asian   2/9/2001  Valley Glen   \n",
       "4  655  Vanpaseuth Phaisouphanh  25.0    Male  Asian  6/10/2001    Riverside   \n",
       "\n",
       "  State Manner_of_death  Armed  Mental_illness   Flee  filtered_age  \n",
       "0    CA            Shot    NaN           False  False          44.0  \n",
       "1    CA            Shot    NaN           False  False          26.0  \n",
       "2    CA            Shot    Gun           False  False          36.0  \n",
       "3    CA            Shot    Gun           False  False          29.0  \n",
       "4    CA            Shot  Knife           False  False          25.0  "
      ]
     },
     "execution_count": null,
     "metadata": {},
     "output_type": "execute_result"
    }
   ],
   "source": [
    "# Add the altered Age Catgeory \n",
    "\n",
    "df['filtered_age'] = filtered_age\n",
    "df.head()"
   ]
  },
  {
   "cell_type": "code",
   "execution_count": null,
   "metadata": {},
   "outputs": [],
   "source": [
    "# Delete the old age category \n",
    "\n",
    "del df['Age']"
   ]
  },
  {
   "cell_type": "code",
   "execution_count": null,
   "metadata": {},
   "outputs": [
    {
     "data": {
      "text/html": [
       "<div>\n",
       "<style scoped>\n",
       "    .dataframe tbody tr th:only-of-type {\n",
       "        vertical-align: middle;\n",
       "    }\n",
       "\n",
       "    .dataframe tbody tr th {\n",
       "        vertical-align: top;\n",
       "    }\n",
       "\n",
       "    .dataframe thead th {\n",
       "        text-align: right;\n",
       "    }\n",
       "</style>\n",
       "<table border=\"1\" class=\"dataframe\">\n",
       "  <thead>\n",
       "    <tr style=\"text-align: right;\">\n",
       "      <th></th>\n",
       "      <th>UID</th>\n",
       "      <th>Name</th>\n",
       "      <th>Gender</th>\n",
       "      <th>Race</th>\n",
       "      <th>Date</th>\n",
       "      <th>City</th>\n",
       "      <th>State</th>\n",
       "      <th>Manner_of_death</th>\n",
       "      <th>Armed</th>\n",
       "      <th>Mental_illness</th>\n",
       "      <th>Flee</th>\n",
       "      <th>filtered_age</th>\n",
       "    </tr>\n",
       "  </thead>\n",
       "  <tbody>\n",
       "    <tr>\n",
       "      <th>0</th>\n",
       "      <td>133</td>\n",
       "      <td>Karen O. Chin</td>\n",
       "      <td>Female</td>\n",
       "      <td>Asian</td>\n",
       "      <td>5/4/2000</td>\n",
       "      <td>Alameda</td>\n",
       "      <td>CA</td>\n",
       "      <td>Shot</td>\n",
       "      <td>NaN</td>\n",
       "      <td>False</td>\n",
       "      <td>False</td>\n",
       "      <td>44.0</td>\n",
       "    </tr>\n",
       "    <tr>\n",
       "      <th>1</th>\n",
       "      <td>169</td>\n",
       "      <td>Chyraphone Komvongsa</td>\n",
       "      <td>Male</td>\n",
       "      <td>Asian</td>\n",
       "      <td>6/2/2000</td>\n",
       "      <td>Fresno</td>\n",
       "      <td>CA</td>\n",
       "      <td>Shot</td>\n",
       "      <td>NaN</td>\n",
       "      <td>False</td>\n",
       "      <td>False</td>\n",
       "      <td>26.0</td>\n",
       "    </tr>\n",
       "    <tr>\n",
       "      <th>2</th>\n",
       "      <td>257</td>\n",
       "      <td>Ming Chinh Ly</td>\n",
       "      <td>Male</td>\n",
       "      <td>Asian</td>\n",
       "      <td>8/13/2000</td>\n",
       "      <td>Rosemead</td>\n",
       "      <td>CA</td>\n",
       "      <td>Shot</td>\n",
       "      <td>Gun</td>\n",
       "      <td>False</td>\n",
       "      <td>False</td>\n",
       "      <td>36.0</td>\n",
       "    </tr>\n",
       "    <tr>\n",
       "      <th>3</th>\n",
       "      <td>483</td>\n",
       "      <td>Kinh Quoc Dao</td>\n",
       "      <td>Male</td>\n",
       "      <td>Asian</td>\n",
       "      <td>2/9/2001</td>\n",
       "      <td>Valley Glen</td>\n",
       "      <td>CA</td>\n",
       "      <td>Shot</td>\n",
       "      <td>Gun</td>\n",
       "      <td>False</td>\n",
       "      <td>False</td>\n",
       "      <td>29.0</td>\n",
       "    </tr>\n",
       "    <tr>\n",
       "      <th>4</th>\n",
       "      <td>655</td>\n",
       "      <td>Vanpaseuth Phaisouphanh</td>\n",
       "      <td>Male</td>\n",
       "      <td>Asian</td>\n",
       "      <td>6/10/2001</td>\n",
       "      <td>Riverside</td>\n",
       "      <td>CA</td>\n",
       "      <td>Shot</td>\n",
       "      <td>Knife</td>\n",
       "      <td>False</td>\n",
       "      <td>False</td>\n",
       "      <td>25.0</td>\n",
       "    </tr>\n",
       "  </tbody>\n",
       "</table>\n",
       "</div>"
      ],
      "text/plain": [
       "   UID                     Name  Gender   Race       Date         City State  \\\n",
       "0  133            Karen O. Chin  Female  Asian   5/4/2000      Alameda    CA   \n",
       "1  169     Chyraphone Komvongsa    Male  Asian   6/2/2000       Fresno    CA   \n",
       "2  257            Ming Chinh Ly    Male  Asian  8/13/2000     Rosemead    CA   \n",
       "3  483            Kinh Quoc Dao    Male  Asian   2/9/2001  Valley Glen    CA   \n",
       "4  655  Vanpaseuth Phaisouphanh    Male  Asian  6/10/2001    Riverside    CA   \n",
       "\n",
       "  Manner_of_death  Armed  Mental_illness   Flee  filtered_age  \n",
       "0            Shot    NaN           False  False          44.0  \n",
       "1            Shot    NaN           False  False          26.0  \n",
       "2            Shot    Gun           False  False          36.0  \n",
       "3            Shot    Gun           False  False          29.0  \n",
       "4            Shot  Knife           False  False          25.0  "
      ]
     },
     "execution_count": null,
     "metadata": {},
     "output_type": "execute_result"
    }
   ],
   "source": [
    "#View\n",
    "\n",
    "df.head()"
   ]
  },
  {
   "cell_type": "code",
   "execution_count": null,
   "metadata": {},
   "outputs": [
    {
     "data": {
      "text/plain": [
       "count    12136.000000\n",
       "mean        34.829515\n",
       "std         12.263318\n",
       "min          1.000000\n",
       "25%         25.000000\n",
       "50%         33.000000\n",
       "75%         43.000000\n",
       "max         72.000000\n",
       "Name: Age, dtype: float64"
      ]
     },
     "execution_count": null,
     "metadata": {},
     "output_type": "execute_result"
    }
   ],
   "source": [
    "#Filtered Age Descriptive Statistics\n",
    "\n",
    "filtered_age.describe() \n",
    " "
   ]
  },
  {
   "cell_type": "code",
   "execution_count": null,
   "metadata": {},
   "outputs": [
    {
     "data": {
      "text/html": [
       "<div>\n",
       "<style scoped>\n",
       "    .dataframe tbody tr th:only-of-type {\n",
       "        vertical-align: middle;\n",
       "    }\n",
       "\n",
       "    .dataframe tbody tr th {\n",
       "        vertical-align: top;\n",
       "    }\n",
       "\n",
       "    .dataframe thead th {\n",
       "        text-align: right;\n",
       "    }\n",
       "</style>\n",
       "<table border=\"1\" class=\"dataframe\">\n",
       "  <thead>\n",
       "    <tr style=\"text-align: right;\">\n",
       "      <th></th>\n",
       "      <th>UID</th>\n",
       "      <th>Name</th>\n",
       "      <th>Gender</th>\n",
       "      <th>Race</th>\n",
       "      <th>Date</th>\n",
       "      <th>City</th>\n",
       "      <th>State</th>\n",
       "      <th>Manner_of_death</th>\n",
       "      <th>Armed</th>\n",
       "      <th>Mental_illness</th>\n",
       "      <th>Flee</th>\n",
       "      <th>filtered_age</th>\n",
       "    </tr>\n",
       "  </thead>\n",
       "  <tbody>\n",
       "    <tr>\n",
       "      <th>0</th>\n",
       "      <td>133</td>\n",
       "      <td>Karen O. Chin</td>\n",
       "      <td>Female</td>\n",
       "      <td>Asian</td>\n",
       "      <td>5/4/2000</td>\n",
       "      <td>Alameda</td>\n",
       "      <td>CA</td>\n",
       "      <td>Shot</td>\n",
       "      <td>NaN</td>\n",
       "      <td>False</td>\n",
       "      <td>False</td>\n",
       "      <td>44.0</td>\n",
       "    </tr>\n",
       "    <tr>\n",
       "      <th>1</th>\n",
       "      <td>169</td>\n",
       "      <td>Chyraphone Komvongsa</td>\n",
       "      <td>Male</td>\n",
       "      <td>Asian</td>\n",
       "      <td>6/2/2000</td>\n",
       "      <td>Fresno</td>\n",
       "      <td>CA</td>\n",
       "      <td>Shot</td>\n",
       "      <td>NaN</td>\n",
       "      <td>False</td>\n",
       "      <td>False</td>\n",
       "      <td>26.0</td>\n",
       "    </tr>\n",
       "    <tr>\n",
       "      <th>2</th>\n",
       "      <td>257</td>\n",
       "      <td>Ming Chinh Ly</td>\n",
       "      <td>Male</td>\n",
       "      <td>Asian</td>\n",
       "      <td>8/13/2000</td>\n",
       "      <td>Rosemead</td>\n",
       "      <td>CA</td>\n",
       "      <td>Shot</td>\n",
       "      <td>Gun</td>\n",
       "      <td>False</td>\n",
       "      <td>False</td>\n",
       "      <td>36.0</td>\n",
       "    </tr>\n",
       "    <tr>\n",
       "      <th>3</th>\n",
       "      <td>483</td>\n",
       "      <td>Kinh Quoc Dao</td>\n",
       "      <td>Male</td>\n",
       "      <td>Asian</td>\n",
       "      <td>2/9/2001</td>\n",
       "      <td>Valley Glen</td>\n",
       "      <td>CA</td>\n",
       "      <td>Shot</td>\n",
       "      <td>Gun</td>\n",
       "      <td>False</td>\n",
       "      <td>False</td>\n",
       "      <td>29.0</td>\n",
       "    </tr>\n",
       "    <tr>\n",
       "      <th>4</th>\n",
       "      <td>655</td>\n",
       "      <td>Vanpaseuth Phaisouphanh</td>\n",
       "      <td>Male</td>\n",
       "      <td>Asian</td>\n",
       "      <td>6/10/2001</td>\n",
       "      <td>Riverside</td>\n",
       "      <td>CA</td>\n",
       "      <td>Shot</td>\n",
       "      <td>Knife</td>\n",
       "      <td>False</td>\n",
       "      <td>False</td>\n",
       "      <td>25.0</td>\n",
       "    </tr>\n",
       "  </tbody>\n",
       "</table>\n",
       "</div>"
      ],
      "text/plain": [
       "   UID                     Name  Gender   Race       Date         City State  \\\n",
       "0  133            Karen O. Chin  Female  Asian   5/4/2000      Alameda    CA   \n",
       "1  169     Chyraphone Komvongsa    Male  Asian   6/2/2000       Fresno    CA   \n",
       "2  257            Ming Chinh Ly    Male  Asian  8/13/2000     Rosemead    CA   \n",
       "3  483            Kinh Quoc Dao    Male  Asian   2/9/2001  Valley Glen    CA   \n",
       "4  655  Vanpaseuth Phaisouphanh    Male  Asian  6/10/2001    Riverside    CA   \n",
       "\n",
       "  Manner_of_death  Armed  Mental_illness   Flee  filtered_age  \n",
       "0            Shot    NaN           False  False          44.0  \n",
       "1            Shot    NaN           False  False          26.0  \n",
       "2            Shot    Gun           False  False          36.0  \n",
       "3            Shot    Gun           False  False          29.0  \n",
       "4            Shot  Knife           False  False          25.0  "
      ]
     },
     "execution_count": null,
     "metadata": {},
     "output_type": "execute_result"
    }
   ],
   "source": [
    "# Check Dataset Changes \n",
    "\n",
    "df.head() #should see a column named \"filtered_age\" and no \"Age\" category\n"
   ]
  },
  {
   "cell_type": "code",
   "execution_count": null,
   "metadata": {},
   "outputs": [
    {
     "name": "stdout",
     "output_type": "stream",
     "text": [
      "<class 'pandas.core.series.Series'>\n"
     ]
    }
   ],
   "source": [
    "print(type(df['filtered_age']))"
   ]
  },
  {
   "cell_type": "code",
   "execution_count": null,
   "metadata": {},
   "outputs": [
    {
     "data": {
      "text/html": [
       "<div>\n",
       "<style scoped>\n",
       "    .dataframe tbody tr th:only-of-type {\n",
       "        vertical-align: middle;\n",
       "    }\n",
       "\n",
       "    .dataframe tbody tr th {\n",
       "        vertical-align: top;\n",
       "    }\n",
       "\n",
       "    .dataframe thead th {\n",
       "        text-align: right;\n",
       "    }\n",
       "</style>\n",
       "<table border=\"1\" class=\"dataframe\">\n",
       "  <thead>\n",
       "    <tr style=\"text-align: right;\">\n",
       "      <th></th>\n",
       "      <th>UID</th>\n",
       "      <th>Name</th>\n",
       "      <th>Gender</th>\n",
       "      <th>Race</th>\n",
       "      <th>Date</th>\n",
       "      <th>City</th>\n",
       "      <th>State</th>\n",
       "      <th>Manner_of_death</th>\n",
       "      <th>Armed</th>\n",
       "      <th>Mental_illness</th>\n",
       "      <th>Flee</th>\n",
       "      <th>filtered_age</th>\n",
       "    </tr>\n",
       "  </thead>\n",
       "  <tbody>\n",
       "    <tr>\n",
       "      <th>0</th>\n",
       "      <td>133</td>\n",
       "      <td>Karen O. Chin</td>\n",
       "      <td>Female</td>\n",
       "      <td>Asian</td>\n",
       "      <td>5/4/2000</td>\n",
       "      <td>Alameda</td>\n",
       "      <td>CA</td>\n",
       "      <td>Shot</td>\n",
       "      <td>NaN</td>\n",
       "      <td>False</td>\n",
       "      <td>False</td>\n",
       "      <td>44.0</td>\n",
       "    </tr>\n",
       "    <tr>\n",
       "      <th>1</th>\n",
       "      <td>169</td>\n",
       "      <td>Chyraphone Komvongsa</td>\n",
       "      <td>Male</td>\n",
       "      <td>Asian</td>\n",
       "      <td>6/2/2000</td>\n",
       "      <td>Fresno</td>\n",
       "      <td>CA</td>\n",
       "      <td>Shot</td>\n",
       "      <td>NaN</td>\n",
       "      <td>False</td>\n",
       "      <td>False</td>\n",
       "      <td>26.0</td>\n",
       "    </tr>\n",
       "    <tr>\n",
       "      <th>2</th>\n",
       "      <td>257</td>\n",
       "      <td>Ming Chinh Ly</td>\n",
       "      <td>Male</td>\n",
       "      <td>Asian</td>\n",
       "      <td>8/13/2000</td>\n",
       "      <td>Rosemead</td>\n",
       "      <td>CA</td>\n",
       "      <td>Shot</td>\n",
       "      <td>Gun</td>\n",
       "      <td>False</td>\n",
       "      <td>False</td>\n",
       "      <td>36.0</td>\n",
       "    </tr>\n",
       "    <tr>\n",
       "      <th>3</th>\n",
       "      <td>483</td>\n",
       "      <td>Kinh Quoc Dao</td>\n",
       "      <td>Male</td>\n",
       "      <td>Asian</td>\n",
       "      <td>2/9/2001</td>\n",
       "      <td>Valley Glen</td>\n",
       "      <td>CA</td>\n",
       "      <td>Shot</td>\n",
       "      <td>Gun</td>\n",
       "      <td>False</td>\n",
       "      <td>False</td>\n",
       "      <td>29.0</td>\n",
       "    </tr>\n",
       "    <tr>\n",
       "      <th>4</th>\n",
       "      <td>655</td>\n",
       "      <td>Vanpaseuth Phaisouphanh</td>\n",
       "      <td>Male</td>\n",
       "      <td>Asian</td>\n",
       "      <td>6/10/2001</td>\n",
       "      <td>Riverside</td>\n",
       "      <td>CA</td>\n",
       "      <td>Shot</td>\n",
       "      <td>Knife</td>\n",
       "      <td>False</td>\n",
       "      <td>False</td>\n",
       "      <td>25.0</td>\n",
       "    </tr>\n",
       "    <tr>\n",
       "      <th>...</th>\n",
       "      <td>...</td>\n",
       "      <td>...</td>\n",
       "      <td>...</td>\n",
       "      <td>...</td>\n",
       "      <td>...</td>\n",
       "      <td>...</td>\n",
       "      <td>...</td>\n",
       "      <td>...</td>\n",
       "      <td>...</td>\n",
       "      <td>...</td>\n",
       "      <td>...</td>\n",
       "      <td>...</td>\n",
       "    </tr>\n",
       "    <tr>\n",
       "      <th>12484</th>\n",
       "      <td>13094</td>\n",
       "      <td>Christopher Davis</td>\n",
       "      <td>Male</td>\n",
       "      <td>NaN</td>\n",
       "      <td>3/14/2011</td>\n",
       "      <td>Los Angeles</td>\n",
       "      <td>CA</td>\n",
       "      <td>Tasered</td>\n",
       "      <td>NaN</td>\n",
       "      <td>False</td>\n",
       "      <td>False</td>\n",
       "      <td>36.0</td>\n",
       "    </tr>\n",
       "    <tr>\n",
       "      <th>12487</th>\n",
       "      <td>12429</td>\n",
       "      <td>Gene Lovell Ford</td>\n",
       "      <td>Male</td>\n",
       "      <td>NaN</td>\n",
       "      <td>8/6/2008</td>\n",
       "      <td>Sacramento</td>\n",
       "      <td>CA</td>\n",
       "      <td>Other</td>\n",
       "      <td>NaN</td>\n",
       "      <td>True</td>\n",
       "      <td>False</td>\n",
       "      <td>48.0</td>\n",
       "    </tr>\n",
       "    <tr>\n",
       "      <th>12488</th>\n",
       "      <td>12430</td>\n",
       "      <td>Jose Vega</td>\n",
       "      <td>Male</td>\n",
       "      <td>NaN</td>\n",
       "      <td>8/6/2008</td>\n",
       "      <td>Visalia</td>\n",
       "      <td>CA</td>\n",
       "      <td>Other</td>\n",
       "      <td>NaN</td>\n",
       "      <td>True</td>\n",
       "      <td>False</td>\n",
       "      <td>38.0</td>\n",
       "    </tr>\n",
       "    <tr>\n",
       "      <th>12489</th>\n",
       "      <td>12636</td>\n",
       "      <td>Humberto Torres</td>\n",
       "      <td>Male</td>\n",
       "      <td>NaN</td>\n",
       "      <td>3/21/2009</td>\n",
       "      <td>Delano</td>\n",
       "      <td>CA</td>\n",
       "      <td>Other</td>\n",
       "      <td>Gun</td>\n",
       "      <td>False</td>\n",
       "      <td>False</td>\n",
       "      <td>41.0</td>\n",
       "    </tr>\n",
       "    <tr>\n",
       "      <th>12490</th>\n",
       "      <td>12861</td>\n",
       "      <td>Name withheld by police</td>\n",
       "      <td>Male</td>\n",
       "      <td>NaN</td>\n",
       "      <td>1/15/2010</td>\n",
       "      <td>Los Angeles</td>\n",
       "      <td>CA</td>\n",
       "      <td>Other</td>\n",
       "      <td>NaN</td>\n",
       "      <td>False</td>\n",
       "      <td>False</td>\n",
       "      <td>39.0</td>\n",
       "    </tr>\n",
       "  </tbody>\n",
       "</table>\n",
       "<p>12136 rows × 12 columns</p>\n",
       "</div>"
      ],
      "text/plain": [
       "         UID                     Name  Gender   Race       Date         City  \\\n",
       "0        133            Karen O. Chin  Female  Asian   5/4/2000      Alameda   \n",
       "1        169     Chyraphone Komvongsa    Male  Asian   6/2/2000       Fresno   \n",
       "2        257            Ming Chinh Ly    Male  Asian  8/13/2000     Rosemead   \n",
       "3        483            Kinh Quoc Dao    Male  Asian   2/9/2001  Valley Glen   \n",
       "4        655  Vanpaseuth Phaisouphanh    Male  Asian  6/10/2001    Riverside   \n",
       "...      ...                      ...     ...    ...        ...          ...   \n",
       "12484  13094        Christopher Davis    Male    NaN  3/14/2011  Los Angeles   \n",
       "12487  12429         Gene Lovell Ford    Male    NaN   8/6/2008   Sacramento   \n",
       "12488  12430                Jose Vega    Male    NaN   8/6/2008      Visalia   \n",
       "12489  12636          Humberto Torres    Male    NaN  3/21/2009       Delano   \n",
       "12490  12861  Name withheld by police    Male    NaN  1/15/2010  Los Angeles   \n",
       "\n",
       "      State Manner_of_death  Armed  Mental_illness   Flee  filtered_age  \n",
       "0        CA            Shot    NaN           False  False          44.0  \n",
       "1        CA            Shot    NaN           False  False          26.0  \n",
       "2        CA            Shot    Gun           False  False          36.0  \n",
       "3        CA            Shot    Gun           False  False          29.0  \n",
       "4        CA            Shot  Knife           False  False          25.0  \n",
       "...     ...             ...    ...             ...    ...           ...  \n",
       "12484    CA         Tasered    NaN           False  False          36.0  \n",
       "12487    CA           Other    NaN            True  False          48.0  \n",
       "12488    CA           Other    NaN            True  False          38.0  \n",
       "12489    CA           Other    Gun           False  False          41.0  \n",
       "12490    CA           Other    NaN           False  False          39.0  \n",
       "\n",
       "[12136 rows x 12 columns]"
      ]
     },
     "execution_count": null,
     "metadata": {},
     "output_type": "execute_result"
    }
   ],
   "source": [
    "#drop NaN's of filtered_age\n",
    "\n",
    "df = df.dropna(subset = ['filtered_age'])\n",
    "df"
   ]
  },
  {
   "cell_type": "code",
   "execution_count": null,
   "metadata": {},
   "outputs": [
    {
     "name": "stdout",
     "output_type": "stream",
     "text": [
      "45.0\n",
      "19.0\n"
     ]
    },
    {
     "data": {
      "text/plain": [
       "(None, None)"
      ]
     },
     "execution_count": null,
     "metadata": {},
     "output_type": "execute_result"
    }
   ],
   "source": [
    "#check NaN vaues are removed by using iloc on their past location\n",
    "\n",
    "#eg:\n",
    "print(df.iloc[170, 11]), print(df.iloc[241, 11]) \n"
   ]
  },
  {
   "cell_type": "code",
   "execution_count": null,
   "metadata": {},
   "outputs": [],
   "source": [
    "#Add an Age Group column \n",
    "\n",
    "df['Age_Group'] = pd.cut(df['filtered_age'], bins=[0, 18, 25, 35, 45, 55, 65, float('Inf')],\n",
    "                         labels=['0-18', '18-25', '25-35', '35-45', '45-55', '55-65', '65+'])\n",
    "\n",
    "#save modified version\n",
    "#df.to_csv('mod_data.csv', index=False) "
   ]
  },
  {
   "cell_type": "code",
   "execution_count": null,
   "metadata": {},
   "outputs": [
    {
     "data": {
      "text/html": [
       "<div>\n",
       "<style scoped>\n",
       "    .dataframe tbody tr th:only-of-type {\n",
       "        vertical-align: middle;\n",
       "    }\n",
       "\n",
       "    .dataframe tbody tr th {\n",
       "        vertical-align: top;\n",
       "    }\n",
       "\n",
       "    .dataframe thead th {\n",
       "        text-align: right;\n",
       "    }\n",
       "</style>\n",
       "<table border=\"1\" class=\"dataframe\">\n",
       "  <thead>\n",
       "    <tr style=\"text-align: right;\">\n",
       "      <th></th>\n",
       "      <th>UID</th>\n",
       "      <th>Name</th>\n",
       "      <th>Gender</th>\n",
       "      <th>Race</th>\n",
       "      <th>Date</th>\n",
       "      <th>City</th>\n",
       "      <th>State</th>\n",
       "      <th>Manner_of_death</th>\n",
       "      <th>Armed</th>\n",
       "      <th>Mental_illness</th>\n",
       "      <th>Flee</th>\n",
       "      <th>filtered_age</th>\n",
       "      <th>Age_Group</th>\n",
       "    </tr>\n",
       "  </thead>\n",
       "  <tbody>\n",
       "    <tr>\n",
       "      <th>0</th>\n",
       "      <td>133</td>\n",
       "      <td>Karen O. Chin</td>\n",
       "      <td>Female</td>\n",
       "      <td>Asian</td>\n",
       "      <td>5/4/2000</td>\n",
       "      <td>Alameda</td>\n",
       "      <td>CA</td>\n",
       "      <td>Shot</td>\n",
       "      <td>NaN</td>\n",
       "      <td>False</td>\n",
       "      <td>False</td>\n",
       "      <td>44.0</td>\n",
       "      <td>35-45</td>\n",
       "    </tr>\n",
       "    <tr>\n",
       "      <th>1</th>\n",
       "      <td>169</td>\n",
       "      <td>Chyraphone Komvongsa</td>\n",
       "      <td>Male</td>\n",
       "      <td>Asian</td>\n",
       "      <td>6/2/2000</td>\n",
       "      <td>Fresno</td>\n",
       "      <td>CA</td>\n",
       "      <td>Shot</td>\n",
       "      <td>NaN</td>\n",
       "      <td>False</td>\n",
       "      <td>False</td>\n",
       "      <td>26.0</td>\n",
       "      <td>25-35</td>\n",
       "    </tr>\n",
       "    <tr>\n",
       "      <th>2</th>\n",
       "      <td>257</td>\n",
       "      <td>Ming Chinh Ly</td>\n",
       "      <td>Male</td>\n",
       "      <td>Asian</td>\n",
       "      <td>8/13/2000</td>\n",
       "      <td>Rosemead</td>\n",
       "      <td>CA</td>\n",
       "      <td>Shot</td>\n",
       "      <td>Gun</td>\n",
       "      <td>False</td>\n",
       "      <td>False</td>\n",
       "      <td>36.0</td>\n",
       "      <td>35-45</td>\n",
       "    </tr>\n",
       "    <tr>\n",
       "      <th>3</th>\n",
       "      <td>483</td>\n",
       "      <td>Kinh Quoc Dao</td>\n",
       "      <td>Male</td>\n",
       "      <td>Asian</td>\n",
       "      <td>2/9/2001</td>\n",
       "      <td>Valley Glen</td>\n",
       "      <td>CA</td>\n",
       "      <td>Shot</td>\n",
       "      <td>Gun</td>\n",
       "      <td>False</td>\n",
       "      <td>False</td>\n",
       "      <td>29.0</td>\n",
       "      <td>25-35</td>\n",
       "    </tr>\n",
       "    <tr>\n",
       "      <th>4</th>\n",
       "      <td>655</td>\n",
       "      <td>Vanpaseuth Phaisouphanh</td>\n",
       "      <td>Male</td>\n",
       "      <td>Asian</td>\n",
       "      <td>6/10/2001</td>\n",
       "      <td>Riverside</td>\n",
       "      <td>CA</td>\n",
       "      <td>Shot</td>\n",
       "      <td>Knife</td>\n",
       "      <td>False</td>\n",
       "      <td>False</td>\n",
       "      <td>25.0</td>\n",
       "      <td>18-25</td>\n",
       "    </tr>\n",
       "  </tbody>\n",
       "</table>\n",
       "</div>"
      ],
      "text/plain": [
       "   UID                     Name  Gender   Race       Date         City State  \\\n",
       "0  133            Karen O. Chin  Female  Asian   5/4/2000      Alameda    CA   \n",
       "1  169     Chyraphone Komvongsa    Male  Asian   6/2/2000       Fresno    CA   \n",
       "2  257            Ming Chinh Ly    Male  Asian  8/13/2000     Rosemead    CA   \n",
       "3  483            Kinh Quoc Dao    Male  Asian   2/9/2001  Valley Glen    CA   \n",
       "4  655  Vanpaseuth Phaisouphanh    Male  Asian  6/10/2001    Riverside    CA   \n",
       "\n",
       "  Manner_of_death  Armed  Mental_illness   Flee  filtered_age Age_Group  \n",
       "0            Shot    NaN           False  False          44.0     35-45  \n",
       "1            Shot    NaN           False  False          26.0     25-35  \n",
       "2            Shot    Gun           False  False          36.0     35-45  \n",
       "3            Shot    Gun           False  False          29.0     25-35  \n",
       "4            Shot  Knife           False  False          25.0     18-25  "
      ]
     },
     "execution_count": null,
     "metadata": {},
     "output_type": "execute_result"
    }
   ],
   "source": [
    "#Load in data with modified Age\n",
    "\n",
    "df =  pd.read_csv('../data/processed/mod_data.csv',encoding=\"ISO-8859-1\")\n",
    "df.head()"
   ]
  },
  {
   "cell_type": "code",
   "execution_count": null,
   "metadata": {},
   "outputs": [
    {
     "data": {
      "text/plain": [
       "(12136, 13)"
      ]
     },
     "execution_count": null,
     "metadata": {},
     "output_type": "execute_result"
    }
   ],
   "source": [
    "#the row sum is less now because we removed some data points \n",
    "\n",
    "df.shape "
   ]
  },
  {
   "cell_type": "code",
   "execution_count": null,
   "metadata": {},
   "outputs": [
    {
     "data": {
      "text/html": [
       "<div>\n",
       "<style scoped>\n",
       "    .dataframe tbody tr th:only-of-type {\n",
       "        vertical-align: middle;\n",
       "    }\n",
       "\n",
       "    .dataframe tbody tr th {\n",
       "        vertical-align: top;\n",
       "    }\n",
       "\n",
       "    .dataframe thead th {\n",
       "        text-align: right;\n",
       "    }\n",
       "</style>\n",
       "<table border=\"1\" class=\"dataframe\">\n",
       "  <thead>\n",
       "    <tr style=\"text-align: right;\">\n",
       "      <th></th>\n",
       "      <th>UID</th>\n",
       "      <th>Name</th>\n",
       "      <th>Gender</th>\n",
       "      <th>Race</th>\n",
       "      <th>Date</th>\n",
       "      <th>City</th>\n",
       "      <th>State</th>\n",
       "      <th>Manner_of_death</th>\n",
       "      <th>Armed</th>\n",
       "      <th>Mental_illness</th>\n",
       "      <th>Flee</th>\n",
       "      <th>filtered_age</th>\n",
       "      <th>Age_Group</th>\n",
       "    </tr>\n",
       "  </thead>\n",
       "  <tbody>\n",
       "    <tr>\n",
       "      <th>0</th>\n",
       "      <td>133</td>\n",
       "      <td>Karen O. Chin</td>\n",
       "      <td>Female</td>\n",
       "      <td>Asian</td>\n",
       "      <td>5/4/2000</td>\n",
       "      <td>Alameda</td>\n",
       "      <td>CA</td>\n",
       "      <td>Shot</td>\n",
       "      <td>NaN</td>\n",
       "      <td>False</td>\n",
       "      <td>False</td>\n",
       "      <td>44.0</td>\n",
       "      <td>35-45</td>\n",
       "    </tr>\n",
       "    <tr>\n",
       "      <th>1</th>\n",
       "      <td>169</td>\n",
       "      <td>Chyraphone Komvongsa</td>\n",
       "      <td>Male</td>\n",
       "      <td>Asian</td>\n",
       "      <td>6/2/2000</td>\n",
       "      <td>Fresno</td>\n",
       "      <td>CA</td>\n",
       "      <td>Shot</td>\n",
       "      <td>NaN</td>\n",
       "      <td>False</td>\n",
       "      <td>False</td>\n",
       "      <td>26.0</td>\n",
       "      <td>25-35</td>\n",
       "    </tr>\n",
       "    <tr>\n",
       "      <th>2</th>\n",
       "      <td>257</td>\n",
       "      <td>Ming Chinh Ly</td>\n",
       "      <td>Male</td>\n",
       "      <td>Asian</td>\n",
       "      <td>8/13/2000</td>\n",
       "      <td>Rosemead</td>\n",
       "      <td>CA</td>\n",
       "      <td>Shot</td>\n",
       "      <td>Gun</td>\n",
       "      <td>False</td>\n",
       "      <td>False</td>\n",
       "      <td>36.0</td>\n",
       "      <td>35-45</td>\n",
       "    </tr>\n",
       "    <tr>\n",
       "      <th>3</th>\n",
       "      <td>483</td>\n",
       "      <td>Kinh Quoc Dao</td>\n",
       "      <td>Male</td>\n",
       "      <td>Asian</td>\n",
       "      <td>2/9/2001</td>\n",
       "      <td>Valley Glen</td>\n",
       "      <td>CA</td>\n",
       "      <td>Shot</td>\n",
       "      <td>Gun</td>\n",
       "      <td>False</td>\n",
       "      <td>False</td>\n",
       "      <td>29.0</td>\n",
       "      <td>25-35</td>\n",
       "    </tr>\n",
       "    <tr>\n",
       "      <th>4</th>\n",
       "      <td>655</td>\n",
       "      <td>Vanpaseuth Phaisouphanh</td>\n",
       "      <td>Male</td>\n",
       "      <td>Asian</td>\n",
       "      <td>6/10/2001</td>\n",
       "      <td>Riverside</td>\n",
       "      <td>CA</td>\n",
       "      <td>Shot</td>\n",
       "      <td>Knife</td>\n",
       "      <td>False</td>\n",
       "      <td>False</td>\n",
       "      <td>25.0</td>\n",
       "      <td>18-25</td>\n",
       "    </tr>\n",
       "  </tbody>\n",
       "</table>\n",
       "</div>"
      ],
      "text/plain": [
       "   UID                     Name  Gender   Race       Date         City State  \\\n",
       "0  133            Karen O. Chin  Female  Asian   5/4/2000      Alameda    CA   \n",
       "1  169     Chyraphone Komvongsa    Male  Asian   6/2/2000       Fresno    CA   \n",
       "2  257            Ming Chinh Ly    Male  Asian  8/13/2000     Rosemead    CA   \n",
       "3  483            Kinh Quoc Dao    Male  Asian   2/9/2001  Valley Glen    CA   \n",
       "4  655  Vanpaseuth Phaisouphanh    Male  Asian  6/10/2001    Riverside    CA   \n",
       "\n",
       "  Manner_of_death  Armed  Mental_illness   Flee  filtered_age Age_Group  \n",
       "0            Shot    NaN           False  False          44.0     35-45  \n",
       "1            Shot    NaN           False  False          26.0     25-35  \n",
       "2            Shot    Gun           False  False          36.0     35-45  \n",
       "3            Shot    Gun           False  False          29.0     25-35  \n",
       "4            Shot  Knife           False  False          25.0     18-25  "
      ]
     },
     "execution_count": null,
     "metadata": {},
     "output_type": "execute_result"
    }
   ],
   "source": [
    "df.head()"
   ]
  },
  {
   "cell_type": "markdown",
   "metadata": {},
   "source": [
    "***Flee***"
   ]
  },
  {
   "cell_type": "code",
   "execution_count": null,
   "metadata": {},
   "outputs": [
    {
     "data": {
      "text/plain": [
       "0"
      ]
     },
     "execution_count": null,
     "metadata": {},
     "output_type": "execute_result"
    }
   ],
   "source": [
    "#check for missing data \n",
    "\n",
    "df['Flee'].isna().sum()\n",
    "\n",
    "#we get 0 missing data. Makes sense for this category, they would likely note whether they fled or not."
   ]
  },
  {
   "cell_type": "code",
   "execution_count": null,
   "metadata": {},
   "outputs": [
    {
     "name": "stdout",
     "output_type": "stream",
     "text": [
      "553 11583\n"
     ]
    }
   ],
   "source": [
    "#Counts of those who fled (True), didnt flee (False)\n",
    "\n",
    "print(sum(df['Flee']==True), sum(df['Flee']==False)) "
   ]
  },
  {
   "cell_type": "code",
   "execution_count": null,
   "metadata": {},
   "outputs": [
    {
     "name": "stdout",
     "output_type": "stream",
     "text": [
      "12136\n"
     ]
    }
   ],
   "source": [
    "# the sum of the two categories matches the # of data points,  confirms no missing data\n",
    "\n",
    "print(sum(df['Flee']==True) + sum(df['Flee']==False)) "
   ]
  },
  {
   "cell_type": "code",
   "execution_count": null,
   "metadata": {},
   "outputs": [
    {
     "data": {
      "text/plain": [
       "False    0.954433\n",
       "True     0.045567\n",
       "Name: Flee, dtype: float64"
      ]
     },
     "execution_count": null,
     "metadata": {},
     "output_type": "execute_result"
    }
   ],
   "source": [
    "#Re-Do proportions with modified data\n",
    "\n",
    "df['Flee'].value_counts(normalize=True) \n",
    " \n",
    "    #percentages of no flee(False), flee(True) \n",
    "    #Only 4.5% of individals fled, the other 95.5% didn't \n",
    "    #not a significant difference"
   ]
  },
  {
   "cell_type": "markdown",
   "metadata": {},
   "source": [
    "***Mental_illness***"
   ]
  },
  {
   "cell_type": "code",
   "execution_count": null,
   "metadata": {},
   "outputs": [
    {
     "data": {
      "text/plain": [
       "0"
      ]
     },
     "execution_count": null,
     "metadata": {},
     "output_type": "execute_result"
    }
   ],
   "source": [
    "#Check for missing data\n",
    "\n",
    "df['Mental_illness'].isna().sum()\n",
    "\n",
    "# 0 missing data for mental illness column. \n",
    "#Probably because this is a boolean and anyone who wasn't initally labeled as having mental illness was given a 'False'"
   ]
  },
  {
   "cell_type": "code",
   "execution_count": null,
   "metadata": {},
   "outputs": [
    {
     "name": "stdout",
     "output_type": "stream",
     "text": [
      "2563 9573\n"
     ]
    }
   ],
   "source": [
    "#sum of the individuals who were labeled with/without mental illness\n",
    "\n",
    "print(sum(df['Mental_illness']==True), sum(df['Mental_illness']==False))"
   ]
  },
  {
   "cell_type": "code",
   "execution_count": null,
   "metadata": {},
   "outputs": [
    {
     "name": "stdout",
     "output_type": "stream",
     "text": [
      "12136\n"
     ]
    }
   ],
   "source": [
    "#sum of the two categories matches the # of data points,  confirms no missing data\n",
    "\n",
    "print(sum(df['Mental_illness']==True) + sum(df['Mental_illness']==False))"
   ]
  },
  {
   "cell_type": "code",
   "execution_count": null,
   "metadata": {},
   "outputs": [
    {
     "data": {
      "text/plain": [
       "False    0.78881\n",
       "True     0.21119\n",
       "Name: Mental_illness, dtype: float64"
      ]
     },
     "execution_count": null,
     "metadata": {},
     "output_type": "execute_result"
    }
   ],
   "source": [
    "#Re-Do proportions of those with/without mental_illness with modified data\n",
    "\n",
    "df['Mental_illness'].value_counts(normalize=True) \n",
    "\n",
    "#with mental_illness = 21.11%\n",
    "#without mental_illness =  78.89% \n",
    "#more change than seen with \"Flee\" but still very small"
   ]
  },
  {
   "cell_type": "markdown",
   "metadata": {},
   "source": [
    "**EDA Step 6: Research Questions**"
   ]
  },
  {
   "cell_type": "markdown",
   "metadata": {},
   "source": [
    "Research Q1: Will individuals with mental illness flee from police more/less than individuals without mentall illness?\n",
    "\n",
    "Research Q2: Will older individuals flee less often from police than younger individuals?\n",
    "\n",
    "Research Q3: What are the prevalences of mental_illness across age groups?"
   ]
  },
  {
   "cell_type": "markdown",
   "metadata": {},
   "source": [
    "**EDA Step 7: Data Analyses and Visualization**"
   ]
  },
  {
   "cell_type": "code",
   "execution_count": null,
   "metadata": {},
   "outputs": [
    {
     "data": {
      "text/html": [
       "<div>\n",
       "<style scoped>\n",
       "    .dataframe tbody tr th:only-of-type {\n",
       "        vertical-align: middle;\n",
       "    }\n",
       "\n",
       "    .dataframe tbody tr th {\n",
       "        vertical-align: top;\n",
       "    }\n",
       "\n",
       "    .dataframe thead th {\n",
       "        text-align: right;\n",
       "    }\n",
       "</style>\n",
       "<table border=\"1\" class=\"dataframe\">\n",
       "  <thead>\n",
       "    <tr style=\"text-align: right;\">\n",
       "      <th></th>\n",
       "      <th>UID</th>\n",
       "      <th>Name</th>\n",
       "      <th>Gender</th>\n",
       "      <th>Race</th>\n",
       "      <th>Date</th>\n",
       "      <th>City</th>\n",
       "      <th>State</th>\n",
       "      <th>Manner_of_death</th>\n",
       "      <th>Armed</th>\n",
       "      <th>Mental_illness</th>\n",
       "      <th>Flee</th>\n",
       "      <th>filtered_age</th>\n",
       "      <th>Age_Group</th>\n",
       "    </tr>\n",
       "  </thead>\n",
       "  <tbody>\n",
       "    <tr>\n",
       "      <th>0</th>\n",
       "      <td>133</td>\n",
       "      <td>Karen O. Chin</td>\n",
       "      <td>Female</td>\n",
       "      <td>Asian</td>\n",
       "      <td>5/4/2000</td>\n",
       "      <td>Alameda</td>\n",
       "      <td>CA</td>\n",
       "      <td>Shot</td>\n",
       "      <td>NaN</td>\n",
       "      <td>False</td>\n",
       "      <td>False</td>\n",
       "      <td>44.0</td>\n",
       "      <td>35-45</td>\n",
       "    </tr>\n",
       "    <tr>\n",
       "      <th>1</th>\n",
       "      <td>169</td>\n",
       "      <td>Chyraphone Komvongsa</td>\n",
       "      <td>Male</td>\n",
       "      <td>Asian</td>\n",
       "      <td>6/2/2000</td>\n",
       "      <td>Fresno</td>\n",
       "      <td>CA</td>\n",
       "      <td>Shot</td>\n",
       "      <td>NaN</td>\n",
       "      <td>False</td>\n",
       "      <td>False</td>\n",
       "      <td>26.0</td>\n",
       "      <td>25-35</td>\n",
       "    </tr>\n",
       "    <tr>\n",
       "      <th>2</th>\n",
       "      <td>257</td>\n",
       "      <td>Ming Chinh Ly</td>\n",
       "      <td>Male</td>\n",
       "      <td>Asian</td>\n",
       "      <td>8/13/2000</td>\n",
       "      <td>Rosemead</td>\n",
       "      <td>CA</td>\n",
       "      <td>Shot</td>\n",
       "      <td>Gun</td>\n",
       "      <td>False</td>\n",
       "      <td>False</td>\n",
       "      <td>36.0</td>\n",
       "      <td>35-45</td>\n",
       "    </tr>\n",
       "    <tr>\n",
       "      <th>3</th>\n",
       "      <td>483</td>\n",
       "      <td>Kinh Quoc Dao</td>\n",
       "      <td>Male</td>\n",
       "      <td>Asian</td>\n",
       "      <td>2/9/2001</td>\n",
       "      <td>Valley Glen</td>\n",
       "      <td>CA</td>\n",
       "      <td>Shot</td>\n",
       "      <td>Gun</td>\n",
       "      <td>False</td>\n",
       "      <td>False</td>\n",
       "      <td>29.0</td>\n",
       "      <td>25-35</td>\n",
       "    </tr>\n",
       "    <tr>\n",
       "      <th>4</th>\n",
       "      <td>655</td>\n",
       "      <td>Vanpaseuth Phaisouphanh</td>\n",
       "      <td>Male</td>\n",
       "      <td>Asian</td>\n",
       "      <td>6/10/2001</td>\n",
       "      <td>Riverside</td>\n",
       "      <td>CA</td>\n",
       "      <td>Shot</td>\n",
       "      <td>Knife</td>\n",
       "      <td>False</td>\n",
       "      <td>False</td>\n",
       "      <td>25.0</td>\n",
       "      <td>18-25</td>\n",
       "    </tr>\n",
       "    <tr>\n",
       "      <th>...</th>\n",
       "      <td>...</td>\n",
       "      <td>...</td>\n",
       "      <td>...</td>\n",
       "      <td>...</td>\n",
       "      <td>...</td>\n",
       "      <td>...</td>\n",
       "      <td>...</td>\n",
       "      <td>...</td>\n",
       "      <td>...</td>\n",
       "      <td>...</td>\n",
       "      <td>...</td>\n",
       "      <td>...</td>\n",
       "      <td>...</td>\n",
       "    </tr>\n",
       "    <tr>\n",
       "      <th>12131</th>\n",
       "      <td>13094</td>\n",
       "      <td>Christopher Davis</td>\n",
       "      <td>Male</td>\n",
       "      <td>NaN</td>\n",
       "      <td>3/14/2011</td>\n",
       "      <td>Los Angeles</td>\n",
       "      <td>CA</td>\n",
       "      <td>Tasered</td>\n",
       "      <td>NaN</td>\n",
       "      <td>False</td>\n",
       "      <td>False</td>\n",
       "      <td>36.0</td>\n",
       "      <td>35-45</td>\n",
       "    </tr>\n",
       "    <tr>\n",
       "      <th>12132</th>\n",
       "      <td>12429</td>\n",
       "      <td>Gene Lovell Ford</td>\n",
       "      <td>Male</td>\n",
       "      <td>NaN</td>\n",
       "      <td>8/6/2008</td>\n",
       "      <td>Sacramento</td>\n",
       "      <td>CA</td>\n",
       "      <td>Other</td>\n",
       "      <td>NaN</td>\n",
       "      <td>True</td>\n",
       "      <td>False</td>\n",
       "      <td>48.0</td>\n",
       "      <td>45-55</td>\n",
       "    </tr>\n",
       "    <tr>\n",
       "      <th>12133</th>\n",
       "      <td>12430</td>\n",
       "      <td>Jose Vega</td>\n",
       "      <td>Male</td>\n",
       "      <td>NaN</td>\n",
       "      <td>8/6/2008</td>\n",
       "      <td>Visalia</td>\n",
       "      <td>CA</td>\n",
       "      <td>Other</td>\n",
       "      <td>NaN</td>\n",
       "      <td>True</td>\n",
       "      <td>False</td>\n",
       "      <td>38.0</td>\n",
       "      <td>35-45</td>\n",
       "    </tr>\n",
       "    <tr>\n",
       "      <th>12134</th>\n",
       "      <td>12636</td>\n",
       "      <td>Humberto Torres</td>\n",
       "      <td>Male</td>\n",
       "      <td>NaN</td>\n",
       "      <td>3/21/2009</td>\n",
       "      <td>Delano</td>\n",
       "      <td>CA</td>\n",
       "      <td>Other</td>\n",
       "      <td>Gun</td>\n",
       "      <td>False</td>\n",
       "      <td>False</td>\n",
       "      <td>41.0</td>\n",
       "      <td>35-45</td>\n",
       "    </tr>\n",
       "    <tr>\n",
       "      <th>12135</th>\n",
       "      <td>12861</td>\n",
       "      <td>Name withheld by police</td>\n",
       "      <td>Male</td>\n",
       "      <td>NaN</td>\n",
       "      <td>1/15/2010</td>\n",
       "      <td>Los Angeles</td>\n",
       "      <td>CA</td>\n",
       "      <td>Other</td>\n",
       "      <td>NaN</td>\n",
       "      <td>False</td>\n",
       "      <td>False</td>\n",
       "      <td>39.0</td>\n",
       "      <td>35-45</td>\n",
       "    </tr>\n",
       "  </tbody>\n",
       "</table>\n",
       "<p>12136 rows × 13 columns</p>\n",
       "</div>"
      ],
      "text/plain": [
       "         UID                     Name  Gender   Race       Date         City  \\\n",
       "0        133            Karen O. Chin  Female  Asian   5/4/2000      Alameda   \n",
       "1        169     Chyraphone Komvongsa    Male  Asian   6/2/2000       Fresno   \n",
       "2        257            Ming Chinh Ly    Male  Asian  8/13/2000     Rosemead   \n",
       "3        483            Kinh Quoc Dao    Male  Asian   2/9/2001  Valley Glen   \n",
       "4        655  Vanpaseuth Phaisouphanh    Male  Asian  6/10/2001    Riverside   \n",
       "...      ...                      ...     ...    ...        ...          ...   \n",
       "12131  13094        Christopher Davis    Male    NaN  3/14/2011  Los Angeles   \n",
       "12132  12429         Gene Lovell Ford    Male    NaN   8/6/2008   Sacramento   \n",
       "12133  12430                Jose Vega    Male    NaN   8/6/2008      Visalia   \n",
       "12134  12636          Humberto Torres    Male    NaN  3/21/2009       Delano   \n",
       "12135  12861  Name withheld by police    Male    NaN  1/15/2010  Los Angeles   \n",
       "\n",
       "      State Manner_of_death  Armed  Mental_illness   Flee  filtered_age  \\\n",
       "0        CA            Shot    NaN           False  False          44.0   \n",
       "1        CA            Shot    NaN           False  False          26.0   \n",
       "2        CA            Shot    Gun           False  False          36.0   \n",
       "3        CA            Shot    Gun           False  False          29.0   \n",
       "4        CA            Shot  Knife           False  False          25.0   \n",
       "...     ...             ...    ...             ...    ...           ...   \n",
       "12131    CA         Tasered    NaN           False  False          36.0   \n",
       "12132    CA           Other    NaN            True  False          48.0   \n",
       "12133    CA           Other    NaN            True  False          38.0   \n",
       "12134    CA           Other    Gun           False  False          41.0   \n",
       "12135    CA           Other    NaN           False  False          39.0   \n",
       "\n",
       "      Age_Group  \n",
       "0         35-45  \n",
       "1         25-35  \n",
       "2         35-45  \n",
       "3         25-35  \n",
       "4         18-25  \n",
       "...         ...  \n",
       "12131     35-45  \n",
       "12132     45-55  \n",
       "12133     35-45  \n",
       "12134     35-45  \n",
       "12135     35-45  \n",
       "\n",
       "[12136 rows x 13 columns]"
      ]
     },
     "execution_count": null,
     "metadata": {},
     "output_type": "execute_result"
    }
   ],
   "source": [
    "#load data \n",
    "\n",
    "df =  pd.read_csv('../data/processed/mod_data.csv',encoding=\"ISO-8859-1\")\n",
    "df"
   ]
  },
  {
   "cell_type": "code",
   "execution_count": null,
   "metadata": {},
   "outputs": [
    {
     "data": {
      "image/png": "[encoded data removed]",
      "text/plain": [
       "<Figure size 640x480 with 1 Axes>"
      ]
     },
     "metadata": {},
     "output_type": "display_data"
    }
   ],
   "source": [
    "g = sns.countplot(data = df, y = 'Flee', \n",
    "             hue = \"Mental_illness\", palette='colorblind')\n",
    "plt.ylabel('Did the Individual Flee? (T/F)', fontsize=7)\n",
    "plt.xlabel('Count', fontsize=7)\n",
    "plt.title('Flee Rates of Indivduals With and Without Mental Illness', fontsize=7)\n",
    "sns.move_legend(g, \"lower right\")"
   ]
  },
  {
   "cell_type": "code",
   "execution_count": null,
   "metadata": {},
   "outputs": [
    {
     "data": {
      "text/plain": [
       "[Text(0.5, 1.0, 'Fatalities Involving Fleeing vs Non Fleeing Victims Grouped by Age'),\n",
       " Text(0.5, 0, 'Age Group'),\n",
       " Text(0, 0.5, 'Count of Cases')]"
      ]
     },
     "execution_count": null,
     "metadata": {},
     "output_type": "execute_result"
    },
    {
     "data": {
      "image/png": "[encoded data removed]",
      "text/plain": [
       "<Figure size 640x480 with 1 Axes>"
      ]
     },
     "metadata": {},
     "output_type": "display_data"
    }
   ],
   "source": [
    "sns.countplot(data = df, x = 'Age_Group', hue = 'Flee', \n",
    "              order = ['0-18', '18-25', '25-35', '35-45', '45-55', '55-65', '65+']).set(title='Fatalities Involving Fleeing vs Non Fleeing Victims Grouped by Age', \n",
    "                                                                                  xlabel='Age Group', ylabel='Count of Cases')"
   ]
  },
  {
   "cell_type": "code",
   "execution_count": null,
   "metadata": {},
   "outputs": [
    {
     "data": {
      "text/plain": [
       "[Text(0.5, 1.0, 'Prevalence of Mental Illness across Age Groups of Police Fatality Victims'),\n",
       " Text(0.5, 0, 'Age Group'),\n",
       " Text(0, 0.5, 'Count of Cases')]"
      ]
     },
     "execution_count": null,
     "metadata": {},
     "output_type": "execute_result"
    },
    {
     "data": {
      "image/png": "[encoded data removed]",
      "text/plain": [
       "<Figure size 640x480 with 1 Axes>"
      ]
     },
     "metadata": {},
     "output_type": "display_data"
    }
   ],
   "source": [
    "sns.countplot(data = df, x = 'Age_Group', hue = 'Mental_illness', \n",
    "              order = ['0-18', '18-25', '25-35', '35-45', '45-55', '55-65', '65+']).set(title='Prevalence of Mental Illness across Age Groups of Police Fatality Victims', \n",
    "                                                                                  xlabel='Age Group', ylabel='Count of Cases')"
   ]
  },
  {
   "cell_type": "code",
   "execution_count": null,
   "metadata": {},
   "outputs": [],
   "source": []
  },
  {
   "cell_type": "code",
   "execution_count": null,
   "metadata": {},
   "outputs": [],
   "source": []
  },
  {
   "cell_type": "code",
   "execution_count": null,
   "metadata": {},
   "outputs": [],
   "source": []
  },
  {
   "cell_type": "markdown",
   "metadata": {},
   "source": [
    "**EDA Step 8: Summary and Conclusion**"
   ]
  },
  {
   "cell_type": "code",
   "execution_count": null,
   "metadata": {},
   "outputs": [],
   "source": []
  }
 ],
 "metadata": {
  "kernelspec": {
   "display_name": "Python 3 (ipykernel)",
   "language": "python",
   "name": "python3"
  }
 },
 "nbformat": 4,
 "nbformat_minor": 4
}
