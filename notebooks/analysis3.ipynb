{
 "cells": [
  {
   "cell_type": "markdown",
   "metadata": {},
   "source": [
    "# Zackary Nielsen"
   ]
  },
  {
   "cell_type": "markdown",
   "metadata": {},
   "source": [
    "**EDA**\n",
    "**Step 1: describe dataset**"
   ]
  },
  {
   "cell_type": "markdown",
   "metadata": {},
   "source": [
    "The dataset chosen came from data.world, provided by user Chris Awram. Awram collected and combined data from three primary sources: fatalencounters.org, gunviolencearchive.org, and github.com/washingtonpost/data-police-shootings. The dataset is titled \"US Police Involved Fatalities\" and it has information on individuals who were killed during alteractions with US police. Data has 12 columns or variables: UID (identification number), name, age, gender, race, date, city, state, manner of death, whether they were armed, mental illness, and if they were fleeing. The 12491 rows/occurrences in the dataset were collected across years 2000-2016. This dataset's purpose is to uncover insights about individuals which have been killed by US police. The inclusion of variables such as race, mental_illness, and gender may provide interesting insights into \"risk-factors\" which may increase the chance of an individual experinceing a fatal police interaction. This dataset's primary purpose is public knowledge about police fatalities, which may result in increased levels of transparency and accountability for law enforcement. How the data was collected is not entirely clear. I speculate Awram collected the data from primary historical records (digitized) and then combined them into the final dataset. "
   ]
  },
  {
   "cell_type": "code",
   "execution_count": null,
   "metadata": {},
   "outputs": [],
   "source": [
    "#packages \n",
    "\n",
    "import pandas as pd\n",
    "import numpy as np\n",
    "import seaborn as sns\n",
    "import os\n",
    "import matplotlib.pyplot as plt\n"
   ]
  },
  {
   "cell_type": "markdown",
   "metadata": {},
   "source": [
    "**EDA Step 2: Load data**"
   ]
  },
  {
   "cell_type": "code",
   "execution_count": null,
   "metadata": {},
   "outputs": [
    {
     "data": {
      "text/plain": [
       "'1.4.4'"
      ]
     },
     "execution_count": null,
     "metadata": {},
     "output_type": "execute_result"
    }
   ],
   "source": [
    "pd.__version__\n"
   ]
  },
  {
   "cell_type": "code",
   "execution_count": null,
   "metadata": {},
   "outputs": [],
   "source": [
    "df = pd.read_csv('../data/raw/data.csv',encoding=\"ISO-8859-1\")\n"
   ]
  },
  {
   "cell_type": "code",
   "execution_count": null,
   "metadata": {},
   "outputs": [
    {
     "data": {
      "text/html": [
       "<div>\n",
       "<style scoped>\n",
       "    .dataframe tbody tr th:only-of-type {\n",
       "        vertical-align: middle;\n",
       "    }\n",
       "\n",
       "    .dataframe tbody tr th {\n",
       "        vertical-align: top;\n",
       "    }\n",
       "\n",
       "    .dataframe thead th {\n",
       "        text-align: right;\n",
       "    }\n",
       "</style>\n",
       "<table border=\"1\" class=\"dataframe\">\n",
       "  <thead>\n",
       "    <tr style=\"text-align: right;\">\n",
       "      <th></th>\n",
       "      <th>UID</th>\n",
       "      <th>Name</th>\n",
       "      <th>Age</th>\n",
       "      <th>Gender</th>\n",
       "      <th>Race</th>\n",
       "      <th>Date</th>\n",
       "      <th>City</th>\n",
       "      <th>State</th>\n",
       "      <th>Manner_of_death</th>\n",
       "      <th>Armed</th>\n",
       "      <th>Mental_illness</th>\n",
       "      <th>Flee</th>\n",
       "    </tr>\n",
       "  </thead>\n",
       "  <tbody>\n",
       "    <tr>\n",
       "      <th>0</th>\n",
       "      <td>133</td>\n",
       "      <td>Karen O. Chin</td>\n",
       "      <td>44.0</td>\n",
       "      <td>Female</td>\n",
       "      <td>Asian</td>\n",
       "      <td>5/4/2000</td>\n",
       "      <td>Alameda</td>\n",
       "      <td>CA</td>\n",
       "      <td>Shot</td>\n",
       "      <td>NaN</td>\n",
       "      <td>False</td>\n",
       "      <td>False</td>\n",
       "    </tr>\n",
       "    <tr>\n",
       "      <th>1</th>\n",
       "      <td>169</td>\n",
       "      <td>Chyraphone Komvongsa</td>\n",
       "      <td>26.0</td>\n",
       "      <td>Male</td>\n",
       "      <td>Asian</td>\n",
       "      <td>6/2/2000</td>\n",
       "      <td>Fresno</td>\n",
       "      <td>CA</td>\n",
       "      <td>Shot</td>\n",
       "      <td>NaN</td>\n",
       "      <td>False</td>\n",
       "      <td>False</td>\n",
       "    </tr>\n",
       "    <tr>\n",
       "      <th>2</th>\n",
       "      <td>257</td>\n",
       "      <td>Ming Chinh Ly</td>\n",
       "      <td>36.0</td>\n",
       "      <td>Male</td>\n",
       "      <td>Asian</td>\n",
       "      <td>8/13/2000</td>\n",
       "      <td>Rosemead</td>\n",
       "      <td>CA</td>\n",
       "      <td>Shot</td>\n",
       "      <td>Gun</td>\n",
       "      <td>False</td>\n",
       "      <td>False</td>\n",
       "    </tr>\n",
       "    <tr>\n",
       "      <th>3</th>\n",
       "      <td>483</td>\n",
       "      <td>Kinh Quoc Dao</td>\n",
       "      <td>29.0</td>\n",
       "      <td>Male</td>\n",
       "      <td>Asian</td>\n",
       "      <td>2/9/2001</td>\n",
       "      <td>Valley Glen</td>\n",
       "      <td>CA</td>\n",
       "      <td>Shot</td>\n",
       "      <td>Gun</td>\n",
       "      <td>False</td>\n",
       "      <td>False</td>\n",
       "    </tr>\n",
       "    <tr>\n",
       "      <th>4</th>\n",
       "      <td>655</td>\n",
       "      <td>Vanpaseuth Phaisouphanh</td>\n",
       "      <td>25.0</td>\n",
       "      <td>Male</td>\n",
       "      <td>Asian</td>\n",
       "      <td>6/10/2001</td>\n",
       "      <td>Riverside</td>\n",
       "      <td>CA</td>\n",
       "      <td>Shot</td>\n",
       "      <td>Knife</td>\n",
       "      <td>False</td>\n",
       "      <td>False</td>\n",
       "    </tr>\n",
       "  </tbody>\n",
       "</table>\n",
       "</div>"
      ],
      "text/plain": [
       "   UID                     Name   Age  Gender   Race       Date         City  \\\n",
       "0  133            Karen O. Chin  44.0  Female  Asian   5/4/2000      Alameda   \n",
       "1  169     Chyraphone Komvongsa  26.0    Male  Asian   6/2/2000       Fresno   \n",
       "2  257            Ming Chinh Ly  36.0    Male  Asian  8/13/2000     Rosemead   \n",
       "3  483            Kinh Quoc Dao  29.0    Male  Asian   2/9/2001  Valley Glen   \n",
       "4  655  Vanpaseuth Phaisouphanh  25.0    Male  Asian  6/10/2001    Riverside   \n",
       "\n",
       "  State Manner_of_death  Armed  Mental_illness   Flee  \n",
       "0    CA            Shot    NaN           False  False  \n",
       "1    CA            Shot    NaN           False  False  \n",
       "2    CA            Shot    Gun           False  False  \n",
       "3    CA            Shot    Gun           False  False  \n",
       "4    CA            Shot  Knife           False  False  "
      ]
     },
     "execution_count": null,
     "metadata": {},
     "output_type": "execute_result"
    }
   ],
   "source": [
    "df.head()"
   ]
  },
  {
   "cell_type": "markdown",
   "metadata": {},
   "source": [
    "**EDA Step 3: Explore data**"
   ]
  },
  {
   "cell_type": "code",
   "execution_count": null,
   "metadata": {},
   "outputs": [
    {
     "name": "stdout",
     "output_type": "stream",
     "text": [
      "<class 'pandas.core.frame.DataFrame'>\n",
      "RangeIndex: 12491 entries, 0 to 12490\n",
      "Data columns (total 12 columns):\n",
      " #   Column           Non-Null Count  Dtype  \n",
      "---  ------           --------------  -----  \n",
      " 0   UID              12491 non-null  int64  \n",
      " 1   Name             12491 non-null  object \n",
      " 2   Age              12258 non-null  float64\n",
      " 3   Gender           12483 non-null  object \n",
      " 4   Race             8526 non-null   object \n",
      " 5   Date             12491 non-null  object \n",
      " 6   City             12487 non-null  object \n",
      " 7   State            12491 non-null  object \n",
      " 8   Manner_of_death  12491 non-null  object \n",
      " 9   Armed            6814 non-null   object \n",
      " 10  Mental_illness   12491 non-null  bool   \n",
      " 11  Flee             12491 non-null  bool   \n",
      "dtypes: bool(2), float64(1), int64(1), object(8)\n",
      "memory usage: 1000.4+ KB\n"
     ]
    },
    {
     "data": {
      "text/plain": [
       "pandas.core.frame.DataFrame"
      ]
     },
     "execution_count": null,
     "metadata": {},
     "output_type": "execute_result"
    }
   ],
   "source": [
    "#Data types \n",
    "\n",
    "df.info() \n",
    "type(df) #dataset: pandas.core.frame.DataFrame\n",
    "\n",
    "#my variables of interest: Age (float64), Mental_illness (boolean), Flee (boolean)"
   ]
  },
  {
   "cell_type": "code",
   "execution_count": null,
   "metadata": {},
   "outputs": [
    {
     "data": {
      "text/plain": [
       "((12491, 12),\n",
       " Index(['UID', 'Name', 'Age', 'Gender', 'Race', 'Date', 'City', 'State',\n",
       "        'Manner_of_death', 'Armed', 'Mental_illness', 'Flee'],\n",
       "       dtype='object'))"
      ]
     },
     "execution_count": null,
     "metadata": {},
     "output_type": "execute_result"
    }
   ],
   "source": [
    "#Shape (rows and colunms) of Dataset and Column Names\n",
    "\n",
    "df.shape, df.columns "
   ]
  },
  {
   "cell_type": "code",
   "execution_count": null,
   "metadata": {},
   "outputs": [
    {
     "data": {
      "text/html": [
       "<div>\n",
       "<style scoped>\n",
       "    .dataframe tbody tr th:only-of-type {\n",
       "        vertical-align: middle;\n",
       "    }\n",
       "\n",
       "    .dataframe tbody tr th {\n",
       "        vertical-align: top;\n",
       "    }\n",
       "\n",
       "    .dataframe thead th {\n",
       "        text-align: right;\n",
       "    }\n",
       "</style>\n",
       "<table border=\"1\" class=\"dataframe\">\n",
       "  <thead>\n",
       "    <tr style=\"text-align: right;\">\n",
       "      <th></th>\n",
       "      <th>UID</th>\n",
       "      <th>Name</th>\n",
       "      <th>Age</th>\n",
       "      <th>Gender</th>\n",
       "      <th>Race</th>\n",
       "      <th>Date</th>\n",
       "      <th>City</th>\n",
       "      <th>State</th>\n",
       "      <th>Manner_of_death</th>\n",
       "      <th>Armed</th>\n",
       "      <th>Mental_illness</th>\n",
       "      <th>Flee</th>\n",
       "    </tr>\n",
       "  </thead>\n",
       "  <tbody>\n",
       "    <tr>\n",
       "      <th>0</th>\n",
       "      <td>133</td>\n",
       "      <td>Karen O. Chin</td>\n",
       "      <td>44.0</td>\n",
       "      <td>Female</td>\n",
       "      <td>Asian</td>\n",
       "      <td>5/4/2000</td>\n",
       "      <td>Alameda</td>\n",
       "      <td>CA</td>\n",
       "      <td>Shot</td>\n",
       "      <td>NaN</td>\n",
       "      <td>False</td>\n",
       "      <td>False</td>\n",
       "    </tr>\n",
       "    <tr>\n",
       "      <th>1</th>\n",
       "      <td>169</td>\n",
       "      <td>Chyraphone Komvongsa</td>\n",
       "      <td>26.0</td>\n",
       "      <td>Male</td>\n",
       "      <td>Asian</td>\n",
       "      <td>6/2/2000</td>\n",
       "      <td>Fresno</td>\n",
       "      <td>CA</td>\n",
       "      <td>Shot</td>\n",
       "      <td>NaN</td>\n",
       "      <td>False</td>\n",
       "      <td>False</td>\n",
       "    </tr>\n",
       "    <tr>\n",
       "      <th>2</th>\n",
       "      <td>257</td>\n",
       "      <td>Ming Chinh Ly</td>\n",
       "      <td>36.0</td>\n",
       "      <td>Male</td>\n",
       "      <td>Asian</td>\n",
       "      <td>8/13/2000</td>\n",
       "      <td>Rosemead</td>\n",
       "      <td>CA</td>\n",
       "      <td>Shot</td>\n",
       "      <td>Gun</td>\n",
       "      <td>False</td>\n",
       "      <td>False</td>\n",
       "    </tr>\n",
       "    <tr>\n",
       "      <th>3</th>\n",
       "      <td>483</td>\n",
       "      <td>Kinh Quoc Dao</td>\n",
       "      <td>29.0</td>\n",
       "      <td>Male</td>\n",
       "      <td>Asian</td>\n",
       "      <td>2/9/2001</td>\n",
       "      <td>Valley Glen</td>\n",
       "      <td>CA</td>\n",
       "      <td>Shot</td>\n",
       "      <td>Gun</td>\n",
       "      <td>False</td>\n",
       "      <td>False</td>\n",
       "    </tr>\n",
       "    <tr>\n",
       "      <th>4</th>\n",
       "      <td>655</td>\n",
       "      <td>Vanpaseuth Phaisouphanh</td>\n",
       "      <td>25.0</td>\n",
       "      <td>Male</td>\n",
       "      <td>Asian</td>\n",
       "      <td>6/10/2001</td>\n",
       "      <td>Riverside</td>\n",
       "      <td>CA</td>\n",
       "      <td>Shot</td>\n",
       "      <td>Knife</td>\n",
       "      <td>False</td>\n",
       "      <td>False</td>\n",
       "    </tr>\n",
       "  </tbody>\n",
       "</table>\n",
       "</div>"
      ],
      "text/plain": [
       "   UID                     Name   Age  Gender   Race       Date         City  \\\n",
       "0  133            Karen O. Chin  44.0  Female  Asian   5/4/2000      Alameda   \n",
       "1  169     Chyraphone Komvongsa  26.0    Male  Asian   6/2/2000       Fresno   \n",
       "2  257            Ming Chinh Ly  36.0    Male  Asian  8/13/2000     Rosemead   \n",
       "3  483            Kinh Quoc Dao  29.0    Male  Asian   2/9/2001  Valley Glen   \n",
       "4  655  Vanpaseuth Phaisouphanh  25.0    Male  Asian  6/10/2001    Riverside   \n",
       "\n",
       "  State Manner_of_death  Armed  Mental_illness   Flee  \n",
       "0    CA            Shot    NaN           False  False  \n",
       "1    CA            Shot    NaN           False  False  \n",
       "2    CA            Shot    Gun           False  False  \n",
       "3    CA            Shot    Gun           False  False  \n",
       "4    CA            Shot  Knife           False  False  "
      ]
     },
     "execution_count": null,
     "metadata": {},
     "output_type": "execute_result"
    }
   ],
   "source": [
    "# Dataset Preview\n",
    "\n",
    "df.head()"
   ]
  },
  {
   "cell_type": "code",
   "execution_count": null,
   "metadata": {},
   "outputs": [
    {
     "data": {
      "text/plain": [
       "UID                12488\n",
       "Name               11354\n",
       "Age                   92\n",
       "Gender                 2\n",
       "Race                   6\n",
       "Date                4848\n",
       "City                3327\n",
       "State                 51\n",
       "Manner_of_death        4\n",
       "Armed                 59\n",
       "Mental_illness         2\n",
       "Flee                   2\n",
       "dtype: int64"
      ]
     },
     "execution_count": null,
     "metadata": {},
     "output_type": "execute_result"
    }
   ],
   "source": [
    "# Number of unique responses per variable\n",
    "\n",
    "df.nunique() \n",
    "\n",
    "# 92 unique age values\n",
    "# Both Mental_illness & Flee have 2 unique values (boolean)"
   ]
  },
  {
   "cell_type": "code",
   "execution_count": null,
   "metadata": {},
   "outputs": [
    {
     "data": {
      "text/plain": [
       "count    12258.000000\n",
       "mean        35.269538\n",
       "std         12.979532\n",
       "min          1.000000\n",
       "25%         25.000000\n",
       "50%         33.000000\n",
       "75%         44.000000\n",
       "max        107.000000\n",
       "Name: Age, dtype: float64"
      ]
     },
     "execution_count": null,
     "metadata": {},
     "output_type": "execute_result"
    }
   ],
   "source": [
    "# Descriptive summary of Age\n",
    "\n",
    "df[\"Age\"].describe()\n",
    "\n",
    "#the min(1.0) and max(107.0) of Age is concerning; check if the extremes are outliers in the Wrangling step "
   ]
  },
  {
   "cell_type": "code",
   "execution_count": null,
   "metadata": {},
   "outputs": [
    {
     "data": {
      "text/plain": [
       "33.0"
      ]
     },
     "execution_count": null,
     "metadata": {},
     "output_type": "execute_result"
    }
   ],
   "source": [
    "#Median of Age\n",
    "df[\"Age\"].median()"
   ]
  },
  {
   "cell_type": "code",
   "execution_count": null,
   "metadata": {},
   "outputs": [
    {
     "name": "stdout",
     "output_type": "stream",
     "text": [
      "5\n"
     ]
    }
   ],
   "source": [
    "print(sum(df['Age']==1)) \n",
    "\n",
    "# 5 individuals at age 1 exist"
   ]
  },
  {
   "cell_type": "code",
   "execution_count": null,
   "metadata": {},
   "outputs": [
    {
     "name": "stdout",
     "output_type": "stream",
     "text": [
      "1 0\n"
     ]
    }
   ],
   "source": [
    "print(sum(df['Age']==107), sum(df['Age']==106)) \n",
    "\n",
    "# 1 individuals at age 107 exists (likely there are outliers on the high side of age)"
   ]
  },
  {
   "cell_type": "code",
   "execution_count": null,
   "metadata": {},
   "outputs": [
    {
     "name": "stdout",
     "output_type": "stream",
     "text": [
      "6603\n"
     ]
    }
   ],
   "source": [
    " #count of age data points under the approximate mean (35)\n",
    "    \n",
    "print(sum(df['Age']<35)) "
   ]
  },
  {
   "cell_type": "code",
   "execution_count": null,
   "metadata": {},
   "outputs": [
    {
     "name": "stdout",
     "output_type": "stream",
     "text": [
      "20\n"
     ]
    }
   ],
   "source": [
    "#Count of Individuals with age less than 10 \n",
    "\n",
    "print(sum(df['Age']<10))"
   ]
  },
  {
   "cell_type": "code",
   "execution_count": null,
   "metadata": {},
   "outputs": [
    {
     "name": "stdout",
     "output_type": "stream",
     "text": [
      "4\n"
     ]
    }
   ],
   "source": [
    "#Count of Individuals with age greater than 90\n",
    "\n",
    "print(sum(df['Age']>90))\n",
    "\n",
    "# less common than age<10"
   ]
  },
  {
   "cell_type": "code",
   "execution_count": null,
   "metadata": {},
   "outputs": [
    {
     "data": {
      "text/plain": [
       "(True    2629\n",
       " Name: Mental_illness, dtype: int64,\n",
       " False    9862\n",
       " Name: Mental_illness, dtype: int64)"
      ]
     },
     "execution_count": null,
     "metadata": {},
     "output_type": "execute_result"
    }
   ],
   "source": [
    "# Occurences of Mental_illness in dataset\n",
    "\n",
    "df[df[\"Mental_illness\"]==True][\"Mental_illness\"].value_counts(), df[df[\"Mental_illness\"]==False][\"Mental_illness\"].value_counts()\n",
    "\n",
    "# could also use: df['Mental_illness'].describe(), but my code returns both the True, False counts \n",
    "\n",
    "# initially, n=9862 individuals were not labeled as having mental illness. \n",
    "# intially, n=2629 Indivdiuals labeled as having mental illness. "
   ]
  },
  {
   "cell_type": "code",
   "execution_count": null,
   "metadata": {},
   "outputs": [
    {
     "data": {
      "text/plain": [
       "False    0.789528\n",
       "True     0.210472\n",
       "Name: Mental_illness, dtype: float64"
      ]
     },
     "execution_count": null,
     "metadata": {},
     "output_type": "execute_result"
    }
   ],
   "source": [
    "# Proportions for Mental_illness \n",
    "\n",
    "df['Mental_illness'].value_counts(normalize=True) \n",
    "\n",
    "# Initially, ~78.95% are False for mental_illness \n",
    "# Initially, ~21.05% are True for mental_illness  "
   ]
  },
  {
   "cell_type": "code",
   "execution_count": null,
   "metadata": {},
   "outputs": [
    {
     "data": {
      "text/plain": [
       "(True    560\n",
       " Name: Flee, dtype: int64,\n",
       " False    11931\n",
       " Name: Flee, dtype: int64)"
      ]
     },
     "execution_count": null,
     "metadata": {},
     "output_type": "execute_result"
    }
   ],
   "source": [
    "# Occurences of Flee in dataset\n",
    "\n",
    "df[df[\"Flee\"]==True][\"Flee\"].value_counts(), df[df[\"Flee\"]==False][\"Flee\"].value_counts()\n",
    "\n",
    "# initially, a very small portion of individuals fled police, n=560\n",
    "# initially, most individuals did not flee police, n=11931"
   ]
  },
  {
   "cell_type": "code",
   "execution_count": null,
   "metadata": {},
   "outputs": [
    {
     "data": {
      "text/plain": [
       "False    0.955168\n",
       "True     0.044832\n",
       "Name: Flee, dtype: float64"
      ]
     },
     "execution_count": null,
     "metadata": {},
     "output_type": "execute_result"
    }
   ],
   "source": [
    "# Proportions for Flee\n",
    "\n",
    "df['Flee'].value_counts(normalize=True) \n",
    "\n",
    "# Initially, ~95.50% are false for Flee \n",
    "# Initially, ~4.50% are True for Flee"
   ]
  },
  {
   "cell_type": "markdown",
   "metadata": {},
   "source": [
    "**EDA Step 4: Initial Thoughts**"
   ]
  },
  {
   "cell_type": "markdown",
   "metadata": {},
   "source": [
    "**I will split my thoughts by variable:**\n",
    "\n",
    "***Age:*** \n",
    "Range of 1-107. M = 35.27, SD = 12.98. \n",
    "The range is slightly concerning, with values such as age= 1, 107. When checking the occurence of the min/max values, numerous occurences of min values existed (age 1 = 5 occurences) but the max values appeared to look like possible outliers  (age 107 = 1 occurence, age 106 = 0 occurence). 92 different age values were reported. The IQR of variable age is tight (.75 = 44, .25 = 25) so we expect there to be outliers by that convention. Only 4 indiviuals had an age greater than 90, while 20 individuals had age less than 10. \n",
    "\n",
    "***Mental_illness:***\n",
    "9862 individuals did not have mental_illness, 2629 individuals did have mental illness. \n",
    "Proportions: mental_illness=True ~21.05%; mental_illness=False ~78.95%.\n",
    "The higher proportion of mental illness in this population is not suprising, as we are looking at police fatalities. It is likely that the proportion of individuals killed by police has a high representation of mental illness because mental illness may ***i)*** influence the individuals' behaviour to be more problematic for police and ***ii)*** influence perceptions and interactions with law enforcement. I expected the proportion of individuals with mental illness to be higher.\n",
    "\n",
    "***Flee:***\n",
    "560 individuals fled police (very little) compared to 11931 individuals who do not flee.\n",
    "Proportions: Flee=True ~4.50%; Flee=False ~95.50%.\n",
    "It makes sense that the majority of individuals did not flee from police. These proportions are similar to what i initiallly predicted. "
   ]
  },
  {
   "cell_type": "markdown",
   "metadata": {},
   "source": [
    "**EDA Step 5: Wrangle data**"
   ]
  },
  {
   "cell_type": "markdown",
   "metadata": {},
   "source": [
    "***Age***"
   ]
  },
  {
   "cell_type": "code",
   "execution_count": null,
   "metadata": {},
   "outputs": [],
   "source": [
    "# Function that Calculates Outliers\n",
    "\n",
    "def find_outliers_IQR(df):\n",
    "\n",
    "    \"\"\"This function calculates the outliers of a df\"\"\"\n",
    "\n",
    "    q1=df.quantile(0.25)\n",
    "\n",
    "    q3=df.quantile(0.75)\n",
    "\n",
    "    IQR=q3-q1\n",
    "\n",
    "    outliers = df[((df<(q1-1.5*IQR)) | (df>(q3+1.5*IQR)))]\n",
    "\n",
    "    return outliers"
   ]
  },
  {
   "cell_type": "code",
   "execution_count": null,
   "metadata": {},
   "outputs": [
    {
     "name": "stdout",
     "output_type": "stream",
     "text": [
      "number of outliers: 122\n",
      "max outlier value: 107.0\n",
      "min outlier value: 73.0\n"
     ]
    },
    {
     "data": {
      "text/plain": [
       "170      76.0\n",
       "241      88.0\n",
       "420      78.0\n",
       "467      74.0\n",
       "581      92.0\n",
       "         ... \n",
       "12126    86.0\n",
       "12128    76.0\n",
       "12134    77.0\n",
       "12200    86.0\n",
       "12428    77.0\n",
       "Name: Age, Length: 122, dtype: float64"
      ]
     },
     "execution_count": null,
     "metadata": {},
     "output_type": "execute_result"
    }
   ],
   "source": [
    "# Find Outliers in Age\n",
    "\n",
    "outliers = find_outliers_IQR(df['Age'])\n",
    "\n",
    "print('number of outliers: '+ str(len(outliers))) # amount of outliers\n",
    "\n",
    "print('max outlier value: '+ str(outliers.max())) # largest outlier\n",
    "\n",
    "print('min outlier value: '+ str(outliers.min())) # smallest outlier \n",
    "\n",
    "outliers #Age outliers: \n",
    "            #No outliers on the lower side of age  \n",
    "            #122 outliers existed in the range 73:107 "
   ]
  },
  {
   "cell_type": "code",
   "execution_count": null,
   "metadata": {},
   "outputs": [],
   "source": [
    "#Function to Drop Outliers and Create a new df which Replaces Outliers with NULL Value \n",
    "\n",
    "def drop_outliers_IQR(df):\n",
    "\n",
    "   \"\"\"This function replaces outliers with null value\"\"\"\n",
    "\n",
    "   q1=df.quantile(0.25)\n",
    "\n",
    "   q3=df.quantile(0.75)\n",
    "\n",
    "   IQR=q3-q1\n",
    "\n",
    "   not_outliers = df[~((df<(q1-1.5*IQR)) | (df>(q3+1.5*IQR)))]\n",
    "\n",
    "   outliers_dropped = outliers.dropna().reset_index()\n",
    "\n",
    "   return not_outliers"
   ]
  },
  {
   "cell_type": "code",
   "execution_count": null,
   "metadata": {},
   "outputs": [
    {
     "data": {
      "text/plain": [
       "0        44.0\n",
       "1        26.0\n",
       "2        36.0\n",
       "3        29.0\n",
       "4        25.0\n",
       "         ... \n",
       "12486     NaN\n",
       "12487    48.0\n",
       "12488    38.0\n",
       "12489    41.0\n",
       "12490    39.0\n",
       "Name: Age, Length: 12369, dtype: float64"
      ]
     },
     "execution_count": null,
     "metadata": {},
     "output_type": "execute_result"
    }
   ],
   "source": [
    "# Age category with outliers = NaN \n",
    "    \n",
    "filtered_age = drop_outliers_IQR(df['Age'])\n",
    "\n",
    "filtered_age"
   ]
  },
  {
   "cell_type": "code",
   "execution_count": null,
   "metadata": {},
   "outputs": [
    {
     "data": {
      "text/html": [
       "<div>\n",
       "<style scoped>\n",
       "    .dataframe tbody tr th:only-of-type {\n",
       "        vertical-align: middle;\n",
       "    }\n",
       "\n",
       "    .dataframe tbody tr th {\n",
       "        vertical-align: top;\n",
       "    }\n",
       "\n",
       "    .dataframe thead th {\n",
       "        text-align: right;\n",
       "    }\n",
       "</style>\n",
       "<table border=\"1\" class=\"dataframe\">\n",
       "  <thead>\n",
       "    <tr style=\"text-align: right;\">\n",
       "      <th></th>\n",
       "      <th>UID</th>\n",
       "      <th>Name</th>\n",
       "      <th>Age</th>\n",
       "      <th>Gender</th>\n",
       "      <th>Race</th>\n",
       "      <th>Date</th>\n",
       "      <th>City</th>\n",
       "      <th>State</th>\n",
       "      <th>Manner_of_death</th>\n",
       "      <th>Armed</th>\n",
       "      <th>Mental_illness</th>\n",
       "      <th>Flee</th>\n",
       "      <th>filtered_age</th>\n",
       "    </tr>\n",
       "  </thead>\n",
       "  <tbody>\n",
       "    <tr>\n",
       "      <th>0</th>\n",
       "      <td>133</td>\n",
       "      <td>Karen O. Chin</td>\n",
       "      <td>44.0</td>\n",
       "      <td>Female</td>\n",
       "      <td>Asian</td>\n",
       "      <td>5/4/2000</td>\n",
       "      <td>Alameda</td>\n",
       "      <td>CA</td>\n",
       "      <td>Shot</td>\n",
       "      <td>NaN</td>\n",
       "      <td>False</td>\n",
       "      <td>False</td>\n",
       "      <td>44.0</td>\n",
       "    </tr>\n",
       "    <tr>\n",
       "      <th>1</th>\n",
       "      <td>169</td>\n",
       "      <td>Chyraphone Komvongsa</td>\n",
       "      <td>26.0</td>\n",
       "      <td>Male</td>\n",
       "      <td>Asian</td>\n",
       "      <td>6/2/2000</td>\n",
       "      <td>Fresno</td>\n",
       "      <td>CA</td>\n",
       "      <td>Shot</td>\n",
       "      <td>NaN</td>\n",
       "      <td>False</td>\n",
       "      <td>False</td>\n",
       "      <td>26.0</td>\n",
       "    </tr>\n",
       "    <tr>\n",
       "      <th>2</th>\n",
       "      <td>257</td>\n",
       "      <td>Ming Chinh Ly</td>\n",
       "      <td>36.0</td>\n",
       "      <td>Male</td>\n",
       "      <td>Asian</td>\n",
       "      <td>8/13/2000</td>\n",
       "      <td>Rosemead</td>\n",
       "      <td>CA</td>\n",
       "      <td>Shot</td>\n",
       "      <td>Gun</td>\n",
       "      <td>False</td>\n",
       "      <td>False</td>\n",
       "      <td>36.0</td>\n",
       "    </tr>\n",
       "    <tr>\n",
       "      <th>3</th>\n",
       "      <td>483</td>\n",
       "      <td>Kinh Quoc Dao</td>\n",
       "      <td>29.0</td>\n",
       "      <td>Male</td>\n",
       "      <td>Asian</td>\n",
       "      <td>2/9/2001</td>\n",
       "      <td>Valley Glen</td>\n",
       "      <td>CA</td>\n",
       "      <td>Shot</td>\n",
       "      <td>Gun</td>\n",
       "      <td>False</td>\n",
       "      <td>False</td>\n",
       "      <td>29.0</td>\n",
       "    </tr>\n",
       "    <tr>\n",
       "      <th>4</th>\n",
       "      <td>655</td>\n",
       "      <td>Vanpaseuth Phaisouphanh</td>\n",
       "      <td>25.0</td>\n",
       "      <td>Male</td>\n",
       "      <td>Asian</td>\n",
       "      <td>6/10/2001</td>\n",
       "      <td>Riverside</td>\n",
       "      <td>CA</td>\n",
       "      <td>Shot</td>\n",
       "      <td>Knife</td>\n",
       "      <td>False</td>\n",
       "      <td>False</td>\n",
       "      <td>25.0</td>\n",
       "    </tr>\n",
       "  </tbody>\n",
       "</table>\n",
       "</div>"
      ],
      "text/plain": [
       "   UID                     Name   Age  Gender   Race       Date         City  \\\n",
       "0  133            Karen O. Chin  44.0  Female  Asian   5/4/2000      Alameda   \n",
       "1  169     Chyraphone Komvongsa  26.0    Male  Asian   6/2/2000       Fresno   \n",
       "2  257            Ming Chinh Ly  36.0    Male  Asian  8/13/2000     Rosemead   \n",
       "3  483            Kinh Quoc Dao  29.0    Male  Asian   2/9/2001  Valley Glen   \n",
       "4  655  Vanpaseuth Phaisouphanh  25.0    Male  Asian  6/10/2001    Riverside   \n",
       "\n",
       "  State Manner_of_death  Armed  Mental_illness   Flee  filtered_age  \n",
       "0    CA            Shot    NaN           False  False          44.0  \n",
       "1    CA            Shot    NaN           False  False          26.0  \n",
       "2    CA            Shot    Gun           False  False          36.0  \n",
       "3    CA            Shot    Gun           False  False          29.0  \n",
       "4    CA            Shot  Knife           False  False          25.0  "
      ]
     },
     "execution_count": null,
     "metadata": {},
     "output_type": "execute_result"
    }
   ],
   "source": [
    "# Add the altered Age Catgeory \n",
    "\n",
    "df['filtered_age'] = filtered_age\n",
    "df.head()"
   ]
  },
  {
   "cell_type": "code",
   "execution_count": null,
   "metadata": {},
   "outputs": [],
   "source": [
    "# Delete the old age category \n",
    "\n",
    "del df['Age']"
   ]
  },
  {
   "cell_type": "code",
   "execution_count": null,
   "metadata": {},
   "outputs": [
    {
     "data": {
      "text/html": [
       "<div>\n",
       "<style scoped>\n",
       "    .dataframe tbody tr th:only-of-type {\n",
       "        vertical-align: middle;\n",
       "    }\n",
       "\n",
       "    .dataframe tbody tr th {\n",
       "        vertical-align: top;\n",
       "    }\n",
       "\n",
       "    .dataframe thead th {\n",
       "        text-align: right;\n",
       "    }\n",
       "</style>\n",
       "<table border=\"1\" class=\"dataframe\">\n",
       "  <thead>\n",
       "    <tr style=\"text-align: right;\">\n",
       "      <th></th>\n",
       "      <th>UID</th>\n",
       "      <th>Name</th>\n",
       "      <th>Gender</th>\n",
       "      <th>Race</th>\n",
       "      <th>Date</th>\n",
       "      <th>City</th>\n",
       "      <th>State</th>\n",
       "      <th>Manner_of_death</th>\n",
       "      <th>Armed</th>\n",
       "      <th>Mental_illness</th>\n",
       "      <th>Flee</th>\n",
       "      <th>filtered_age</th>\n",
       "    </tr>\n",
       "  </thead>\n",
       "  <tbody>\n",
       "    <tr>\n",
       "      <th>0</th>\n",
       "      <td>133</td>\n",
       "      <td>Karen O. Chin</td>\n",
       "      <td>Female</td>\n",
       "      <td>Asian</td>\n",
       "      <td>5/4/2000</td>\n",
       "      <td>Alameda</td>\n",
       "      <td>CA</td>\n",
       "      <td>Shot</td>\n",
       "      <td>NaN</td>\n",
       "      <td>False</td>\n",
       "      <td>False</td>\n",
       "      <td>44.0</td>\n",
       "    </tr>\n",
       "    <tr>\n",
       "      <th>1</th>\n",
       "      <td>169</td>\n",
       "      <td>Chyraphone Komvongsa</td>\n",
       "      <td>Male</td>\n",
       "      <td>Asian</td>\n",
       "      <td>6/2/2000</td>\n",
       "      <td>Fresno</td>\n",
       "      <td>CA</td>\n",
       "      <td>Shot</td>\n",
       "      <td>NaN</td>\n",
       "      <td>False</td>\n",
       "      <td>False</td>\n",
       "      <td>26.0</td>\n",
       "    </tr>\n",
       "    <tr>\n",
       "      <th>2</th>\n",
       "      <td>257</td>\n",
       "      <td>Ming Chinh Ly</td>\n",
       "      <td>Male</td>\n",
       "      <td>Asian</td>\n",
       "      <td>8/13/2000</td>\n",
       "      <td>Rosemead</td>\n",
       "      <td>CA</td>\n",
       "      <td>Shot</td>\n",
       "      <td>Gun</td>\n",
       "      <td>False</td>\n",
       "      <td>False</td>\n",
       "      <td>36.0</td>\n",
       "    </tr>\n",
       "    <tr>\n",
       "      <th>3</th>\n",
       "      <td>483</td>\n",
       "      <td>Kinh Quoc Dao</td>\n",
       "      <td>Male</td>\n",
       "      <td>Asian</td>\n",
       "      <td>2/9/2001</td>\n",
       "      <td>Valley Glen</td>\n",
       "      <td>CA</td>\n",
       "      <td>Shot</td>\n",
       "      <td>Gun</td>\n",
       "      <td>False</td>\n",
       "      <td>False</td>\n",
       "      <td>29.0</td>\n",
       "    </tr>\n",
       "    <tr>\n",
       "      <th>4</th>\n",
       "      <td>655</td>\n",
       "      <td>Vanpaseuth Phaisouphanh</td>\n",
       "      <td>Male</td>\n",
       "      <td>Asian</td>\n",
       "      <td>6/10/2001</td>\n",
       "      <td>Riverside</td>\n",
       "      <td>CA</td>\n",
       "      <td>Shot</td>\n",
       "      <td>Knife</td>\n",
       "      <td>False</td>\n",
       "      <td>False</td>\n",
       "      <td>25.0</td>\n",
       "    </tr>\n",
       "  </tbody>\n",
       "</table>\n",
       "</div>"
      ],
      "text/plain": [
       "   UID                     Name  Gender   Race       Date         City State  \\\n",
       "0  133            Karen O. Chin  Female  Asian   5/4/2000      Alameda    CA   \n",
       "1  169     Chyraphone Komvongsa    Male  Asian   6/2/2000       Fresno    CA   \n",
       "2  257            Ming Chinh Ly    Male  Asian  8/13/2000     Rosemead    CA   \n",
       "3  483            Kinh Quoc Dao    Male  Asian   2/9/2001  Valley Glen    CA   \n",
       "4  655  Vanpaseuth Phaisouphanh    Male  Asian  6/10/2001    Riverside    CA   \n",
       "\n",
       "  Manner_of_death  Armed  Mental_illness   Flee  filtered_age  \n",
       "0            Shot    NaN           False  False          44.0  \n",
       "1            Shot    NaN           False  False          26.0  \n",
       "2            Shot    Gun           False  False          36.0  \n",
       "3            Shot    Gun           False  False          29.0  \n",
       "4            Shot  Knife           False  False          25.0  "
      ]
     },
     "execution_count": null,
     "metadata": {},
     "output_type": "execute_result"
    }
   ],
   "source": [
    "#View\n",
    "\n",
    "df.head()"
   ]
  },
  {
   "cell_type": "code",
   "execution_count": null,
   "metadata": {},
   "outputs": [
    {
     "data": {
      "text/plain": [
       "count    12136.000000\n",
       "mean        34.829515\n",
       "std         12.263318\n",
       "min          1.000000\n",
       "25%         25.000000\n",
       "50%         33.000000\n",
       "75%         43.000000\n",
       "max         72.000000\n",
       "Name: Age, dtype: float64"
      ]
     },
     "execution_count": null,
     "metadata": {},
     "output_type": "execute_result"
    }
   ],
   "source": [
    "#Filtered Age Descriptive Statistics\n",
    "\n",
    "filtered_age.describe() \n",
    " "
   ]
  },
  {
   "cell_type": "code",
   "execution_count": null,
   "metadata": {},
   "outputs": [
    {
     "data": {
      "text/html": [
       "<div>\n",
       "<style scoped>\n",
       "    .dataframe tbody tr th:only-of-type {\n",
       "        vertical-align: middle;\n",
       "    }\n",
       "\n",
       "    .dataframe tbody tr th {\n",
       "        vertical-align: top;\n",
       "    }\n",
       "\n",
       "    .dataframe thead th {\n",
       "        text-align: right;\n",
       "    }\n",
       "</style>\n",
       "<table border=\"1\" class=\"dataframe\">\n",
       "  <thead>\n",
       "    <tr style=\"text-align: right;\">\n",
       "      <th></th>\n",
       "      <th>UID</th>\n",
       "      <th>Name</th>\n",
       "      <th>Gender</th>\n",
       "      <th>Race</th>\n",
       "      <th>Date</th>\n",
       "      <th>City</th>\n",
       "      <th>State</th>\n",
       "      <th>Manner_of_death</th>\n",
       "      <th>Armed</th>\n",
       "      <th>Mental_illness</th>\n",
       "      <th>Flee</th>\n",
       "      <th>filtered_age</th>\n",
       "    </tr>\n",
       "  </thead>\n",
       "  <tbody>\n",
       "    <tr>\n",
       "      <th>0</th>\n",
       "      <td>133</td>\n",
       "      <td>Karen O. Chin</td>\n",
       "      <td>Female</td>\n",
       "      <td>Asian</td>\n",
       "      <td>5/4/2000</td>\n",
       "      <td>Alameda</td>\n",
       "      <td>CA</td>\n",
       "      <td>Shot</td>\n",
       "      <td>NaN</td>\n",
       "      <td>False</td>\n",
       "      <td>False</td>\n",
       "      <td>44.0</td>\n",
       "    </tr>\n",
       "    <tr>\n",
       "      <th>1</th>\n",
       "      <td>169</td>\n",
       "      <td>Chyraphone Komvongsa</td>\n",
       "      <td>Male</td>\n",
       "      <td>Asian</td>\n",
       "      <td>6/2/2000</td>\n",
       "      <td>Fresno</td>\n",
       "      <td>CA</td>\n",
       "      <td>Shot</td>\n",
       "      <td>NaN</td>\n",
       "      <td>False</td>\n",
       "      <td>False</td>\n",
       "      <td>26.0</td>\n",
       "    </tr>\n",
       "    <tr>\n",
       "      <th>2</th>\n",
       "      <td>257</td>\n",
       "      <td>Ming Chinh Ly</td>\n",
       "      <td>Male</td>\n",
       "      <td>Asian</td>\n",
       "      <td>8/13/2000</td>\n",
       "      <td>Rosemead</td>\n",
       "      <td>CA</td>\n",
       "      <td>Shot</td>\n",
       "      <td>Gun</td>\n",
       "      <td>False</td>\n",
       "      <td>False</td>\n",
       "      <td>36.0</td>\n",
       "    </tr>\n",
       "    <tr>\n",
       "      <th>3</th>\n",
       "      <td>483</td>\n",
       "      <td>Kinh Quoc Dao</td>\n",
       "      <td>Male</td>\n",
       "      <td>Asian</td>\n",
       "      <td>2/9/2001</td>\n",
       "      <td>Valley Glen</td>\n",
       "      <td>CA</td>\n",
       "      <td>Shot</td>\n",
       "      <td>Gun</td>\n",
       "      <td>False</td>\n",
       "      <td>False</td>\n",
       "      <td>29.0</td>\n",
       "    </tr>\n",
       "    <tr>\n",
       "      <th>4</th>\n",
       "      <td>655</td>\n",
       "      <td>Vanpaseuth Phaisouphanh</td>\n",
       "      <td>Male</td>\n",
       "      <td>Asian</td>\n",
       "      <td>6/10/2001</td>\n",
       "      <td>Riverside</td>\n",
       "      <td>CA</td>\n",
       "      <td>Shot</td>\n",
       "      <td>Knife</td>\n",
       "      <td>False</td>\n",
       "      <td>False</td>\n",
       "      <td>25.0</td>\n",
       "    </tr>\n",
       "  </tbody>\n",
       "</table>\n",
       "</div>"
      ],
      "text/plain": [
       "   UID                     Name  Gender   Race       Date         City State  \\\n",
       "0  133            Karen O. Chin  Female  Asian   5/4/2000      Alameda    CA   \n",
       "1  169     Chyraphone Komvongsa    Male  Asian   6/2/2000       Fresno    CA   \n",
       "2  257            Ming Chinh Ly    Male  Asian  8/13/2000     Rosemead    CA   \n",
       "3  483            Kinh Quoc Dao    Male  Asian   2/9/2001  Valley Glen    CA   \n",
       "4  655  Vanpaseuth Phaisouphanh    Male  Asian  6/10/2001    Riverside    CA   \n",
       "\n",
       "  Manner_of_death  Armed  Mental_illness   Flee  filtered_age  \n",
       "0            Shot    NaN           False  False          44.0  \n",
       "1            Shot    NaN           False  False          26.0  \n",
       "2            Shot    Gun           False  False          36.0  \n",
       "3            Shot    Gun           False  False          29.0  \n",
       "4            Shot  Knife           False  False          25.0  "
      ]
     },
     "execution_count": null,
     "metadata": {},
     "output_type": "execute_result"
    }
   ],
   "source": [
    "# Check Dataset Changes \n",
    "\n",
    "df.head() #should see a column named \"filtered_age\" and no \"Age\" category\n"
   ]
  },
  {
   "cell_type": "code",
   "execution_count": null,
   "metadata": {},
   "outputs": [
    {
     "name": "stdout",
     "output_type": "stream",
     "text": [
      "<class 'pandas.core.series.Series'>\n"
     ]
    }
   ],
   "source": [
    "print(type(df['filtered_age']))"
   ]
  },
  {
   "cell_type": "code",
   "execution_count": null,
   "metadata": {},
   "outputs": [
    {
     "data": {
      "text/html": [
       "<div>\n",
       "<style scoped>\n",
       "    .dataframe tbody tr th:only-of-type {\n",
       "        vertical-align: middle;\n",
       "    }\n",
       "\n",
       "    .dataframe tbody tr th {\n",
       "        vertical-align: top;\n",
       "    }\n",
       "\n",
       "    .dataframe thead th {\n",
       "        text-align: right;\n",
       "    }\n",
       "</style>\n",
       "<table border=\"1\" class=\"dataframe\">\n",
       "  <thead>\n",
       "    <tr style=\"text-align: right;\">\n",
       "      <th></th>\n",
       "      <th>UID</th>\n",
       "      <th>Name</th>\n",
       "      <th>Gender</th>\n",
       "      <th>Race</th>\n",
       "      <th>Date</th>\n",
       "      <th>City</th>\n",
       "      <th>State</th>\n",
       "      <th>Manner_of_death</th>\n",
       "      <th>Armed</th>\n",
       "      <th>Mental_illness</th>\n",
       "      <th>Flee</th>\n",
       "      <th>filtered_age</th>\n",
       "    </tr>\n",
       "  </thead>\n",
       "  <tbody>\n",
       "    <tr>\n",
       "      <th>0</th>\n",
       "      <td>133</td>\n",
       "      <td>Karen O. Chin</td>\n",
       "      <td>Female</td>\n",
       "      <td>Asian</td>\n",
       "      <td>5/4/2000</td>\n",
       "      <td>Alameda</td>\n",
       "      <td>CA</td>\n",
       "      <td>Shot</td>\n",
       "      <td>NaN</td>\n",
       "      <td>False</td>\n",
       "      <td>False</td>\n",
       "      <td>44.0</td>\n",
       "    </tr>\n",
       "    <tr>\n",
       "      <th>1</th>\n",
       "      <td>169</td>\n",
       "      <td>Chyraphone Komvongsa</td>\n",
       "      <td>Male</td>\n",
       "      <td>Asian</td>\n",
       "      <td>6/2/2000</td>\n",
       "      <td>Fresno</td>\n",
       "      <td>CA</td>\n",
       "      <td>Shot</td>\n",
       "      <td>NaN</td>\n",
       "      <td>False</td>\n",
       "      <td>False</td>\n",
       "      <td>26.0</td>\n",
       "    </tr>\n",
       "    <tr>\n",
       "      <th>2</th>\n",
       "      <td>257</td>\n",
       "      <td>Ming Chinh Ly</td>\n",
       "      <td>Male</td>\n",
       "      <td>Asian</td>\n",
       "      <td>8/13/2000</td>\n",
       "      <td>Rosemead</td>\n",
       "      <td>CA</td>\n",
       "      <td>Shot</td>\n",
       "      <td>Gun</td>\n",
       "      <td>False</td>\n",
       "      <td>False</td>\n",
       "      <td>36.0</td>\n",
       "    </tr>\n",
       "    <tr>\n",
       "      <th>3</th>\n",
       "      <td>483</td>\n",
       "      <td>Kinh Quoc Dao</td>\n",
       "      <td>Male</td>\n",
       "      <td>Asian</td>\n",
       "      <td>2/9/2001</td>\n",
       "      <td>Valley Glen</td>\n",
       "      <td>CA</td>\n",
       "      <td>Shot</td>\n",
       "      <td>Gun</td>\n",
       "      <td>False</td>\n",
       "      <td>False</td>\n",
       "      <td>29.0</td>\n",
       "    </tr>\n",
       "    <tr>\n",
       "      <th>4</th>\n",
       "      <td>655</td>\n",
       "      <td>Vanpaseuth Phaisouphanh</td>\n",
       "      <td>Male</td>\n",
       "      <td>Asian</td>\n",
       "      <td>6/10/2001</td>\n",
       "      <td>Riverside</td>\n",
       "      <td>CA</td>\n",
       "      <td>Shot</td>\n",
       "      <td>Knife</td>\n",
       "      <td>False</td>\n",
       "      <td>False</td>\n",
       "      <td>25.0</td>\n",
       "    </tr>\n",
       "    <tr>\n",
       "      <th>...</th>\n",
       "      <td>...</td>\n",
       "      <td>...</td>\n",
       "      <td>...</td>\n",
       "      <td>...</td>\n",
       "      <td>...</td>\n",
       "      <td>...</td>\n",
       "      <td>...</td>\n",
       "      <td>...</td>\n",
       "      <td>...</td>\n",
       "      <td>...</td>\n",
       "      <td>...</td>\n",
       "      <td>...</td>\n",
       "    </tr>\n",
       "    <tr>\n",
       "      <th>12484</th>\n",
       "      <td>13094</td>\n",
       "      <td>Christopher Davis</td>\n",
       "      <td>Male</td>\n",
       "      <td>NaN</td>\n",
       "      <td>3/14/2011</td>\n",
       "      <td>Los Angeles</td>\n",
       "      <td>CA</td>\n",
       "      <td>Tasered</td>\n",
       "      <td>NaN</td>\n",
       "      <td>False</td>\n",
       "      <td>False</td>\n",
       "      <td>36.0</td>\n",
       "    </tr>\n",
       "    <tr>\n",
       "      <th>12487</th>\n",
       "      <td>12429</td>\n",
       "      <td>Gene Lovell Ford</td>\n",
       "      <td>Male</td>\n",
       "      <td>NaN</td>\n",
       "      <td>8/6/2008</td>\n",
       "      <td>Sacramento</td>\n",
       "      <td>CA</td>\n",
       "      <td>Other</td>\n",
       "      <td>NaN</td>\n",
       "      <td>True</td>\n",
       "      <td>False</td>\n",
       "      <td>48.0</td>\n",
       "    </tr>\n",
       "    <tr>\n",
       "      <th>12488</th>\n",
       "      <td>12430</td>\n",
       "      <td>Jose Vega</td>\n",
       "      <td>Male</td>\n",
       "      <td>NaN</td>\n",
       "      <td>8/6/2008</td>\n",
       "      <td>Visalia</td>\n",
       "      <td>CA</td>\n",
       "      <td>Other</td>\n",
       "      <td>NaN</td>\n",
       "      <td>True</td>\n",
       "      <td>False</td>\n",
       "      <td>38.0</td>\n",
       "    </tr>\n",
       "    <tr>\n",
       "      <th>12489</th>\n",
       "      <td>12636</td>\n",
       "      <td>Humberto Torres</td>\n",
       "      <td>Male</td>\n",
       "      <td>NaN</td>\n",
       "      <td>3/21/2009</td>\n",
       "      <td>Delano</td>\n",
       "      <td>CA</td>\n",
       "      <td>Other</td>\n",
       "      <td>Gun</td>\n",
       "      <td>False</td>\n",
       "      <td>False</td>\n",
       "      <td>41.0</td>\n",
       "    </tr>\n",
       "    <tr>\n",
       "      <th>12490</th>\n",
       "      <td>12861</td>\n",
       "      <td>Name withheld by police</td>\n",
       "      <td>Male</td>\n",
       "      <td>NaN</td>\n",
       "      <td>1/15/2010</td>\n",
       "      <td>Los Angeles</td>\n",
       "      <td>CA</td>\n",
       "      <td>Other</td>\n",
       "      <td>NaN</td>\n",
       "      <td>False</td>\n",
       "      <td>False</td>\n",
       "      <td>39.0</td>\n",
       "    </tr>\n",
       "  </tbody>\n",
       "</table>\n",
       "<p>12136 rows × 12 columns</p>\n",
       "</div>"
      ],
      "text/plain": [
       "         UID                     Name  Gender   Race       Date         City  \\\n",
       "0        133            Karen O. Chin  Female  Asian   5/4/2000      Alameda   \n",
       "1        169     Chyraphone Komvongsa    Male  Asian   6/2/2000       Fresno   \n",
       "2        257            Ming Chinh Ly    Male  Asian  8/13/2000     Rosemead   \n",
       "3        483            Kinh Quoc Dao    Male  Asian   2/9/2001  Valley Glen   \n",
       "4        655  Vanpaseuth Phaisouphanh    Male  Asian  6/10/2001    Riverside   \n",
       "...      ...                      ...     ...    ...        ...          ...   \n",
       "12484  13094        Christopher Davis    Male    NaN  3/14/2011  Los Angeles   \n",
       "12487  12429         Gene Lovell Ford    Male    NaN   8/6/2008   Sacramento   \n",
       "12488  12430                Jose Vega    Male    NaN   8/6/2008      Visalia   \n",
       "12489  12636          Humberto Torres    Male    NaN  3/21/2009       Delano   \n",
       "12490  12861  Name withheld by police    Male    NaN  1/15/2010  Los Angeles   \n",
       "\n",
       "      State Manner_of_death  Armed  Mental_illness   Flee  filtered_age  \n",
       "0        CA            Shot    NaN           False  False          44.0  \n",
       "1        CA            Shot    NaN           False  False          26.0  \n",
       "2        CA            Shot    Gun           False  False          36.0  \n",
       "3        CA            Shot    Gun           False  False          29.0  \n",
       "4        CA            Shot  Knife           False  False          25.0  \n",
       "...     ...             ...    ...             ...    ...           ...  \n",
       "12484    CA         Tasered    NaN           False  False          36.0  \n",
       "12487    CA           Other    NaN            True  False          48.0  \n",
       "12488    CA           Other    NaN            True  False          38.0  \n",
       "12489    CA           Other    Gun           False  False          41.0  \n",
       "12490    CA           Other    NaN           False  False          39.0  \n",
       "\n",
       "[12136 rows x 12 columns]"
      ]
     },
     "execution_count": null,
     "metadata": {},
     "output_type": "execute_result"
    }
   ],
   "source": [
    "#drop NaN's of filtered_age\n",
    "\n",
    "df = df.dropna(subset = ['filtered_age'])\n",
    "df"
   ]
  },
  {
   "cell_type": "code",
   "execution_count": null,
   "metadata": {},
   "outputs": [
    {
     "name": "stdout",
     "output_type": "stream",
     "text": [
      "45.0\n",
      "19.0\n"
     ]
    },
    {
     "data": {
      "text/plain": [
       "(None, None)"
      ]
     },
     "execution_count": null,
     "metadata": {},
     "output_type": "execute_result"
    }
   ],
   "source": [
    "#check NaN vaues are removed by using iloc on their past location\n",
    "\n",
    "#eg:\n",
    "print(df.iloc[170, 11]), print(df.iloc[241, 11]) \n"
   ]
  },
  {
   "cell_type": "code",
   "execution_count": null,
   "metadata": {},
   "outputs": [],
   "source": [
    "#Add an Age Group column \n",
    "\n",
    "df['Age_Group'] = pd.cut(df['filtered_age'], bins=[0, 18, 25, 35, 45, 55, 65, float('Inf')],\n",
    "                         labels=['0-18', '18-25', '25-35', '35-45', '45-55', '55-65', '65+'])\n",
    "\n",
    "#save modified version\n"
   ]
  },
  {
   "cell_type": "code",
   "execution_count": null,
   "metadata": {},
   "outputs": [],
   "source": [
    "#add year category\n",
    "\n",
    "df = df\n",
    "df['year'] = pd.DatetimeIndex(df['Date']).year"
   ]
  },
  {
   "cell_type": "code",
   "execution_count": null,
   "metadata": {},
   "outputs": [],
   "source": [
    "#add month category\n",
    "\n",
    "df['month'] = pd.DatetimeIndex(df['Date']).month"
   ]
  },
  {
   "cell_type": "code",
   "execution_count": null,
   "metadata": {},
   "outputs": [
    {
     "name": "stdout",
     "output_type": "stream",
     "text": [
      "No duplicated entries found\n"
     ]
    }
   ],
   "source": [
    "# Checking for duplicated entries\n",
    "\n",
    "if len(df[df.duplicated()]) > 0:\n",
    "    print(\"No. of duplicated entries: \", len(df[df.duplicated()]))\n",
    "    print(df[df.duplicated(keep=False)].sort_values(by=list(df.columns)).head())\n",
    "\n",
    "else:\n",
    "    print(\"No duplicated entries found\")"
   ]
  },
  {
   "cell_type": "code",
   "execution_count": null,
   "metadata": {},
   "outputs": [],
   "source": [
    "#drop NaN's City \n",
    "\n",
    "df = df.dropna(subset = ['City'])"
   ]
  },
  {
   "cell_type": "code",
   "execution_count": null,
   "metadata": {},
   "outputs": [],
   "source": [
    "#drop NaN's Race\n",
    "\n",
    "df = df.dropna(subset = ['Race'])"
   ]
  },
  {
   "cell_type": "code",
   "execution_count": null,
   "metadata": {},
   "outputs": [],
   "source": [
    "#drop NaN's Gender\n",
    "\n",
    "df = df.dropna(subset = ['Gender'])\n"
   ]
  },
  {
   "cell_type": "code",
   "execution_count": null,
   "metadata": {},
   "outputs": [
    {
     "data": {
      "text/html": [
       "<div>\n",
       "<style scoped>\n",
       "    .dataframe tbody tr th:only-of-type {\n",
       "        vertical-align: middle;\n",
       "    }\n",
       "\n",
       "    .dataframe tbody tr th {\n",
       "        vertical-align: top;\n",
       "    }\n",
       "\n",
       "    .dataframe thead th {\n",
       "        text-align: right;\n",
       "    }\n",
       "</style>\n",
       "<table border=\"1\" class=\"dataframe\">\n",
       "  <thead>\n",
       "    <tr style=\"text-align: right;\">\n",
       "      <th></th>\n",
       "      <th>UID</th>\n",
       "      <th>Name</th>\n",
       "      <th>Gender</th>\n",
       "      <th>Race</th>\n",
       "      <th>Date</th>\n",
       "      <th>City</th>\n",
       "      <th>State</th>\n",
       "      <th>Manner_of_death</th>\n",
       "      <th>Armed</th>\n",
       "      <th>Mental_illness</th>\n",
       "      <th>Flee</th>\n",
       "      <th>filtered_age</th>\n",
       "      <th>Age_Group</th>\n",
       "      <th>year</th>\n",
       "      <th>month</th>\n",
       "    </tr>\n",
       "  </thead>\n",
       "  <tbody>\n",
       "    <tr>\n",
       "      <th>0</th>\n",
       "      <td>133</td>\n",
       "      <td>Karen O. Chin</td>\n",
       "      <td>Female</td>\n",
       "      <td>Asian</td>\n",
       "      <td>5/4/2000</td>\n",
       "      <td>Alameda</td>\n",
       "      <td>CA</td>\n",
       "      <td>Shot</td>\n",
       "      <td>NaN</td>\n",
       "      <td>False</td>\n",
       "      <td>False</td>\n",
       "      <td>44.0</td>\n",
       "      <td>35-45</td>\n",
       "      <td>2000</td>\n",
       "      <td>5</td>\n",
       "    </tr>\n",
       "    <tr>\n",
       "      <th>1</th>\n",
       "      <td>169</td>\n",
       "      <td>Chyraphone Komvongsa</td>\n",
       "      <td>Male</td>\n",
       "      <td>Asian</td>\n",
       "      <td>6/2/2000</td>\n",
       "      <td>Fresno</td>\n",
       "      <td>CA</td>\n",
       "      <td>Shot</td>\n",
       "      <td>NaN</td>\n",
       "      <td>False</td>\n",
       "      <td>False</td>\n",
       "      <td>26.0</td>\n",
       "      <td>25-35</td>\n",
       "      <td>2000</td>\n",
       "      <td>6</td>\n",
       "    </tr>\n",
       "    <tr>\n",
       "      <th>2</th>\n",
       "      <td>257</td>\n",
       "      <td>Ming Chinh Ly</td>\n",
       "      <td>Male</td>\n",
       "      <td>Asian</td>\n",
       "      <td>8/13/2000</td>\n",
       "      <td>Rosemead</td>\n",
       "      <td>CA</td>\n",
       "      <td>Shot</td>\n",
       "      <td>Gun</td>\n",
       "      <td>False</td>\n",
       "      <td>False</td>\n",
       "      <td>36.0</td>\n",
       "      <td>35-45</td>\n",
       "      <td>2000</td>\n",
       "      <td>8</td>\n",
       "    </tr>\n",
       "    <tr>\n",
       "      <th>3</th>\n",
       "      <td>483</td>\n",
       "      <td>Kinh Quoc Dao</td>\n",
       "      <td>Male</td>\n",
       "      <td>Asian</td>\n",
       "      <td>2/9/2001</td>\n",
       "      <td>Valley Glen</td>\n",
       "      <td>CA</td>\n",
       "      <td>Shot</td>\n",
       "      <td>Gun</td>\n",
       "      <td>False</td>\n",
       "      <td>False</td>\n",
       "      <td>29.0</td>\n",
       "      <td>25-35</td>\n",
       "      <td>2001</td>\n",
       "      <td>2</td>\n",
       "    </tr>\n",
       "    <tr>\n",
       "      <th>4</th>\n",
       "      <td>655</td>\n",
       "      <td>Vanpaseuth Phaisouphanh</td>\n",
       "      <td>Male</td>\n",
       "      <td>Asian</td>\n",
       "      <td>6/10/2001</td>\n",
       "      <td>Riverside</td>\n",
       "      <td>CA</td>\n",
       "      <td>Shot</td>\n",
       "      <td>Knife</td>\n",
       "      <td>False</td>\n",
       "      <td>False</td>\n",
       "      <td>25.0</td>\n",
       "      <td>18-25</td>\n",
       "      <td>2001</td>\n",
       "      <td>6</td>\n",
       "    </tr>\n",
       "  </tbody>\n",
       "</table>\n",
       "</div>"
      ],
      "text/plain": [
       "   UID                     Name  Gender   Race       Date         City State  \\\n",
       "0  133            Karen O. Chin  Female  Asian   5/4/2000      Alameda    CA   \n",
       "1  169     Chyraphone Komvongsa    Male  Asian   6/2/2000       Fresno    CA   \n",
       "2  257            Ming Chinh Ly    Male  Asian  8/13/2000     Rosemead    CA   \n",
       "3  483            Kinh Quoc Dao    Male  Asian   2/9/2001  Valley Glen    CA   \n",
       "4  655  Vanpaseuth Phaisouphanh    Male  Asian  6/10/2001    Riverside    CA   \n",
       "\n",
       "  Manner_of_death  Armed  Mental_illness   Flee  filtered_age Age_Group  year  \\\n",
       "0            Shot    NaN           False  False          44.0     35-45  2000   \n",
       "1            Shot    NaN           False  False          26.0     25-35  2000   \n",
       "2            Shot    Gun           False  False          36.0     35-45  2000   \n",
       "3            Shot    Gun           False  False          29.0     25-35  2001   \n",
       "4            Shot  Knife           False  False          25.0     18-25  2001   \n",
       "\n",
       "   month  \n",
       "0      5  \n",
       "1      6  \n",
       "2      8  \n",
       "3      2  \n",
       "4      6  "
      ]
     },
     "execution_count": null,
     "metadata": {},
     "output_type": "execute_result"
    }
   ],
   "source": [
    "df.head()\n"
   ]
  },
  {
   "cell_type": "code",
   "execution_count": null,
   "metadata": {},
   "outputs": [],
   "source": [
    "#Save modifications\n",
    "\n",
    "#df.to_csv('../data/processed/Mod_data.csv', index=False) "
   ]
  },
  {
   "cell_type": "code",
   "execution_count": null,
   "metadata": {},
   "outputs": [
    {
     "data": {
      "text/html": [
       "<div>\n",
       "<style scoped>\n",
       "    .dataframe tbody tr th:only-of-type {\n",
       "        vertical-align: middle;\n",
       "    }\n",
       "\n",
       "    .dataframe tbody tr th {\n",
       "        vertical-align: top;\n",
       "    }\n",
       "\n",
       "    .dataframe thead th {\n",
       "        text-align: right;\n",
       "    }\n",
       "</style>\n",
       "<table border=\"1\" class=\"dataframe\">\n",
       "  <thead>\n",
       "    <tr style=\"text-align: right;\">\n",
       "      <th></th>\n",
       "      <th>UID</th>\n",
       "      <th>Name</th>\n",
       "      <th>Age</th>\n",
       "      <th>Gender</th>\n",
       "      <th>Race</th>\n",
       "      <th>Date</th>\n",
       "      <th>City</th>\n",
       "      <th>State</th>\n",
       "      <th>Manner_of_death</th>\n",
       "      <th>Armed</th>\n",
       "      <th>Mental_illness</th>\n",
       "      <th>Flee</th>\n",
       "      <th>filtered_age</th>\n",
       "      <th>Age_Group</th>\n",
       "      <th>year</th>\n",
       "      <th>month</th>\n",
       "    </tr>\n",
       "  </thead>\n",
       "  <tbody>\n",
       "    <tr>\n",
       "      <th>0</th>\n",
       "      <td>133</td>\n",
       "      <td>Karen O. Chin</td>\n",
       "      <td>44.0</td>\n",
       "      <td>Female</td>\n",
       "      <td>Asian</td>\n",
       "      <td>5/4/2000</td>\n",
       "      <td>Alameda</td>\n",
       "      <td>CA</td>\n",
       "      <td>Shot</td>\n",
       "      <td>NaN</td>\n",
       "      <td>False</td>\n",
       "      <td>False</td>\n",
       "      <td>44.0</td>\n",
       "      <td>35-45</td>\n",
       "      <td>2000</td>\n",
       "      <td>5</td>\n",
       "    </tr>\n",
       "    <tr>\n",
       "      <th>1</th>\n",
       "      <td>169</td>\n",
       "      <td>Chyraphone Komvongsa</td>\n",
       "      <td>26.0</td>\n",
       "      <td>Male</td>\n",
       "      <td>Asian</td>\n",
       "      <td>6/2/2000</td>\n",
       "      <td>Fresno</td>\n",
       "      <td>CA</td>\n",
       "      <td>Shot</td>\n",
       "      <td>NaN</td>\n",
       "      <td>False</td>\n",
       "      <td>False</td>\n",
       "      <td>26.0</td>\n",
       "      <td>25-35</td>\n",
       "      <td>2000</td>\n",
       "      <td>6</td>\n",
       "    </tr>\n",
       "    <tr>\n",
       "      <th>2</th>\n",
       "      <td>257</td>\n",
       "      <td>Ming Chinh Ly</td>\n",
       "      <td>36.0</td>\n",
       "      <td>Male</td>\n",
       "      <td>Asian</td>\n",
       "      <td>8/13/2000</td>\n",
       "      <td>Rosemead</td>\n",
       "      <td>CA</td>\n",
       "      <td>Shot</td>\n",
       "      <td>Gun</td>\n",
       "      <td>False</td>\n",
       "      <td>False</td>\n",
       "      <td>36.0</td>\n",
       "      <td>35-45</td>\n",
       "      <td>2000</td>\n",
       "      <td>8</td>\n",
       "    </tr>\n",
       "    <tr>\n",
       "      <th>3</th>\n",
       "      <td>483</td>\n",
       "      <td>Kinh Quoc Dao</td>\n",
       "      <td>29.0</td>\n",
       "      <td>Male</td>\n",
       "      <td>Asian</td>\n",
       "      <td>2/9/2001</td>\n",
       "      <td>Valley Glen</td>\n",
       "      <td>CA</td>\n",
       "      <td>Shot</td>\n",
       "      <td>Gun</td>\n",
       "      <td>False</td>\n",
       "      <td>False</td>\n",
       "      <td>29.0</td>\n",
       "      <td>25-35</td>\n",
       "      <td>2001</td>\n",
       "      <td>2</td>\n",
       "    </tr>\n",
       "    <tr>\n",
       "      <th>4</th>\n",
       "      <td>655</td>\n",
       "      <td>Vanpaseuth Phaisouphanh</td>\n",
       "      <td>25.0</td>\n",
       "      <td>Male</td>\n",
       "      <td>Asian</td>\n",
       "      <td>6/10/2001</td>\n",
       "      <td>Riverside</td>\n",
       "      <td>CA</td>\n",
       "      <td>Shot</td>\n",
       "      <td>Knife</td>\n",
       "      <td>False</td>\n",
       "      <td>False</td>\n",
       "      <td>25.0</td>\n",
       "      <td>18-25</td>\n",
       "      <td>2001</td>\n",
       "      <td>6</td>\n",
       "    </tr>\n",
       "  </tbody>\n",
       "</table>\n",
       "</div>"
      ],
      "text/plain": [
       "   UID                     Name   Age  Gender   Race       Date         City  \\\n",
       "0  133            Karen O. Chin  44.0  Female  Asian   5/4/2000      Alameda   \n",
       "1  169     Chyraphone Komvongsa  26.0    Male  Asian   6/2/2000       Fresno   \n",
       "2  257            Ming Chinh Ly  36.0    Male  Asian  8/13/2000     Rosemead   \n",
       "3  483            Kinh Quoc Dao  29.0    Male  Asian   2/9/2001  Valley Glen   \n",
       "4  655  Vanpaseuth Phaisouphanh  25.0    Male  Asian  6/10/2001    Riverside   \n",
       "\n",
       "  State Manner_of_death  Armed  Mental_illness   Flee  filtered_age Age_Group  \\\n",
       "0    CA            Shot    NaN           False  False          44.0     35-45   \n",
       "1    CA            Shot    NaN           False  False          26.0     25-35   \n",
       "2    CA            Shot    Gun           False  False          36.0     35-45   \n",
       "3    CA            Shot    Gun           False  False          29.0     25-35   \n",
       "4    CA            Shot  Knife           False  False          25.0     18-25   \n",
       "\n",
       "   year  month  \n",
       "0  2000      5  \n",
       "1  2000      6  \n",
       "2  2000      8  \n",
       "3  2001      2  \n",
       "4  2001      6  "
      ]
     },
     "execution_count": null,
     "metadata": {},
     "output_type": "execute_result"
    }
   ],
   "source": [
    "#Load in data with modified Age\n",
    "\n",
    "df =  pd.read_csv('../data/processed/Mod_data.csv',encoding=\"ISO-8859-1\")\n",
    "df.head()"
   ]
  },
  {
   "cell_type": "code",
   "execution_count": null,
   "metadata": {},
   "outputs": [
    {
     "data": {
      "text/plain": [
       "(8389, 16)"
      ]
     },
     "execution_count": null,
     "metadata": {},
     "output_type": "execute_result"
    }
   ],
   "source": [
    "#the row sum is less now because we removed some data points \n",
    "\n",
    "df.shape "
   ]
  },
  {
   "cell_type": "code",
   "execution_count": null,
   "metadata": {},
   "outputs": [
    {
     "data": {
      "text/html": [
       "<div>\n",
       "<style scoped>\n",
       "    .dataframe tbody tr th:only-of-type {\n",
       "        vertical-align: middle;\n",
       "    }\n",
       "\n",
       "    .dataframe tbody tr th {\n",
       "        vertical-align: top;\n",
       "    }\n",
       "\n",
       "    .dataframe thead th {\n",
       "        text-align: right;\n",
       "    }\n",
       "</style>\n",
       "<table border=\"1\" class=\"dataframe\">\n",
       "  <thead>\n",
       "    <tr style=\"text-align: right;\">\n",
       "      <th></th>\n",
       "      <th>UID</th>\n",
       "      <th>Name</th>\n",
       "      <th>Age</th>\n",
       "      <th>Gender</th>\n",
       "      <th>Race</th>\n",
       "      <th>Date</th>\n",
       "      <th>City</th>\n",
       "      <th>State</th>\n",
       "      <th>Manner_of_death</th>\n",
       "      <th>Armed</th>\n",
       "      <th>Mental_illness</th>\n",
       "      <th>Flee</th>\n",
       "      <th>filtered_age</th>\n",
       "      <th>Age_Group</th>\n",
       "      <th>year</th>\n",
       "      <th>month</th>\n",
       "    </tr>\n",
       "  </thead>\n",
       "  <tbody>\n",
       "    <tr>\n",
       "      <th>0</th>\n",
       "      <td>133</td>\n",
       "      <td>Karen O. Chin</td>\n",
       "      <td>44.0</td>\n",
       "      <td>Female</td>\n",
       "      <td>Asian</td>\n",
       "      <td>5/4/2000</td>\n",
       "      <td>Alameda</td>\n",
       "      <td>CA</td>\n",
       "      <td>Shot</td>\n",
       "      <td>NaN</td>\n",
       "      <td>False</td>\n",
       "      <td>False</td>\n",
       "      <td>44.0</td>\n",
       "      <td>35-45</td>\n",
       "      <td>2000</td>\n",
       "      <td>5</td>\n",
       "    </tr>\n",
       "    <tr>\n",
       "      <th>1</th>\n",
       "      <td>169</td>\n",
       "      <td>Chyraphone Komvongsa</td>\n",
       "      <td>26.0</td>\n",
       "      <td>Male</td>\n",
       "      <td>Asian</td>\n",
       "      <td>6/2/2000</td>\n",
       "      <td>Fresno</td>\n",
       "      <td>CA</td>\n",
       "      <td>Shot</td>\n",
       "      <td>NaN</td>\n",
       "      <td>False</td>\n",
       "      <td>False</td>\n",
       "      <td>26.0</td>\n",
       "      <td>25-35</td>\n",
       "      <td>2000</td>\n",
       "      <td>6</td>\n",
       "    </tr>\n",
       "    <tr>\n",
       "      <th>2</th>\n",
       "      <td>257</td>\n",
       "      <td>Ming Chinh Ly</td>\n",
       "      <td>36.0</td>\n",
       "      <td>Male</td>\n",
       "      <td>Asian</td>\n",
       "      <td>8/13/2000</td>\n",
       "      <td>Rosemead</td>\n",
       "      <td>CA</td>\n",
       "      <td>Shot</td>\n",
       "      <td>Gun</td>\n",
       "      <td>False</td>\n",
       "      <td>False</td>\n",
       "      <td>36.0</td>\n",
       "      <td>35-45</td>\n",
       "      <td>2000</td>\n",
       "      <td>8</td>\n",
       "    </tr>\n",
       "    <tr>\n",
       "      <th>3</th>\n",
       "      <td>483</td>\n",
       "      <td>Kinh Quoc Dao</td>\n",
       "      <td>29.0</td>\n",
       "      <td>Male</td>\n",
       "      <td>Asian</td>\n",
       "      <td>2/9/2001</td>\n",
       "      <td>Valley Glen</td>\n",
       "      <td>CA</td>\n",
       "      <td>Shot</td>\n",
       "      <td>Gun</td>\n",
       "      <td>False</td>\n",
       "      <td>False</td>\n",
       "      <td>29.0</td>\n",
       "      <td>25-35</td>\n",
       "      <td>2001</td>\n",
       "      <td>2</td>\n",
       "    </tr>\n",
       "    <tr>\n",
       "      <th>4</th>\n",
       "      <td>655</td>\n",
       "      <td>Vanpaseuth Phaisouphanh</td>\n",
       "      <td>25.0</td>\n",
       "      <td>Male</td>\n",
       "      <td>Asian</td>\n",
       "      <td>6/10/2001</td>\n",
       "      <td>Riverside</td>\n",
       "      <td>CA</td>\n",
       "      <td>Shot</td>\n",
       "      <td>Knife</td>\n",
       "      <td>False</td>\n",
       "      <td>False</td>\n",
       "      <td>25.0</td>\n",
       "      <td>18-25</td>\n",
       "      <td>2001</td>\n",
       "      <td>6</td>\n",
       "    </tr>\n",
       "  </tbody>\n",
       "</table>\n",
       "</div>"
      ],
      "text/plain": [
       "   UID                     Name   Age  Gender   Race       Date         City  \\\n",
       "0  133            Karen O. Chin  44.0  Female  Asian   5/4/2000      Alameda   \n",
       "1  169     Chyraphone Komvongsa  26.0    Male  Asian   6/2/2000       Fresno   \n",
       "2  257            Ming Chinh Ly  36.0    Male  Asian  8/13/2000     Rosemead   \n",
       "3  483            Kinh Quoc Dao  29.0    Male  Asian   2/9/2001  Valley Glen   \n",
       "4  655  Vanpaseuth Phaisouphanh  25.0    Male  Asian  6/10/2001    Riverside   \n",
       "\n",
       "  State Manner_of_death  Armed  Mental_illness   Flee  filtered_age Age_Group  \\\n",
       "0    CA            Shot    NaN           False  False          44.0     35-45   \n",
       "1    CA            Shot    NaN           False  False          26.0     25-35   \n",
       "2    CA            Shot    Gun           False  False          36.0     35-45   \n",
       "3    CA            Shot    Gun           False  False          29.0     25-35   \n",
       "4    CA            Shot  Knife           False  False          25.0     18-25   \n",
       "\n",
       "   year  month  \n",
       "0  2000      5  \n",
       "1  2000      6  \n",
       "2  2000      8  \n",
       "3  2001      2  \n",
       "4  2001      6  "
      ]
     },
     "execution_count": null,
     "metadata": {},
     "output_type": "execute_result"
    }
   ],
   "source": [
    "df.head()"
   ]
  },
  {
   "cell_type": "markdown",
   "metadata": {},
   "source": [
    "***Flee***"
   ]
  },
  {
   "cell_type": "code",
   "execution_count": null,
   "metadata": {},
   "outputs": [
    {
     "data": {
      "text/plain": [
       "0"
      ]
     },
     "execution_count": null,
     "metadata": {},
     "output_type": "execute_result"
    }
   ],
   "source": [
    "#check for missing data \n",
    "\n",
    "df['Flee'].isna().sum()\n",
    "\n",
    "#we get 0 missing data. Makes sense for this category, they would likely note whether they fled or not."
   ]
  },
  {
   "cell_type": "code",
   "execution_count": null,
   "metadata": {},
   "outputs": [
    {
     "name": "stdout",
     "output_type": "stream",
     "text": [
      "517 7872\n"
     ]
    }
   ],
   "source": [
    "#Counts of those who fled (True), didnt flee (False)\n",
    "\n",
    "print(sum(df['Flee']==True), sum(df['Flee']==False)) "
   ]
  },
  {
   "cell_type": "code",
   "execution_count": null,
   "metadata": {},
   "outputs": [
    {
     "name": "stdout",
     "output_type": "stream",
     "text": [
      "8389\n"
     ]
    }
   ],
   "source": [
    "# the sum of the two categories matches the # of data points,  confirms no missing data\n",
    "\n",
    "print(sum(df['Flee']==True) + sum(df['Flee']==False)) "
   ]
  },
  {
   "cell_type": "code",
   "execution_count": null,
   "metadata": {},
   "outputs": [
    {
     "data": {
      "text/plain": [
       "False    0.938372\n",
       "True     0.061628\n",
       "Name: Flee, dtype: float64"
      ]
     },
     "execution_count": null,
     "metadata": {},
     "output_type": "execute_result"
    }
   ],
   "source": [
    "#Re-Do proportions with modified data\n",
    "\n",
    "df['Flee'].value_counts(normalize=True) \n",
    " \n",
    "    #percentages of no flee(False), flee(True) \n",
    "    #Only 4.56% of individals fled, the other 95.54% didn't \n",
    "    #not a significant difference"
   ]
  },
  {
   "cell_type": "markdown",
   "metadata": {},
   "source": [
    "***Mental_illness***"
   ]
  },
  {
   "cell_type": "code",
   "execution_count": null,
   "metadata": {},
   "outputs": [
    {
     "data": {
      "text/plain": [
       "0"
      ]
     },
     "execution_count": null,
     "metadata": {},
     "output_type": "execute_result"
    }
   ],
   "source": [
    "#Check for missing data\n",
    "\n",
    "df['Mental_illness'].isna().sum()\n",
    "\n",
    "# 0 missing data for mental illness column. \n",
    "#Probably because this is a boolean and anyone who wasn't initally labeled as having mental illness was given a 'False'"
   ]
  },
  {
   "cell_type": "code",
   "execution_count": null,
   "metadata": {},
   "outputs": [
    {
     "name": "stdout",
     "output_type": "stream",
     "text": [
      "1795 6594\n"
     ]
    }
   ],
   "source": [
    "#sum of the individuals who were labeled with/without mental illness\n",
    "\n",
    "print(sum(df['Mental_illness']==True), sum(df['Mental_illness']==False))"
   ]
  },
  {
   "cell_type": "code",
   "execution_count": null,
   "metadata": {},
   "outputs": [
    {
     "name": "stdout",
     "output_type": "stream",
     "text": [
      "8389\n"
     ]
    }
   ],
   "source": [
    "#sum of the two categories matches the # of data points,  confirms no missing data\n",
    "\n",
    "print(sum(df['Mental_illness']==True) + sum(df['Mental_illness']==False))"
   ]
  },
  {
   "cell_type": "code",
   "execution_count": null,
   "metadata": {},
   "outputs": [
    {
     "data": {
      "text/plain": [
       "False    0.786029\n",
       "True     0.213971\n",
       "Name: Mental_illness, dtype: float64"
      ]
     },
     "execution_count": null,
     "metadata": {},
     "output_type": "execute_result"
    }
   ],
   "source": [
    "#Re-Do proportions of those with/without mental_illness with modified data\n",
    "\n",
    "df['Mental_illness'].value_counts(normalize=True) \n",
    "\n",
    "#with mental_illness = 21.11%\n",
    "#without mental_illness =  78.89% \n",
    "#more change than seen with \"Flee\" but still very small"
   ]
  },
  {
   "cell_type": "markdown",
   "metadata": {},
   "source": [
    "**EDA Step 6: Research Questions**"
   ]
  },
  {
   "cell_type": "markdown",
   "metadata": {},
   "source": [
    "Research Q1: What are the prevalences of mental illness across age groups?\n",
    "\n",
    "Research Q2: Will older individuals flee less often from police than younger individuals?\n",
    "\n",
    "Research Q3: For what age groups is fleeing the police most common for those with/without mental illness?\n"
   ]
  },
  {
   "cell_type": "markdown",
   "metadata": {},
   "source": [
    "**EDA Step 7: Data Analyses and Visualization**"
   ]
  },
  {
   "cell_type": "code",
   "execution_count": null,
   "metadata": {},
   "outputs": [
    {
     "data": {
      "text/html": [
       "<div>\n",
       "<style scoped>\n",
       "    .dataframe tbody tr th:only-of-type {\n",
       "        vertical-align: middle;\n",
       "    }\n",
       "\n",
       "    .dataframe tbody tr th {\n",
       "        vertical-align: top;\n",
       "    }\n",
       "\n",
       "    .dataframe thead th {\n",
       "        text-align: right;\n",
       "    }\n",
       "</style>\n",
       "<table border=\"1\" class=\"dataframe\">\n",
       "  <thead>\n",
       "    <tr style=\"text-align: right;\">\n",
       "      <th></th>\n",
       "      <th>UID</th>\n",
       "      <th>Name</th>\n",
       "      <th>Age</th>\n",
       "      <th>Gender</th>\n",
       "      <th>Race</th>\n",
       "      <th>Date</th>\n",
       "      <th>City</th>\n",
       "      <th>State</th>\n",
       "      <th>Manner_of_death</th>\n",
       "      <th>Armed</th>\n",
       "      <th>Mental_illness</th>\n",
       "      <th>Flee</th>\n",
       "      <th>filtered_age</th>\n",
       "      <th>Age_Group</th>\n",
       "      <th>year</th>\n",
       "      <th>month</th>\n",
       "    </tr>\n",
       "  </thead>\n",
       "  <tbody>\n",
       "    <tr>\n",
       "      <th>0</th>\n",
       "      <td>133</td>\n",
       "      <td>Karen O. Chin</td>\n",
       "      <td>44.0</td>\n",
       "      <td>Female</td>\n",
       "      <td>Asian</td>\n",
       "      <td>5/4/2000</td>\n",
       "      <td>Alameda</td>\n",
       "      <td>CA</td>\n",
       "      <td>Shot</td>\n",
       "      <td>NaN</td>\n",
       "      <td>False</td>\n",
       "      <td>False</td>\n",
       "      <td>44.0</td>\n",
       "      <td>35-45</td>\n",
       "      <td>2000</td>\n",
       "      <td>5</td>\n",
       "    </tr>\n",
       "    <tr>\n",
       "      <th>1</th>\n",
       "      <td>169</td>\n",
       "      <td>Chyraphone Komvongsa</td>\n",
       "      <td>26.0</td>\n",
       "      <td>Male</td>\n",
       "      <td>Asian</td>\n",
       "      <td>6/2/2000</td>\n",
       "      <td>Fresno</td>\n",
       "      <td>CA</td>\n",
       "      <td>Shot</td>\n",
       "      <td>NaN</td>\n",
       "      <td>False</td>\n",
       "      <td>False</td>\n",
       "      <td>26.0</td>\n",
       "      <td>25-35</td>\n",
       "      <td>2000</td>\n",
       "      <td>6</td>\n",
       "    </tr>\n",
       "    <tr>\n",
       "      <th>2</th>\n",
       "      <td>257</td>\n",
       "      <td>Ming Chinh Ly</td>\n",
       "      <td>36.0</td>\n",
       "      <td>Male</td>\n",
       "      <td>Asian</td>\n",
       "      <td>8/13/2000</td>\n",
       "      <td>Rosemead</td>\n",
       "      <td>CA</td>\n",
       "      <td>Shot</td>\n",
       "      <td>Gun</td>\n",
       "      <td>False</td>\n",
       "      <td>False</td>\n",
       "      <td>36.0</td>\n",
       "      <td>35-45</td>\n",
       "      <td>2000</td>\n",
       "      <td>8</td>\n",
       "    </tr>\n",
       "    <tr>\n",
       "      <th>3</th>\n",
       "      <td>483</td>\n",
       "      <td>Kinh Quoc Dao</td>\n",
       "      <td>29.0</td>\n",
       "      <td>Male</td>\n",
       "      <td>Asian</td>\n",
       "      <td>2/9/2001</td>\n",
       "      <td>Valley Glen</td>\n",
       "      <td>CA</td>\n",
       "      <td>Shot</td>\n",
       "      <td>Gun</td>\n",
       "      <td>False</td>\n",
       "      <td>False</td>\n",
       "      <td>29.0</td>\n",
       "      <td>25-35</td>\n",
       "      <td>2001</td>\n",
       "      <td>2</td>\n",
       "    </tr>\n",
       "    <tr>\n",
       "      <th>4</th>\n",
       "      <td>655</td>\n",
       "      <td>Vanpaseuth Phaisouphanh</td>\n",
       "      <td>25.0</td>\n",
       "      <td>Male</td>\n",
       "      <td>Asian</td>\n",
       "      <td>6/10/2001</td>\n",
       "      <td>Riverside</td>\n",
       "      <td>CA</td>\n",
       "      <td>Shot</td>\n",
       "      <td>Knife</td>\n",
       "      <td>False</td>\n",
       "      <td>False</td>\n",
       "      <td>25.0</td>\n",
       "      <td>18-25</td>\n",
       "      <td>2001</td>\n",
       "      <td>6</td>\n",
       "    </tr>\n",
       "    <tr>\n",
       "      <th>...</th>\n",
       "      <td>...</td>\n",
       "      <td>...</td>\n",
       "      <td>...</td>\n",
       "      <td>...</td>\n",
       "      <td>...</td>\n",
       "      <td>...</td>\n",
       "      <td>...</td>\n",
       "      <td>...</td>\n",
       "      <td>...</td>\n",
       "      <td>...</td>\n",
       "      <td>...</td>\n",
       "      <td>...</td>\n",
       "      <td>...</td>\n",
       "      <td>...</td>\n",
       "      <td>...</td>\n",
       "      <td>...</td>\n",
       "    </tr>\n",
       "    <tr>\n",
       "      <th>8384</th>\n",
       "      <td>12871</td>\n",
       "      <td>Joseph Frank Kennedy</td>\n",
       "      <td>48.0</td>\n",
       "      <td>Male</td>\n",
       "      <td>White</td>\n",
       "      <td>9/18/2010</td>\n",
       "      <td>La Mirada</td>\n",
       "      <td>CA</td>\n",
       "      <td>Tasered</td>\n",
       "      <td>NaN</td>\n",
       "      <td>False</td>\n",
       "      <td>False</td>\n",
       "      <td>48.0</td>\n",
       "      <td>45-55</td>\n",
       "      <td>2010</td>\n",
       "      <td>9</td>\n",
       "    </tr>\n",
       "    <tr>\n",
       "      <th>8385</th>\n",
       "      <td>12978</td>\n",
       "      <td>Daniel Sylvester</td>\n",
       "      <td>35.0</td>\n",
       "      <td>Male</td>\n",
       "      <td>White</td>\n",
       "      <td>6/22/2010</td>\n",
       "      <td>Crescent City</td>\n",
       "      <td>CA</td>\n",
       "      <td>Tasered</td>\n",
       "      <td>NaN</td>\n",
       "      <td>True</td>\n",
       "      <td>False</td>\n",
       "      <td>35.0</td>\n",
       "      <td>25-35</td>\n",
       "      <td>2010</td>\n",
       "      <td>6</td>\n",
       "    </tr>\n",
       "    <tr>\n",
       "      <th>8386</th>\n",
       "      <td>12996</td>\n",
       "      <td>Mario Marin</td>\n",
       "      <td>53.0</td>\n",
       "      <td>Male</td>\n",
       "      <td>White</td>\n",
       "      <td>12/28/2011</td>\n",
       "      <td>Santa Ana</td>\n",
       "      <td>CA</td>\n",
       "      <td>Tasered</td>\n",
       "      <td>NaN</td>\n",
       "      <td>True</td>\n",
       "      <td>False</td>\n",
       "      <td>53.0</td>\n",
       "      <td>45-55</td>\n",
       "      <td>2011</td>\n",
       "      <td>12</td>\n",
       "    </tr>\n",
       "    <tr>\n",
       "      <th>8387</th>\n",
       "      <td>13083</td>\n",
       "      <td>James Robert Hudson</td>\n",
       "      <td>34.0</td>\n",
       "      <td>Male</td>\n",
       "      <td>White</td>\n",
       "      <td>4/9/2011</td>\n",
       "      <td>Whittier</td>\n",
       "      <td>CA</td>\n",
       "      <td>Tasered</td>\n",
       "      <td>NaN</td>\n",
       "      <td>True</td>\n",
       "      <td>False</td>\n",
       "      <td>34.0</td>\n",
       "      <td>25-35</td>\n",
       "      <td>2011</td>\n",
       "      <td>4</td>\n",
       "    </tr>\n",
       "    <tr>\n",
       "      <th>8388</th>\n",
       "      <td>12553</td>\n",
       "      <td>Christopher Jackson</td>\n",
       "      <td>34.0</td>\n",
       "      <td>Male</td>\n",
       "      <td>White</td>\n",
       "      <td>10/24/2009</td>\n",
       "      <td>Fresno</td>\n",
       "      <td>CA</td>\n",
       "      <td>Other</td>\n",
       "      <td>NaN</td>\n",
       "      <td>False</td>\n",
       "      <td>False</td>\n",
       "      <td>34.0</td>\n",
       "      <td>25-35</td>\n",
       "      <td>2009</td>\n",
       "      <td>10</td>\n",
       "    </tr>\n",
       "  </tbody>\n",
       "</table>\n",
       "<p>8389 rows × 16 columns</p>\n",
       "</div>"
      ],
      "text/plain": [
       "        UID                     Name   Age  Gender   Race        Date  \\\n",
       "0       133            Karen O. Chin  44.0  Female  Asian    5/4/2000   \n",
       "1       169     Chyraphone Komvongsa  26.0    Male  Asian    6/2/2000   \n",
       "2       257            Ming Chinh Ly  36.0    Male  Asian   8/13/2000   \n",
       "3       483            Kinh Quoc Dao  29.0    Male  Asian    2/9/2001   \n",
       "4       655  Vanpaseuth Phaisouphanh  25.0    Male  Asian   6/10/2001   \n",
       "...     ...                      ...   ...     ...    ...         ...   \n",
       "8384  12871     Joseph Frank Kennedy  48.0    Male  White   9/18/2010   \n",
       "8385  12978         Daniel Sylvester  35.0    Male  White   6/22/2010   \n",
       "8386  12996              Mario Marin  53.0    Male  White  12/28/2011   \n",
       "8387  13083      James Robert Hudson  34.0    Male  White    4/9/2011   \n",
       "8388  12553      Christopher Jackson  34.0    Male  White  10/24/2009   \n",
       "\n",
       "               City State Manner_of_death  Armed  Mental_illness   Flee  \\\n",
       "0           Alameda    CA            Shot    NaN           False  False   \n",
       "1            Fresno    CA            Shot    NaN           False  False   \n",
       "2          Rosemead    CA            Shot    Gun           False  False   \n",
       "3       Valley Glen    CA            Shot    Gun           False  False   \n",
       "4         Riverside    CA            Shot  Knife           False  False   \n",
       "...             ...   ...             ...    ...             ...    ...   \n",
       "8384      La Mirada    CA         Tasered    NaN           False  False   \n",
       "8385  Crescent City    CA         Tasered    NaN            True  False   \n",
       "8386      Santa Ana    CA         Tasered    NaN            True  False   \n",
       "8387       Whittier    CA         Tasered    NaN            True  False   \n",
       "8388         Fresno    CA           Other    NaN           False  False   \n",
       "\n",
       "      filtered_age Age_Group  year  month  \n",
       "0             44.0     35-45  2000      5  \n",
       "1             26.0     25-35  2000      6  \n",
       "2             36.0     35-45  2000      8  \n",
       "3             29.0     25-35  2001      2  \n",
       "4             25.0     18-25  2001      6  \n",
       "...            ...       ...   ...    ...  \n",
       "8384          48.0     45-55  2010      9  \n",
       "8385          35.0     25-35  2010      6  \n",
       "8386          53.0     45-55  2011     12  \n",
       "8387          34.0     25-35  2011      4  \n",
       "8388          34.0     25-35  2009     10  \n",
       "\n",
       "[8389 rows x 16 columns]"
      ]
     },
     "execution_count": null,
     "metadata": {},
     "output_type": "execute_result"
    }
   ],
   "source": [
    "#load data \n",
    "\n",
    "df =  pd.read_csv('../data/processed/Mod_data.csv',encoding=\"ISO-8859-1\")\n",
    "df"
   ]
  },
  {
   "cell_type": "code",
   "execution_count": null,
   "metadata": {},
   "outputs": [
    {
     "data": {
      "text/plain": [
       "[Text(0.5, 1.0, 'Prevalence of Mental Illness across Age Groups of Police Fatality Victims'),\n",
       " Text(0.5, 0, 'Age Group'),\n",
       " Text(0, 0.5, 'Count of Cases')]"
      ]
     },
     "execution_count": null,
     "metadata": {},
     "output_type": "execute_result"
    },
    {
     "data": {
      "image/png": "[encoded data removed]",
      "text/plain": [
       "<Figure size 640x480 with 1 Axes>"
      ]
     },
     "metadata": {},
     "output_type": "display_data"
    }
   ],
   "source": [
    "#figure 1\n",
    "\n",
    "sns.countplot(data = df, x = 'Age_Group', hue = 'Mental_illness', \n",
    "              order = ['0-18', '18-25', '25-35', '35-45', '45-55', '55-65', '65+']).set(title='Prevalence of Mental Illness across Age Groups of Police Fatality Victims', \n",
    "                                                                                  xlabel='Age Group', ylabel='Count of Cases')"
   ]
  },
  {
   "cell_type": "markdown",
   "metadata": {},
   "source": [
    "I used a countplot to visualize the prevalence of mental illness across age groups because it allowed me to put age groups on the x axis and get the associated counts on the y axis. Countplots work great for comparing counts of categorical variables. The hue argument allowed me to compare those with/without mental illness in the same age group side by side. This plot does a good job at clearly displaying the occurence of mental illness within each age group. "
   ]
  },
  {
   "cell_type": "code",
   "execution_count": null,
   "metadata": {},
   "outputs": [
    {
     "data": {
      "text/plain": [
       "[Text(0.5, 1.0, 'Prevalence of Victims who Fled from Police across Age Groups'),\n",
       " Text(0.5, 0, 'Count of Cases')]"
      ]
     },
     "execution_count": null,
     "metadata": {},
     "output_type": "execute_result"
    },
    {
     "data": {
      "image/png": "[encoded data removed]",
      "text/plain": [
       "<Figure size 640x480 with 1 Axes>"
      ]
     },
     "metadata": {},
     "output_type": "display_data"
    }
   ],
   "source": [
    "#Figure 2\n",
    "\n",
    "sns.countplot(data = df, y = 'Age_Group', hue = 'Flee', order = ['0-18', '18-25', '25-35', '35-45', '45-55', '55-65', '65+']).set(title='Prevalence of Victims who Fled from Police across Age Groups', \n",
    "                                                                                  xlabel='Count of Cases')\n"
   ]
  },
  {
   "cell_type": "markdown",
   "metadata": {},
   "source": [
    "I used the countplot to visualize the occurences of fleeing from police in each age group. As with the plot above, i am interested in the counts of a categorical variable (flee). The countplot allowed me to compare the rates of fleeing/non-fleeing in each age group, side by side. This plot clearly visualizes how flee attempts are most common in the 25-35 age group and less so in more young and more old age groups. "
   ]
  },
  {
   "cell_type": "code",
   "execution_count": null,
   "metadata": {},
   "outputs": [
    {
     "data": {
      "text/plain": [
       "[Text(0.5, 1.0, 'FLeeing Patterns of Victims With or Without Mental Illness, Indexed by Age'),\n",
       " Text(0.5, 0, 'Did the Victim Flee Police?'),\n",
       " Text(0, 0.5, 'Age')]"
      ]
     },
     "execution_count": null,
     "metadata": {},
     "output_type": "execute_result"
    },
    {
     "data": {
      "image/png": "[encoded data removed]",
      "text/plain": [
       "<Figure size 640x480 with 1 Axes>"
      ]
     },
     "metadata": {},
     "output_type": "display_data"
    }
   ],
   "source": [
    "#Figure 3\n",
    "\n",
    "sns.violinplot(x='Flee',y='filtered_age', hue=\"Mental_illness\", data=df).set(title='FLeeing Patterns of Victims With or Without Mental Illness, Indexed by Age', \n",
    "                                                                                  xlabel='Did the Victim Flee Police?', ylabel='Age')"
   ]
  },
  {
   "cell_type": "markdown",
   "metadata": {},
   "source": [
    "I decided to use the violin plot to display the age that fleeing most commonly happens with individuals with/without mental illness. The Orange plots represent the Victims with mental illness, the blue plots represent victims without mental illness. This plot provides us with information on four different groups: those with mental illnes and who fled; those with mental illnes and who didn't flee; those without mental illness and who fled; those without mental illness and who didn't flee. For each group, we can see where their most common age occurs and how it flucuates over time. "
   ]
  },
  {
   "cell_type": "markdown",
   "metadata": {},
   "source": [
    "**EDA Step 8: Summary and Conclusion**"
   ]
  },
  {
   "cell_type": "markdown",
   "metadata": {},
   "source": [
    "**Figure 1**\n",
    "\n",
    "Figure 1 provided insights on the prevalence of mental illness across age groups of victims of police involved fatalities. Occurence of mental illness is at its highest in the 25-35 age range. However, this is also where the most data points are. If you visually compare the occurence of mental illness in the 0-18 & 65+ groups, you notice that the proportion of those with mental illness is much more significant in the 65+ age group than the 0-18. Even comparing the 0-18 with 55-65 (which have similar amounts of individuals without mental illness, the blue bars), we see that the older age group tends to have a greater proportion of individuals with mental illness than the younger age groups. This leads me to conclude that mental illness is more prevalent in the older age groups of victims of police involved fatalities. \n",
    "\n",
    "**Figure 2**\n",
    "\n",
    "Figure 2 provides a visual of individuals who fled police/did not, ordered across age groups. Fleeing was nearly non-existent in the 65+ and 55-65 age groups. Increased fleeing was observed in the 0-18 age group but the majority of individuals who fled fell into the 18-25, 25-25, 35-45 age groups. The plot shows that the tendency to flee increases along ages 0-18, 18-25, 25-35, 35-45 and begins to decrease at age 45-55.  \n",
    "\n",
    "**Figure 3**\n",
    "\n",
    "Figure 3 provides insights into the most common age for fleeing. The hue argument allows us to make this comparison between those with/without mental illness. Victims with mental illness who fled existed in a peak around age 35-40. Victims with mental illness who didn't flee existed most commonly in the 25-45 range (flatter peak than those who fled). Victims without mental illness who fled existed in a peak around 20-35. Victims without mental illness who didn't flee peaked sharply at 25 and then constantly decreased. "
   ]
  },
  {
   "cell_type": "markdown",
   "metadata": {},
   "source": [
    "**Data Analysis Pipeline**"
   ]
  },
  {
   "cell_type": "code",
   "execution_count": null,
   "metadata": {},
   "outputs": [],
   "source": [
    "#packages \n",
    "\n",
    "import pandas as pd\n",
    "import numpy as np\n",
    "import seaborn as sns\n",
    "import os\n",
    "import matplotlib.pyplot as plt"
   ]
  },
  {
   "cell_type": "markdown",
   "metadata": {},
   "source": [
    "**1: Load Data**"
   ]
  },
  {
   "cell_type": "code",
   "execution_count": null,
   "metadata": {},
   "outputs": [],
   "source": [
    "#1: load data \n",
    "\n",
    "df = pd.read_csv('../data/raw/data.csv',encoding=\"ISO-8859-1\")"
   ]
  },
  {
   "cell_type": "markdown",
   "metadata": {},
   "source": [
    "**2: Clean Data**"
   ]
  },
  {
   "cell_type": "code",
   "execution_count": null,
   "metadata": {},
   "outputs": [],
   "source": [
    "# Function that Calculates Outliers\n",
    "\n",
    "def find_outliers_IQR(df):\n",
    "\n",
    "    \"\"\"This function calculates the outliers of a df\"\"\"\n",
    "\n",
    "    q1=df.quantile(0.25)\n",
    "\n",
    "    q3=df.quantile(0.75)\n",
    "\n",
    "    IQR=q3-q1\n",
    "\n",
    "    outliers = df[((df<(q1-1.5*IQR)) | (df>(q3+1.5*IQR)))]\n",
    "\n",
    "    return outliers"
   ]
  },
  {
   "cell_type": "code",
   "execution_count": null,
   "metadata": {},
   "outputs": [],
   "source": [
    "# Find Outliers in Age\n",
    "\n",
    "outliers = find_outliers_IQR(df['Age'])\n"
   ]
  },
  {
   "cell_type": "code",
   "execution_count": null,
   "metadata": {},
   "outputs": [],
   "source": [
    "#Function to Drop Outliers and Create a new df which Replaces Outliers with NULL Value \n",
    "\n",
    "def drop_outliers_IQR(df):\n",
    "\n",
    "   \"\"\"This function replaces outliers with null value\"\"\"\n",
    "\n",
    "   q1=df.quantile(0.25)\n",
    "\n",
    "   q3=df.quantile(0.75)\n",
    "\n",
    "   IQR=q3-q1\n",
    "\n",
    "   not_outliers = df[~((df<(q1-1.5*IQR)) | (df>(q3+1.5*IQR)))]\n",
    "\n",
    "   outliers_dropped = outliers.dropna().reset_index()\n",
    "\n",
    "   return not_outliers"
   ]
  },
  {
   "cell_type": "markdown",
   "metadata": {},
   "source": [
    "**3: Process & Wrangle data**"
   ]
  },
  {
   "cell_type": "code",
   "execution_count": null,
   "metadata": {},
   "outputs": [],
   "source": [
    "# Age category with outliers = NaN \n",
    "    \n",
    "filtered_age = drop_outliers_IQR(df['Age'])"
   ]
  },
  {
   "cell_type": "code",
   "execution_count": null,
   "metadata": {},
   "outputs": [],
   "source": [
    "# Add the altered Age Catgeory \n",
    "\n",
    "df['filtered_age'] = filtered_age"
   ]
  },
  {
   "cell_type": "code",
   "execution_count": null,
   "metadata": {},
   "outputs": [],
   "source": [
    "#drop NaN's\n",
    "\n",
    "df = df.dropna(subset = ['filtered_age'])\n"
   ]
  },
  {
   "cell_type": "code",
   "execution_count": null,
   "metadata": {},
   "outputs": [],
   "source": [
    "#add age category\n",
    "\n",
    "df['Age_Group'] = pd.cut(df['filtered_age'], bins=[0, 18, 25, 35, 45, 55, 65, float('Inf')],\n",
    "                         labels=['0-18', '18-25', '25-35', '35-45', '45-55', '55-65', '65+'])"
   ]
  },
  {
   "cell_type": "code",
   "execution_count": null,
   "metadata": {},
   "outputs": [],
   "source": [
    "#add year category\n",
    "\n",
    "df = df\n",
    "df['year'] = pd.DatetimeIndex(df['Date']).year\n"
   ]
  },
  {
   "cell_type": "code",
   "execution_count": null,
   "metadata": {},
   "outputs": [],
   "source": [
    "#add month category\n",
    "\n",
    "df['month'] = pd.DatetimeIndex(df['Date']).month"
   ]
  },
  {
   "cell_type": "code",
   "execution_count": null,
   "metadata": {},
   "outputs": [
    {
     "name": "stdout",
     "output_type": "stream",
     "text": [
      "No duplicated entries found\n"
     ]
    }
   ],
   "source": [
    "# Checking for duplicated entries\n",
    "\n",
    "if len(df[df.duplicated()]) > 0:\n",
    "    print(\"No. of duplicated entries: \", len(df[df.duplicated()]))\n",
    "    print(df[df.duplicated(keep=False)].sort_values(by=list(df.columns)).head())\n",
    "\n",
    "else:\n",
    "    print(\"No duplicated entries found\")"
   ]
  },
  {
   "cell_type": "code",
   "execution_count": null,
   "metadata": {},
   "outputs": [],
   "source": [
    "#drop NaN's\n",
    "\n",
    "df = df.dropna(subset = ['City'])"
   ]
  },
  {
   "cell_type": "code",
   "execution_count": null,
   "metadata": {},
   "outputs": [],
   "source": [
    "#drop NaN's\n",
    "\n",
    "df = df.dropna(subset = ['Race'])\n"
   ]
  },
  {
   "cell_type": "code",
   "execution_count": null,
   "metadata": {},
   "outputs": [],
   "source": [
    "df = df.dropna(subset = ['Gender'])\n"
   ]
  },
  {
   "cell_type": "code",
   "execution_count": null,
   "metadata": {},
   "outputs": [],
   "source": [
    "victimsByRace = df.groupby(\"State\").Race.value_counts(dropna=False)\n"
   ]
  },
  {
   "cell_type": "code",
   "execution_count": null,
   "metadata": {},
   "outputs": [
    {
     "data": {
      "text/plain": [
       "State  Race    \n",
       "CA     Hispanic    872\n",
       "       White       572\n",
       "       Black       414\n",
       "       Asian        96\n",
       "       Other        24\n",
       "       Native       20\n",
       "TX     White       368\n",
       "       Hispanic    290\n",
       "       Black       233\n",
       "       Asian         7\n",
       "       Other         3\n",
       "       Native        2\n",
       "FL     White       240\n",
       "       Black       222\n",
       "       Hispanic     73\n",
       "       Asian         5\n",
       "       Other         2\n",
       "       Native        1\n",
       "Name: Race, dtype: int64"
      ]
     },
     "execution_count": null,
     "metadata": {},
     "output_type": "execute_result"
    }
   ],
   "source": [
    "#Creates a new DF of the victims by race\n",
    "\n",
    "df_victims = victimsByRace[['CA','TX','FL']]\n",
    "df_victims"
   ]
  },
  {
   "cell_type": "code",
   "execution_count": null,
   "metadata": {},
   "outputs": [],
   "source": [
    "#Doing the same as above, but with Gender instead\n",
    "\n",
    "victimsByGender = df.groupby(\"State\").Gender.value_counts(dropna=False)"
   ]
  },
  {
   "cell_type": "code",
   "execution_count": null,
   "metadata": {},
   "outputs": [
    {
     "data": {
      "text/plain": [
       "State  Gender\n",
       "CA     Male      1903\n",
       "       Female      95\n",
       "TX     Male       871\n",
       "       Female      32\n",
       "FL     Male       511\n",
       "       Female      32\n",
       "Name: Gender, dtype: int64"
      ]
     },
     "execution_count": null,
     "metadata": {},
     "output_type": "execute_result"
    }
   ],
   "source": [
    "df_gender = victimsByGender[['CA','TX','FL']]\n",
    "df_gender"
   ]
  },
  {
   "cell_type": "code",
   "execution_count": null,
   "metadata": {},
   "outputs": [
    {
     "data": {
      "text/html": [
       "<div>\n",
       "<style scoped>\n",
       "    .dataframe tbody tr th:only-of-type {\n",
       "        vertical-align: middle;\n",
       "    }\n",
       "\n",
       "    .dataframe tbody tr th {\n",
       "        vertical-align: top;\n",
       "    }\n",
       "\n",
       "    .dataframe thead th {\n",
       "        text-align: right;\n",
       "    }\n",
       "</style>\n",
       "<table border=\"1\" class=\"dataframe\">\n",
       "  <thead>\n",
       "    <tr style=\"text-align: right;\">\n",
       "      <th></th>\n",
       "      <th>UID</th>\n",
       "      <th>Name</th>\n",
       "      <th>Age</th>\n",
       "      <th>Gender</th>\n",
       "      <th>Race</th>\n",
       "      <th>Date</th>\n",
       "      <th>City</th>\n",
       "      <th>State</th>\n",
       "      <th>Manner_of_death</th>\n",
       "      <th>Armed</th>\n",
       "      <th>Mental_illness</th>\n",
       "      <th>Flee</th>\n",
       "      <th>filtered_age</th>\n",
       "      <th>Age_Group</th>\n",
       "      <th>year</th>\n",
       "      <th>month</th>\n",
       "    </tr>\n",
       "  </thead>\n",
       "  <tbody>\n",
       "    <tr>\n",
       "      <th>0</th>\n",
       "      <td>133</td>\n",
       "      <td>Karen O. Chin</td>\n",
       "      <td>44.0</td>\n",
       "      <td>Female</td>\n",
       "      <td>Asian</td>\n",
       "      <td>5/4/2000</td>\n",
       "      <td>Alameda</td>\n",
       "      <td>CA</td>\n",
       "      <td>Shot</td>\n",
       "      <td>NaN</td>\n",
       "      <td>False</td>\n",
       "      <td>False</td>\n",
       "      <td>44.0</td>\n",
       "      <td>35-45</td>\n",
       "      <td>2000</td>\n",
       "      <td>5</td>\n",
       "    </tr>\n",
       "    <tr>\n",
       "      <th>1</th>\n",
       "      <td>169</td>\n",
       "      <td>Chyraphone Komvongsa</td>\n",
       "      <td>26.0</td>\n",
       "      <td>Male</td>\n",
       "      <td>Asian</td>\n",
       "      <td>6/2/2000</td>\n",
       "      <td>Fresno</td>\n",
       "      <td>CA</td>\n",
       "      <td>Shot</td>\n",
       "      <td>NaN</td>\n",
       "      <td>False</td>\n",
       "      <td>False</td>\n",
       "      <td>26.0</td>\n",
       "      <td>25-35</td>\n",
       "      <td>2000</td>\n",
       "      <td>6</td>\n",
       "    </tr>\n",
       "    <tr>\n",
       "      <th>2</th>\n",
       "      <td>257</td>\n",
       "      <td>Ming Chinh Ly</td>\n",
       "      <td>36.0</td>\n",
       "      <td>Male</td>\n",
       "      <td>Asian</td>\n",
       "      <td>8/13/2000</td>\n",
       "      <td>Rosemead</td>\n",
       "      <td>CA</td>\n",
       "      <td>Shot</td>\n",
       "      <td>Gun</td>\n",
       "      <td>False</td>\n",
       "      <td>False</td>\n",
       "      <td>36.0</td>\n",
       "      <td>35-45</td>\n",
       "      <td>2000</td>\n",
       "      <td>8</td>\n",
       "    </tr>\n",
       "    <tr>\n",
       "      <th>3</th>\n",
       "      <td>483</td>\n",
       "      <td>Kinh Quoc Dao</td>\n",
       "      <td>29.0</td>\n",
       "      <td>Male</td>\n",
       "      <td>Asian</td>\n",
       "      <td>2/9/2001</td>\n",
       "      <td>Valley Glen</td>\n",
       "      <td>CA</td>\n",
       "      <td>Shot</td>\n",
       "      <td>Gun</td>\n",
       "      <td>False</td>\n",
       "      <td>False</td>\n",
       "      <td>29.0</td>\n",
       "      <td>25-35</td>\n",
       "      <td>2001</td>\n",
       "      <td>2</td>\n",
       "    </tr>\n",
       "    <tr>\n",
       "      <th>4</th>\n",
       "      <td>655</td>\n",
       "      <td>Vanpaseuth Phaisouphanh</td>\n",
       "      <td>25.0</td>\n",
       "      <td>Male</td>\n",
       "      <td>Asian</td>\n",
       "      <td>6/10/2001</td>\n",
       "      <td>Riverside</td>\n",
       "      <td>CA</td>\n",
       "      <td>Shot</td>\n",
       "      <td>Knife</td>\n",
       "      <td>False</td>\n",
       "      <td>False</td>\n",
       "      <td>25.0</td>\n",
       "      <td>18-25</td>\n",
       "      <td>2001</td>\n",
       "      <td>6</td>\n",
       "    </tr>\n",
       "  </tbody>\n",
       "</table>\n",
       "</div>"
      ],
      "text/plain": [
       "   UID                     Name   Age  Gender   Race       Date         City  \\\n",
       "0  133            Karen O. Chin  44.0  Female  Asian   5/4/2000      Alameda   \n",
       "1  169     Chyraphone Komvongsa  26.0    Male  Asian   6/2/2000       Fresno   \n",
       "2  257            Ming Chinh Ly  36.0    Male  Asian  8/13/2000     Rosemead   \n",
       "3  483            Kinh Quoc Dao  29.0    Male  Asian   2/9/2001  Valley Glen   \n",
       "4  655  Vanpaseuth Phaisouphanh  25.0    Male  Asian  6/10/2001    Riverside   \n",
       "\n",
       "  State Manner_of_death  Armed  Mental_illness   Flee  filtered_age Age_Group  \\\n",
       "0    CA            Shot    NaN           False  False          44.0     35-45   \n",
       "1    CA            Shot    NaN           False  False          26.0     25-35   \n",
       "2    CA            Shot    Gun           False  False          36.0     35-45   \n",
       "3    CA            Shot    Gun           False  False          29.0     25-35   \n",
       "4    CA            Shot  Knife           False  False          25.0     18-25   \n",
       "\n",
       "   year  month  \n",
       "0  2000      5  \n",
       "1  2000      6  \n",
       "2  2000      8  \n",
       "3  2001      2  \n",
       "4  2001      6  "
      ]
     },
     "execution_count": null,
     "metadata": {},
     "output_type": "execute_result"
    }
   ],
   "source": [
    "df.head()\n",
    "\n",
    "#so far, these steps give us the modified dataset"
   ]
  },
  {
   "cell_type": "markdown",
   "metadata": {},
   "source": [
    "**Analysis**"
   ]
  },
  {
   "cell_type": "markdown",
   "metadata": {},
   "source": [
    "***Question 1: Mental Health Prevalences over Age Groups***"
   ]
  },
  {
   "cell_type": "code",
   "execution_count": null,
   "metadata": {},
   "outputs": [
    {
     "name": "stdout",
     "output_type": "stream",
     "text": [
      "0.1471264367816092\n",
      "0.8528735632183908\n"
     ]
    }
   ],
   "source": [
    "# proportion of Individuals age 0-18 with mental illness and without\n",
    "\n",
    "print(sum((df['Mental_illness']==True) & (df['Age_Group']=='0-18'))/sum(df['Age_Group']=='0-18')), \n",
    "print(sum((df['Mental_illness']==False) & (df['Age_Group']=='0-18'))/sum(df['Age_Group']=='0-18'))"
   ]
  },
  {
   "cell_type": "code",
   "execution_count": null,
   "metadata": {},
   "outputs": [
    {
     "name": "stdout",
     "output_type": "stream",
     "text": [
      "0.1592554291623578\n",
      "0.8407445708376422\n"
     ]
    }
   ],
   "source": [
    "# proportion of Individuals age 18-25 with mental illness and without mental illness\n",
    "\n",
    "\n",
    "print(sum((df['Mental_illness']==True) & (df['Age_Group']=='18-25'))/sum(df['Age_Group']=='18-25')), \n",
    "print(sum((df['Mental_illness']==False) & (df['Age_Group']=='18-25'))/sum(df['Age_Group']=='18-25'))"
   ]
  },
  {
   "cell_type": "code",
   "execution_count": null,
   "metadata": {},
   "outputs": [
    {
     "name": "stdout",
     "output_type": "stream",
     "text": [
      "0.19809885931558935\n",
      "0.8019011406844107\n"
     ]
    }
   ],
   "source": [
    "# proportion of Individuals age 25-35 with mental illness and without mental illness\n",
    "\n",
    "\n",
    "print(sum((df['Mental_illness']==True) & (df['Age_Group']=='25-35'))/sum(df['Age_Group']=='25-35')), \n",
    "print(sum((df['Mental_illness']==False) & (df['Age_Group']=='25-35'))/sum(df['Age_Group']=='25-35'))"
   ]
  },
  {
   "cell_type": "code",
   "execution_count": null,
   "metadata": {},
   "outputs": [
    {
     "name": "stdout",
     "output_type": "stream",
     "text": [
      "0.23151308304891924\n",
      "0.7684869169510807\n"
     ]
    }
   ],
   "source": [
    "# proportion of Individuals age 35-45 with mental illness and without mental illness\n",
    "\n",
    "\n",
    "print(sum((df['Mental_illness']==True) & (df['Age_Group']=='35-45'))/sum(df['Age_Group']=='35-45')), \n",
    "print(sum((df['Mental_illness']==False) & (df['Age_Group']=='35-45'))/sum(df['Age_Group']=='35-45'))"
   ]
  },
  {
   "cell_type": "code",
   "execution_count": null,
   "metadata": {},
   "outputs": [
    {
     "name": "stdout",
     "output_type": "stream",
     "text": [
      "0.303422756706753\n",
      "0.696577243293247\n"
     ]
    }
   ],
   "source": [
    "# proportion of Individuals age 45-55 with mental illness and without mental illness\n",
    "\n",
    "\n",
    "print(sum((df['Mental_illness']==True) & (df['Age_Group']=='45-55'))/sum(df['Age_Group']=='45-55')), \n",
    "print(sum((df['Mental_illness']==False) & (df['Age_Group']=='45-55'))/sum(df['Age_Group']=='45-55'))"
   ]
  },
  {
   "cell_type": "code",
   "execution_count": null,
   "metadata": {},
   "outputs": [
    {
     "name": "stdout",
     "output_type": "stream",
     "text": [
      "0.298876404494382\n",
      "0.701123595505618\n"
     ]
    }
   ],
   "source": [
    "# proportion of Individuals age 55-65 with mental illness and without mental illness\n",
    "\n",
    "\n",
    "print(sum((df['Mental_illness']==True) & (df['Age_Group']=='55-65'))/sum(df['Age_Group']=='55-65')), \n",
    "print(sum((df['Mental_illness']==False) & (df['Age_Group']=='55-65'))/sum(df['Age_Group']=='55-65'))"
   ]
  },
  {
   "cell_type": "code",
   "execution_count": null,
   "metadata": {},
   "outputs": [
    {
     "name": "stdout",
     "output_type": "stream",
     "text": [
      "0.32075471698113206\n",
      "0.6792452830188679\n"
     ]
    }
   ],
   "source": [
    "# proportion of Individuals age 65+ with mental illness and without mental illness\n",
    "\n",
    "\n",
    "print(sum((df['Mental_illness']==True) & (df['Age_Group']=='65+'))/sum(df['Age_Group']=='65+')), \n",
    "print(sum((df['Mental_illness']==False) & (df['Age_Group']=='65+'))/sum(df['Age_Group']=='65+'))"
   ]
  },
  {
   "cell_type": "code",
   "execution_count": null,
   "metadata": {},
   "outputs": [
    {
     "data": {
      "text/plain": [
       "0.12452307456474368"
      ]
     },
     "execution_count": null,
     "metadata": {},
     "output_type": "execute_result"
    }
   ],
   "source": [
    "# Correlation between mental illness=true and Age \n",
    "\n",
    "(df['Mental_illness']==True).corr(df['filtered_age'])"
   ]
  },
  {
   "cell_type": "markdown",
   "metadata": {},
   "source": [
    "**Conclusions:**"
   ]
  },
  {
   "cell_type": "markdown",
   "metadata": {},
   "source": [
    "The presence of mental illness varied across age groups. When examining the proportions of individuals with mental illness within the age groups, a pattern appeared. The youngest age group (0-18) had the lowest proportion of individuals with mental illness. This proportion would get increasingly bigger as it was observed in the older age groups, despite a negligible decrease in mental illness from 45-55 to 55-65. \n",
    "\n",
    "Group 0-18: mental illness proportion of 0.147, ~15%; \n",
    "Group 18-25: mental illness proportion of 0.159, ~16%; \n",
    "Group 25-35: mental illness proportion of 0.198, ~20%; \n",
    "Group 35-45: mental illness proportion of 0.232, ~23%; \n",
    "Group 45-55: mental illness proportion of 0.303, ~30%; \n",
    "Group 55-65: mental illness proportion of 0.299, ~30%; \n",
    "Group 65+: mental illness proportion of 0.321, ~32%. \n",
    "\n",
    "Figure 1: \"Prevalence of Mental Illness across Age Groups of Police Fatality Victims\" does a good job conveying this information. The proportion of mental illness in police fatality victims started lower in the young age groups (15%) and was at its highest in ages 65+ (32%). Perhaps with the passage of time, there is more oppourtunities for mental illness to develop, thus resulting in higher rates in older ages. When discussing police fatality victims, perhaps those who have run ins with police when they are older have lived a life with increased stressors(eg., engaging in illegal activities long term), which could relate to increased levels of mental illness.  \n",
    "\n",
    "When calculating the correlation between the presence of mental illness and age, a small positive correlation was found (r = .13). This suggests that the likelihood of having mental illness covarys with age (i.e., as age increases, so does the likelihood to have mental illness, by factor 'r')."
   ]
  },
  {
   "cell_type": "markdown",
   "metadata": {},
   "source": [
    "***Question 2: Older/Younger Victims Flee Patterns***"
   ]
  },
  {
   "cell_type": "code",
   "execution_count": null,
   "metadata": {},
   "outputs": [
    {
     "name": "stdout",
     "output_type": "stream",
     "text": [
      "0.06436781609195402\n",
      "0.9356321839080459\n"
     ]
    }
   ],
   "source": [
    "# proportion of Individuals age 0-18, Flee vs NO Flee\n",
    "\n",
    "print(sum((df['Flee']==True) & (df['Age_Group']=='0-18'))/sum(df['Age_Group']=='0-18')), \n",
    "print(sum((df['Flee']==False) & (df['Age_Group']=='0-18'))/sum(df['Age_Group']=='0-18'))"
   ]
  },
  {
   "cell_type": "code",
   "execution_count": null,
   "metadata": {},
   "outputs": [
    {
     "name": "stdout",
     "output_type": "stream",
     "text": [
      "0.06153050672182006\n",
      "0.93846949327818\n"
     ]
    }
   ],
   "source": [
    "# proportion of Individuals age 18-25, Flee vs NO Flee\n",
    "\n",
    "print(sum((df['Flee']==True) & (df['Age_Group']=='18-25'))/sum(df['Age_Group']=='18-25')), \n",
    "print(sum((df['Flee']==False) & (df['Age_Group']=='18-25'))/sum(df['Age_Group']=='18-25'))"
   ]
  },
  {
   "cell_type": "code",
   "execution_count": null,
   "metadata": {},
   "outputs": [
    {
     "name": "stdout",
     "output_type": "stream",
     "text": [
      "0.0714828897338403\n",
      "0.9285171102661597\n"
     ]
    }
   ],
   "source": [
    "# proportion of Individuals age 25-35, Flee vs NO Flee\n",
    "\n",
    "print(sum((df['Flee']==True) & (df['Age_Group']=='25-35'))/sum(df['Age_Group']=='25-35')), \n",
    "print(sum((df['Flee']==False) & (df['Age_Group']=='25-35'))/sum(df['Age_Group']=='25-35'))"
   ]
  },
  {
   "cell_type": "code",
   "execution_count": null,
   "metadata": {},
   "outputs": [
    {
     "name": "stdout",
     "output_type": "stream",
     "text": [
      "0.06996587030716724\n",
      "0.9300341296928327\n"
     ]
    }
   ],
   "source": [
    "# proportion of Individuals age 35-45, Flee vs NO Flee\n",
    "\n",
    "print(sum((df['Flee']==True) & (df['Age_Group']=='35-45'))/sum(df['Age_Group']=='35-45')), \n",
    "print(sum((df['Flee']==False) & (df['Age_Group']=='35-45'))/sum(df['Age_Group']=='35-45'))"
   ]
  },
  {
   "cell_type": "code",
   "execution_count": null,
   "metadata": {},
   "outputs": [
    {
     "name": "stdout",
     "output_type": "stream",
     "text": [
      "0.03515263644773358\n",
      "0.9648473635522664\n"
     ]
    }
   ],
   "source": [
    "# proportion of Individuals age 45-55, Flee vs NO Flee\n",
    "\n",
    "print(sum((df['Flee']==True) & (df['Age_Group']=='45-55'))/sum(df['Age_Group']=='45-55')), \n",
    "print(sum((df['Flee']==False) & (df['Age_Group']=='45-55'))/sum(df['Age_Group']=='45-55'))"
   ]
  },
  {
   "cell_type": "code",
   "execution_count": null,
   "metadata": {},
   "outputs": [
    {
     "name": "stdout",
     "output_type": "stream",
     "text": [
      "0.04269662921348315\n",
      "0.9573033707865168\n"
     ]
    }
   ],
   "source": [
    "# proportion of Individuals age 55-65, Flee vs NO Flee\n",
    "\n",
    "print(sum((df['Flee']==True) & (df['Age_Group']=='55-65'))/sum(df['Age_Group']=='55-65')), \n",
    "print(sum((df['Flee']==False) & (df['Age_Group']=='55-65'))/sum(df['Age_Group']=='55-65'))"
   ]
  },
  {
   "cell_type": "code",
   "execution_count": null,
   "metadata": {},
   "outputs": [
    {
     "name": "stdout",
     "output_type": "stream",
     "text": [
      "0.018867924528301886\n",
      "0.9811320754716981\n"
     ]
    }
   ],
   "source": [
    "# proportion of Individuals age 65+, Flee vs NO Flee\n",
    "\n",
    "print(sum((df['Flee']==True) & (df['Age_Group']=='65+'))/sum(df['Age_Group']=='65+')), \n",
    "print(sum((df['Flee']==False) & (df['Age_Group']=='65+'))/sum(df['Age_Group']=='65+'))"
   ]
  },
  {
   "cell_type": "code",
   "execution_count": null,
   "metadata": {},
   "outputs": [
    {
     "data": {
      "text/plain": [
       "-0.034379128516613885"
      ]
     },
     "execution_count": null,
     "metadata": {},
     "output_type": "execute_result"
    }
   ],
   "source": [
    "(df['Flee']==True).corr(df['filtered_age'])"
   ]
  },
  {
   "cell_type": "markdown",
   "metadata": {},
   "source": [
    "**Conclusions**"
   ]
  },
  {
   "cell_type": "markdown",
   "metadata": {},
   "source": [
    "When examining the flee patterns by the age group, a relationship seemed to exist. As expected, the proportion of victims aged 65+ who fled was very little. However, the youngest age groups were not the most likely to flee from police. The prevalences are:\n",
    "\n",
    "Group 0-18: flee proportion of 0.064, ~6.4%; \n",
    "Group 18-25: flee proportion of 0.0615, ~6.2%; \n",
    "Group 25-35: flee proportion of 0.07148, ~7.2%; \n",
    "Group 35-45: flee proportion of 0.0699, ~7.0%; \n",
    "Group 45-55: flee proportion of 0.035, ~3.5%; \n",
    "Group 55-65: flee proportion of 0.04269, ~4.3%; \n",
    "Group 65+: flee proportion of 0.0188, ~1.9%. \n",
    "\n",
    "As seen above, the age group showing the highest flee prevalence was 25-35 followed closely by 35-45. A sharp decrease in fleeing appeared when switching from 35-45 to 45-55 (7.0% to 3.5%; halved). This relationship does not apppear to follow a simple negative linear relationship, so i didn't calculate a simple correlation. \n",
    "\n",
    "Perhaps fleeing from police peaks in middle age because it provides the right mix of confidence and agility. Younger individuals may be agile enough to escape police but do not attempt it because they lack confidence in their ability to do so successfully. Older individuals tend to have decreased agility, which may explain why the flee rates drop around age 45-55. Clearly, other variables are influencing the relationship between age and fleeing from police. For example, perhaps vicitms aged 0-18 do not flee as much because they are know they are minors, which may have implications for legal sentencing.  "
   ]
  },
  {
   "cell_type": "markdown",
   "metadata": {},
   "source": [
    "***Question 3: What age is fleeing most common for those with/without Mental Illness?***"
   ]
  },
  {
   "cell_type": "code",
   "execution_count": null,
   "metadata": {},
   "outputs": [
    {
     "name": "stdout",
     "output_type": "stream",
     "text": [
      "54\n"
     ]
    }
   ],
   "source": [
    "# Amount of Victims who Fled AND have Mental Illness\n",
    "\n",
    "print(sum((df['Flee']==True) & (df['Mental_illness']==True)))\n",
    "\n",
    "#quite a small amount, less than i anticipated"
   ]
  },
  {
   "cell_type": "code",
   "execution_count": null,
   "metadata": {},
   "outputs": [
    {
     "name": "stdout",
     "output_type": "stream",
     "text": [
      "2\n",
      "0.004597701149425287\n"
     ]
    }
   ],
   "source": [
    "print(sum((df['Flee']==True) & (df['Mental_illness']==True) & (df['Age_Group']=='0-18'))),\n",
    "print(sum((df['Flee']==True) & (df['Mental_illness']==True) & (df['Age_Group']=='0-18'))/sum(df['Age_Group']=='0-18'))\n"
   ]
  },
  {
   "cell_type": "code",
   "execution_count": null,
   "metadata": {},
   "outputs": [
    {
     "name": "stdout",
     "output_type": "stream",
     "text": [
      "9\n",
      "0.004653567735263702\n"
     ]
    }
   ],
   "source": [
    "print(sum((df['Flee']==True) & (df['Mental_illness']==True) & (df['Age_Group']=='18-25'))), \n",
    "print(sum((df['Flee']==True) & (df['Mental_illness']==True) & (df['Age_Group']=='18-25'))/sum(df['Age_Group']=='18-25'))\n"
   ]
  },
  {
   "cell_type": "code",
   "execution_count": null,
   "metadata": {},
   "outputs": [
    {
     "name": "stdout",
     "output_type": "stream",
     "text": [
      "20\n",
      "0.0076045627376425855\n"
     ]
    }
   ],
   "source": [
    "print(sum((df['Flee']==True) & (df['Mental_illness']==True) & (df['Age_Group']=='25-35'))),\n",
    "print(sum((df['Flee']==True) & (df['Mental_illness']==True) & (df['Age_Group']=='25-35'))/sum(df['Age_Group']=='25-35'))\n"
   ]
  },
  {
   "cell_type": "code",
   "execution_count": null,
   "metadata": {},
   "outputs": [
    {
     "name": "stdout",
     "output_type": "stream",
     "text": [
      "17\n",
      "0.009670079635949944\n"
     ]
    }
   ],
   "source": [
    "print(sum((df['Flee']==True) & (df['Mental_illness']==True) & (df['Age_Group']=='35-45'))),\n",
    "print(sum((df['Flee']==True) & (df['Mental_illness']==True) & (df['Age_Group']=='35-45'))/sum(df['Age_Group']=='35-45'))\n"
   ]
  },
  {
   "cell_type": "code",
   "execution_count": null,
   "metadata": {},
   "outputs": [
    {
     "name": "stdout",
     "output_type": "stream",
     "text": [
      "5\n",
      "0.004625346901017576\n"
     ]
    }
   ],
   "source": [
    "print(sum((df['Flee']==True) & (df['Mental_illness']==True) & (df['Age_Group']=='45-55'))),\n",
    "print(sum((df['Flee']==True) & (df['Mental_illness']==True) & (df['Age_Group']=='45-55'))/sum(df['Age_Group']=='45-55'))\n"
   ]
  },
  {
   "cell_type": "code",
   "execution_count": null,
   "metadata": {},
   "outputs": [
    {
     "name": "stdout",
     "output_type": "stream",
     "text": [
      "1\n",
      "0.0022471910112359553\n"
     ]
    }
   ],
   "source": [
    "print(sum((df['Flee']==True) & (df['Mental_illness']==True) & (df['Age_Group']=='55-65'))), \n",
    "print(sum((df['Flee']==True) & (df['Mental_illness']==True) & (df['Age_Group']=='55-65'))/sum(df['Age_Group']=='55-65'))"
   ]
  },
  {
   "cell_type": "code",
   "execution_count": null,
   "metadata": {},
   "outputs": [
    {
     "name": "stdout",
     "output_type": "stream",
     "text": [
      "0\n",
      "0.0\n"
     ]
    }
   ],
   "source": [
    "print(sum((df['Flee']==True) & (df['Mental_illness']==True) & (df['Age_Group']=='65+'))),\n",
    "print(sum((df['Flee']==True) & (df['Mental_illness']==True) & (df['Age_Group']=='65+'))/sum(df['Age_Group']=='65+'))\n"
   ]
  },
  {
   "cell_type": "code",
   "execution_count": null,
   "metadata": {},
   "outputs": [
    {
     "name": "stdout",
     "output_type": "stream",
     "text": [
      "463\n"
     ]
    }
   ],
   "source": [
    "# Amount of Victims who Fled and DON'T have Mental Illness\n",
    "\n",
    "print(sum((df['Flee']==True) & (df['Mental_illness']==False)))\n",
    "\n",
    "#many more fled when mental_illness=False"
   ]
  },
  {
   "cell_type": "code",
   "execution_count": null,
   "metadata": {},
   "outputs": [
    {
     "name": "stdout",
     "output_type": "stream",
     "text": [
      "26\n",
      "0.059770114942528735\n"
     ]
    }
   ],
   "source": [
    "print(sum((df['Flee']==True) & (df['Mental_illness']==False) & (df['Age_Group']=='0-18'))), \n",
    "print(sum((df['Flee']==True) & (df['Mental_illness']==False) & (df['Age_Group']=='0-18'))/sum(df['Age_Group']=='0-18'))\n"
   ]
  },
  {
   "cell_type": "code",
   "execution_count": null,
   "metadata": {},
   "outputs": [
    {
     "name": "stdout",
     "output_type": "stream",
     "text": [
      "110\n",
      "0.05687693898655636\n"
     ]
    }
   ],
   "source": [
    "print(sum((df['Flee']==True) & (df['Mental_illness']==False) & (df['Age_Group']=='18-25'))), \n",
    "print(sum((df['Flee']==True) & (df['Mental_illness']==False) & (df['Age_Group']=='18-25'))/sum(df['Age_Group']=='18-25'))\n"
   ]
  },
  {
   "cell_type": "code",
   "execution_count": null,
   "metadata": {},
   "outputs": [
    {
     "name": "stdout",
     "output_type": "stream",
     "text": [
      "168\n",
      "0.06387832699619772\n"
     ]
    }
   ],
   "source": [
    "print(sum((df['Flee']==True) & (df['Mental_illness']==False) & (df['Age_Group']=='25-35'))), \n",
    "print(sum((df['Flee']==True) & (df['Mental_illness']==False) & (df['Age_Group']=='25-35'))/sum(df['Age_Group']=='25-35'))\n"
   ]
  },
  {
   "cell_type": "code",
   "execution_count": null,
   "metadata": {},
   "outputs": [
    {
     "name": "stdout",
     "output_type": "stream",
     "text": [
      "106\n",
      "0.06029579067121729\n"
     ]
    }
   ],
   "source": [
    "print(sum((df['Flee']==True) & (df['Mental_illness']==False) & (df['Age_Group']=='35-45'))),\n",
    "print(sum((df['Flee']==True) & (df['Mental_illness']==False) & (df['Age_Group']=='35-45'))/sum(df['Age_Group']=='35-45'))\n"
   ]
  },
  {
   "cell_type": "code",
   "execution_count": null,
   "metadata": {},
   "outputs": [
    {
     "name": "stdout",
     "output_type": "stream",
     "text": [
      "33\n",
      "0.030527289546716005\n"
     ]
    }
   ],
   "source": [
    "print(sum((df['Flee']==True) & (df['Mental_illness']==False) & (df['Age_Group']=='45-55'))),\n",
    "print(sum((df['Flee']==True) & (df['Mental_illness']==False) & (df['Age_Group']=='45-55'))/sum(df['Age_Group']=='45-55'))\n"
   ]
  },
  {
   "cell_type": "code",
   "execution_count": null,
   "metadata": {},
   "outputs": [
    {
     "name": "stdout",
     "output_type": "stream",
     "text": [
      "18\n",
      "0.04044943820224719\n"
     ]
    }
   ],
   "source": [
    "print(sum((df['Flee']==True) & (df['Mental_illness']==False) & (df['Age_Group']=='55-65'))), \n",
    "print(sum((df['Flee']==True) & (df['Mental_illness']==False) & (df['Age_Group']=='55-65'))/sum(df['Age_Group']=='55-65'))\n"
   ]
  },
  {
   "cell_type": "code",
   "execution_count": null,
   "metadata": {},
   "outputs": [
    {
     "name": "stdout",
     "output_type": "stream",
     "text": [
      "2\n",
      "0.018867924528301886\n"
     ]
    }
   ],
   "source": [
    "print(sum((df['Flee']==True) & (df['Mental_illness']==False) & (df['Age_Group']=='65+'))),\n",
    "print(sum((df['Flee']==True) & (df['Mental_illness']==False) & (df['Age_Group']=='65+'))/sum(df['Age_Group']=='65+'))\n"
   ]
  },
  {
   "cell_type": "markdown",
   "metadata": {},
   "source": [
    "**Conclusions:**"
   ]
  },
  {
   "cell_type": "markdown",
   "metadata": {},
   "source": [
    "Victims without mental illness tended to flee more than victims with mental illness across every age group. This is somewhat suprising; one may expect those with mental illness to flee police more commonly due to issues with perception and social functioning. Based on these findings, it is apparent that those who decided to flee and didn't have mental illness fled police in a purposeful, deliberate manner. Victims with mental illness showed smaller flee proportions across all age groups. Overall, victims with mental illness who fled police were quite uncommon in comparison to flee'ers without mental illness. Based on these findings, it appears fleeing behaviour has a positive relationship with the absence of mental illness (i.e., in this dataset, the absence of mental illness results in an increased chance for fleeing behaviours).  \n",
    "\n",
    "For those with mental illness, the age group where fleeing was most common (via proportions) was 35-45 (0.0097, ~1%), followed by 25-35 (0.0076, ~0.75%). Interestingly, no victims aged 65+ with mental illness fled. \n",
    "\n",
    "For those without mental illness, the age group where fleeing was most common (via proportions) was 25-35 (0.0639, ~6.4%), followed by 35-45 (0.0603, 6.03%). 2 victims aged 65+ fled (0.019, ~1.9%). "
   ]
  }
 ],
 "metadata": {
  "kernelspec": {
   "display_name": "Python 3 (ipykernel)",
   "language": "python",
   "name": "python3"
  }
 },
 "nbformat": 4,
 "nbformat_minor": 4
}
