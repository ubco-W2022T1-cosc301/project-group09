{
 "cells": [
  {
   "cell_type": "markdown",
   "id": "1238d846-c7d5-4064-a3f7-aa315bc81b24",
   "metadata": {},
   "source": [
    "**Functions used**"
   ]
  },
  {
   "cell_type": "code",
   "execution_count": null,
   "id": "1c21c553-43dd-4202-ac1f-85829fba6003",
   "metadata": {},
   "outputs": [],
   "source": [
    "# Function that Calculates Outliers\n",
    "\n",
    "def find_outliers_IQR(df):\n",
    "\n",
    "    \"\"\"This function calculates the outliers of a df\"\"\"\n",
    "\n",
    "    q1=df.quantile(0.25)\n",
    "\n",
    "    q3=df.quantile(0.75)\n",
    "\n",
    "    IQR=q3-q1\n",
    "\n",
    "    outliers = df[((df<(q1-1.5*IQR)) | (df>(q3+1.5*IQR)))]\n",
    "\n",
    "    return outliers"
   ]
  },
  {
   "cell_type": "code",
   "execution_count": null,
   "id": "171c90d3-a291-4645-af95-00ed56cfc343",
   "metadata": {},
   "outputs": [],
   "source": [
    "#Function to Drop Outliers and Create a new df which Replaces Outliers with NULL Value \n",
    "\n",
    "def drop_outliers_IQR(df):\n",
    "\n",
    "   \"\"\"This function replaces outliers with null value\"\"\"\n",
    "\n",
    "   q1=df.quantile(0.25)\n",
    "\n",
    "   q3=df.quantile(0.75)\n",
    "\n",
    "   IQR=q3-q1\n",
    "\n",
    "   not_outliers = df[~((df<(q1-1.5*IQR)) | (df>(q3+1.5*IQR)))]\n",
    "\n",
    "   outliers_dropped = outliers.dropna().reset_index()\n",
    "\n",
    "   return not_outliers"
   ]
  },
  {
   "cell_type": "code",
   "execution_count": null,
   "id": "4de5dfa3-3cb2-4a8a-9635-110cd5e9eea2",
   "metadata": {},
   "outputs": [],
   "source": []
  }
 ],
 "metadata": {
  "kernelspec": {
   "display_name": "Python 3 (ipykernel)",
   "language": "python",
   "name": "python3"
  }
 },
 "nbformat": 4,
 "nbformat_minor": 5
}
